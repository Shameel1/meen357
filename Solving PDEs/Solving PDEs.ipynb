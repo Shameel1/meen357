{
 "cells": [
  {
   "cell_type": "markdown",
   "metadata": {},
   "source": [
    "# MEEN 357 - Summer 2025\n",
    "### Submission Instructions\n",
    "\n",
    "- **Run All Cells**: Before submitting, go to **Kernel > Restart Kernel & Run All Cells** to ensure your code runs without errors. Submissions with errors will receive a **ZERO** grade.\n",
    "- **Enter Your Name**: Fill in your name in the provided cell.\n",
    "- **Complete the Code**: Replace all instances of `YOUR CODE HERE` with your solution. Remove `raise NotImplementedError()`.\n",
    "- **Maintain Structure**: Do not add or remove any cells.\n",
    "- **Test Your Code**: Run the provided tests to check your answers. Note that additional hidden tests may be used during grading.\n",
    "- **Partial Credit**: Will be awarded only if your code runs error-free.\n",
    "- **Save and Submit**: Ensure you submit the latest, correct version of your assignment by checking the last modified time.\n"
   ]
  },
  {
   "cell_type": "code",
   "execution_count": null,
   "metadata": {},
   "outputs": [],
   "source": [
    "NAME = \"\""
   ]
  },
  {
   "cell_type": "code",
   "execution_count": null,
   "metadata": {},
   "outputs": [],
   "source": [
    "import IPython\n",
    "assert IPython.version_info[0] >= 3.8, \"Your version of IPython is too old, please update it.\""
   ]
  },
  {
   "cell_type": "markdown",
   "metadata": {},
   "source": [
    "---"
   ]
  },
  {
   "cell_type": "markdown",
   "metadata": {
    "deletable": false,
    "editable": false,
    "nbgrader": {
     "cell_type": "markdown",
     "checksum": "98d0030c88bb1cfb5189ce765b5ef920",
     "grade": false,
     "grade_id": "cell-b11333355e4eba1d",
     "locked": true,
     "schema_version": 3,
     "solution": false,
     "task": false
    }
   },
   "source": [
    "# Solving PDEs\n",
    "\n",
    "### Explicit methods  \n",
    "* [Explicit method](#Explicit-method) (7 points)\n",
    "\n",
    "### Implicit methods\n",
    "* [Implicit method](#Implicit-method) (7 points)\n",
    "\n",
    "### Script\n",
    "* [Solve PDE with both functions](#Solve-the-heat-Equation)  (6 points)\n"
   ]
  },
  {
   "cell_type": "code",
   "execution_count": null,
   "metadata": {},
   "outputs": [],
   "source": [
    "import numpy as np\n",
    "import matplotlib.pyplot as plt"
   ]
  },
  {
   "cell_type": "markdown",
   "metadata": {
    "deletable": false,
    "editable": false,
    "nbgrader": {
     "cell_type": "markdown",
     "checksum": "9ec651868d7dc8c1c8d1b26b1c9d230e",
     "grade": false,
     "grade_id": "cell-9c63cce311adacc9",
     "locked": true,
     "schema_version": 3,
     "solution": false,
     "task": false
    }
   },
   "source": [
    "## Explicit method\n",
    "\n",
    "Write a function \" *heatEquationExplicit* \" that takes the following inputs\n",
    "\n",
    "* **x** , the input vector x. This will be a vector of equal step size, $h$.\n",
    "* **t** , the time vector t. This will be a vector of equal step size, $k$.\n",
    "* **boundaryConditions** , the boundary conditions $T(x=0, t)\\ and\\ T(x=L, t)$\n",
    "* **initialConditions** , the initial conditions $T(x,t=0)$\n",
    "\n",
    "and returns the solution to the PDE \n",
    "$$\\frac{\\partial^2u}{\\partial x^2} -  \\frac{\\partial u}{\\partial t} = 0$$\n",
    "\n",
    "computed using the Explicit method.\n",
    "\n",
    "* **T** , the solution matrix (whose number of rows = length of position vector, $x$, and number of columns = length of time, $t$ )\n",
    "\n",
    "The equation derived with the Explicit method for finding the Temperature in the next time value is given below.\n",
    "\n",
    "$T(x,t+k) = \\lambda\\ T(x-h, t)+(1-2\\lambda)\\ T(x,t)+\\lambda\\ T(x+h, t)$\n",
    "\n",
    "The same can be expressed in terms of the row (position) and column (time) indicies as\n",
    "\n",
    "$T_{i,j} = \\lambda\\ T_{i-1, j-1}+(1-2\\lambda)\\ T_{i,j-1}+\\lambda\\ T_{i+1, j-1}$"
   ]
  },
  {
   "cell_type": "code",
   "execution_count": null,
   "metadata": {
    "deletable": false,
    "nbgrader": {
     "cell_type": "code",
     "checksum": "500e74fdafe16a57bc858c744d3af2d6",
     "grade": false,
     "grade_id": "Explicit",
     "locked": false,
     "schema_version": 3,
     "solution": true,
     "task": false
    }
   },
   "outputs": [],
   "source": [
    "def heatEquationExplicit(x, t, boundaryConditions, initialConditions):\n",
    "    # YOUR CODE HERE\n",
    "    raise NotImplementedError()\n"
   ]
  },
  {
   "cell_type": "code",
   "execution_count": null,
   "metadata": {
    "deletable": false,
    "nbgrader": {
     "cell_type": "code",
     "checksum": "b9377308da0a09c5deca9df34babde75",
     "grade": true,
     "grade_id": "Explicit_script",
     "locked": false,
     "points": 0,
     "schema_version": 3,
     "solution": true,
     "task": false
    }
   },
   "outputs": [],
   "source": [
    "# Test your function here.\n",
    "# YOUR CODE HERE\n",
    "raise NotImplementedError()"
   ]
  },
  {
   "cell_type": "markdown",
   "metadata": {
    "deletable": false,
    "editable": false,
    "nbgrader": {
     "cell_type": "markdown",
     "checksum": "9e0abed9521fc312133986c08aa9eca9",
     "grade": false,
     "grade_id": "cell-816bd1bc4a497702",
     "locked": true,
     "schema_version": 3,
     "solution": false,
     "task": false
    }
   },
   "source": [
    "### Test code"
   ]
  },
  {
   "cell_type": "code",
   "execution_count": null,
   "metadata": {
    "deletable": false,
    "editable": false,
    "nbgrader": {
     "cell_type": "code",
     "checksum": "e833e84d65e05bac1e7d04ea41c16319",
     "grade": true,
     "grade_id": "Explicit_test",
     "locked": true,
     "points": 7,
     "schema_version": 3,
     "solution": false,
     "task": false
    }
   },
   "outputs": [],
   "source": [
    "k = 0.025\n",
    "\n",
    "QandA = [[0.25, np.array([0.707, 0.541, 0.415, 0.317, 0.243])],\n",
    "[0.2, np.array([0.588, 0.447, 0.341, 0.259, 0.197])],\n",
    "[0.1, np.array([0.309, 0.233, 0.176, 0.133, 0.101])],\n",
    "[0.125, np.array([0.383, 0.289, 0.219, 0.166, 0.125])]]\n",
    "for h, Answer in QandA:\n",
    "    x = np.arange(0,1+h,h).round(3)\n",
    "    t = np.arange(0,0.1+k,k).round(3)\n",
    "    boundaryConditions = [0,0]\n",
    "    initialConditions = np.sin(np.pi*x)\n",
    "    T = heatEquationExplicit(x, t, boundaryConditions, initialConditions)\n",
    "    studentAnswer = T[1].round(3)\n",
    "    assert np.allclose(studentAnswer, Answer), f' Did not work for {h=}. \\nExpected {Answer=}. \\nGot {studentAnswer=}'\n",
    "\n",
    "print('All correct. Good work !')"
   ]
  },
  {
   "cell_type": "markdown",
   "metadata": {
    "deletable": false,
    "editable": false,
    "nbgrader": {
     "cell_type": "markdown",
     "checksum": "8b576e4dfa9780b7c9b0f9ddbef08b0c",
     "grade": false,
     "grade_id": "cell-9c63cce31",
     "locked": true,
     "schema_version": 3,
     "solution": false,
     "task": false
    }
   },
   "source": [
    "## Implicit method\n",
    "\n",
    "Write a function \" *heatEquationImplicit* \" that takes the following inputs\n",
    "\n",
    "* **x** , the input vector x. This will be a vector of equal step size, $h$.\n",
    "* **t** , the time vector t. This will be a vector of equal step size, $k$.\n",
    "* **boundaryConditions** , the boundary conditions $T(x=0, t)\\ and\\ T(x=L, t)$\n",
    "* **initialConditions** , the initial conditions $T(x,t=0)$\n",
    "\n",
    "and returns the solution to the PDE \n",
    "$$\\frac{\\partial^2u}{\\partial x^2} -  \\frac{\\partial u}{\\partial t} = 0$$\n",
    "\n",
    "computed using the Implicit method.\n",
    "\n",
    "* **T** , the solution matrix (whose number of rows = length of position vector, $x$, and number of columns = length of time, $t$ )\n",
    "\n",
    "The equation derived with the Implicit method for finding the Temperature in the next time value is given below.\n",
    "\n",
    "$ -\\lambda\\ T(x-h, t)+(1+2\\lambda)\\ T(x,t)-\\lambda\\ T(x+h, t) = T(x,t-k)$\n",
    "\n",
    "The same can be expressed in terms of the row (position) and column (time) indicies as\n",
    "\n",
    "$ -\\lambda\\ T_{i-1, j}+(1+2\\lambda)\\ T_{i,j}-\\lambda\\ T_{i+1, j} = T_{i,j-1}$"
   ]
  },
  {
   "cell_type": "code",
   "execution_count": null,
   "metadata": {
    "deletable": false,
    "nbgrader": {
     "cell_type": "code",
     "checksum": "3ce4557f7ff86d1555f856780c5c46ff",
     "grade": false,
     "grade_id": "Implicit",
     "locked": false,
     "schema_version": 3,
     "solution": true,
     "task": false
    }
   },
   "outputs": [],
   "source": [
    "# YOUR CODE HERE\n",
    "raise NotImplementedError()"
   ]
  },
  {
   "cell_type": "code",
   "execution_count": null,
   "metadata": {
    "deletable": false,
    "nbgrader": {
     "cell_type": "code",
     "checksum": "4fbf985824a6ff567370903bf8486990",
     "grade": true,
     "grade_id": "CNscript",
     "locked": false,
     "points": 0,
     "schema_version": 3,
     "solution": true,
     "task": false
    }
   },
   "outputs": [],
   "source": [
    "# Test your function here.\n",
    "# YOUR CODE HERE\n",
    "raise NotImplementedError()"
   ]
  },
  {
   "cell_type": "markdown",
   "metadata": {
    "deletable": false,
    "editable": false,
    "nbgrader": {
     "cell_type": "markdown",
     "checksum": "fbed22e9f1004b97b2ed1353adaaeee3",
     "grade": false,
     "grade_id": "cell-8162",
     "locked": true,
     "schema_version": 3,
     "solution": false,
     "task": false
    }
   },
   "source": [
    "### Tests"
   ]
  },
  {
   "cell_type": "code",
   "execution_count": null,
   "metadata": {
    "deletable": false,
    "editable": false,
    "nbgrader": {
     "cell_type": "code",
     "checksum": "b3ab50885c5bb8b614dd2529b331925f",
     "grade": true,
     "grade_id": "imp_test",
     "locked": true,
     "points": 7,
     "schema_version": 3,
     "solution": false,
     "task": false
    }
   },
   "outputs": [],
   "source": [
    "k = 0.025\n",
    "\n",
    "QandA = [[0.25, np.array([0.707, 0.573, 0.464, 0.376, 0.305])] ,\n",
    "[0.2, np.array([0.588, 0.475, 0.383, 0.309, 0.25 ])] ,\n",
    "[0.1, np.array([0.309, 0.248, 0.199, 0.16 , 0.129])] ,\n",
    "[0.125, np.array([0.383, 0.308, 0.247, 0.199, 0.16 ])]]\n",
    "for h, Answer in QandA:\n",
    "    x = np.arange(0,1+h,h).round(3)\n",
    "    t = np.arange(0,0.1+k,k).round(3)\n",
    "    boundaryConditions = [0,0]\n",
    "    initialConditions = np.sin(np.pi*x)\n",
    "    T = heatEquationImplicit(x, t, boundaryConditions, initialConditions)\n",
    "    studentAnswer = T[1].round(3)\n",
    "    assert np.allclose(studentAnswer, Answer), f' Did not work for {h=}. \\nExpected {Answer=}. \\nGot {studentAnswer=}'\n",
    "\n",
    "print('All correct. Good work !')"
   ]
  },
  {
   "cell_type": "markdown",
   "metadata": {
    "deletable": false,
    "editable": false,
    "nbgrader": {
     "cell_type": "markdown",
     "checksum": "cb231218d9ef3cc9b8bdfeb80b4a76f5",
     "grade": false,
     "grade_id": "cell-7ee3b9e1cffe5d11",
     "locked": true,
     "schema_version": 3,
     "solution": false,
     "task": false
    }
   },
   "source": [
    "### Solve the heat Equation\n",
    "Solve the folloing PDE using the Explicit method, and the Implicit method developed above. \n",
    "$$\\frac{\\partial^2u}{\\partial x^2} -  \\frac{\\partial u}{\\partial t} = 0$$\n",
    "\n",
    "* Solve it\n",
    "    * from $x = 0$ to $x=1$ with a step size of $h = 0.10$, and \n",
    "    * from $t = 0$ to $t=1$ with a step size of $k = 0.025$. \n",
    "    * The boundary conditions are, $T(0,t) = T(1,t) = 0$\n",
    "    * The initial condition at $T(x,0) = sin(\\pi x)$. \n",
    "* Store the result for\n",
    "    * Explicit method in **T_Explicit**\n",
    "    * Implicit method in **T_Implicit**\n",
    "\n",
    "* Create 2 subplots side by side for the Explicit method and the Implicit method. Plot the temperature vs time graph for the various times on the same figure.\n",
    "    * Save the plot as **PDE_Heat_equation.jpg**\n",
    "\n"
   ]
  },
  {
   "cell_type": "code",
   "execution_count": null,
   "metadata": {
    "deletable": false,
    "nbgrader": {
     "cell_type": "code",
     "checksum": "d3a53b42e97f7135d7b042c264150b5b",
     "grade": true,
     "grade_id": "PDE_script",
     "locked": false,
     "points": 3,
     "schema_version": 3,
     "solution": true,
     "task": false
    }
   },
   "outputs": [],
   "source": [
    "# YOUR CODE HERE\n",
    "raise NotImplementedError()"
   ]
  },
  {
   "cell_type": "code",
   "execution_count": null,
   "metadata": {
    "deletable": false,
    "editable": false,
    "nbgrader": {
     "cell_type": "code",
     "checksum": "225475030fe8cb415899fd15e6a99428",
     "grade": true,
     "grade_id": "cell-9116ab7142e73143",
     "locked": true,
     "points": 3,
     "schema_version": 3,
     "solution": false,
     "task": false
    }
   },
   "outputs": [],
   "source": [
    "Answer = [np.array([[0.    , 0.    , 0.    , 0.    , 0.    ],\n",
    "       [0.309 , 0.2334, 0.1763, 0.1331, 0.1006],\n",
    "       [0.5878, 0.4439, 0.3353, 0.2532, 0.1913],\n",
    "       [0.809 , 0.611 , 0.4615, 0.3486, 0.2633],\n",
    "       [0.9511, 0.7183, 0.5425, 0.4098, 0.3095],\n",
    "       [1.    , 0.7553, 0.5705, 0.4309, 0.3254],\n",
    "       [0.9511, 0.7183, 0.5425, 0.4098, 0.3095],\n",
    "       [0.809 , 0.611 , 0.4615, 0.3486, 0.2633],\n",
    "       [0.5878, 0.4439, 0.3353, 0.2532, 0.1913],\n",
    "       [0.309 , 0.2334, 0.1763, 0.1331, 0.1006],\n",
    "       [0.    , 0.    , 0.    , 0.    , 0.    ]]), np.array([[0.    , 0.    , 0.    , 0.    , 0.    ],\n",
    "       [0.309 , 0.2483, 0.1995, 0.1602, 0.1287],\n",
    "       [0.5878, 0.4722, 0.3794, 0.3048, 0.2449],\n",
    "       [0.809 , 0.65  , 0.5222, 0.4195, 0.337 ],\n",
    "       [0.9511, 0.7641, 0.6139, 0.4932, 0.3962],\n",
    "       [1.    , 0.8034, 0.6454, 0.5185, 0.4166],\n",
    "       [0.9511, 0.7641, 0.6139, 0.4932, 0.3962],\n",
    "       [0.809 , 0.65  , 0.5222, 0.4195, 0.337 ],\n",
    "       [0.5878, 0.4722, 0.3794, 0.3048, 0.2449],\n",
    "       [0.309 , 0.2483, 0.1995, 0.1602, 0.1287],\n",
    "       [0.0    , 0.    , 0.    , 0.    , 0.    ]])]\n",
    "assert np.allclose(T_Explicit.round(4), Answer[0]), f' Did not generate the correct answer from the Explicit method'\n",
    "assert np.allclose(T_Implicit.round(4), Answer[1]), f' Did not generate the correct answer from the Crank Nicholson method'\n",
    "print('All correct. Good work !')\n"
   ]
  }
 ],
 "metadata": {
  "kernelspec": {
   "display_name": "Python 3 (ipykernel)",
   "language": "python",
   "name": "python3"
  },
  "language_info": {
   "codemirror_mode": {
    "name": "ipython",
    "version": 3
   },
   "file_extension": ".py",
   "mimetype": "text/x-python",
   "name": "python",
   "nbconvert_exporter": "python",
   "pygments_lexer": "ipython3",
   "version": "3.10.4"
  }
 },
 "nbformat": 4,
 "nbformat_minor": 2
}
