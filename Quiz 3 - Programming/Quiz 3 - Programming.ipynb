{
 "cells": [
  {
   "cell_type": "markdown",
   "metadata": {},
   "source": [
    "# MEEN 357 - Summer 2025\n",
    "### Submission Instructions\n",
    "\n",
    "- **Run All Cells**: Before submitting, go to **Kernel > Restart Kernel & Run All Cells** to ensure your code runs without errors. Submissions with errors will receive a **ZERO** grade.\n",
    "- **Enter Your Name**: Fill in your name in the provided cell.\n",
    "- **Complete the Code**: Replace all instances of `YOUR CODE HERE` with your solution. Remove `raise NotImplementedError()`.\n",
    "- **Maintain Structure**: Do not add or remove any cells.\n",
    "- **Test Your Code**: Run the provided tests to check your answers. Note that additional hidden tests may be used during grading.\n",
    "- **Partial Credit**: Will be awarded only if your code runs error-free.\n",
    "- **Save and Submit**: Ensure you submit the latest, correct version of your assignment by checking the last modified time.\n"
   ]
  },
  {
   "cell_type": "code",
   "execution_count": null,
   "metadata": {},
   "outputs": [],
   "source": [
    "NAME = \"\""
   ]
  },
  {
   "cell_type": "code",
   "execution_count": null,
   "metadata": {},
   "outputs": [],
   "source": [
    "import IPython\n",
    "assert IPython.version_info[0] >= 3.8, \"Your version of IPython is too old, please update it.\""
   ]
  },
  {
   "cell_type": "markdown",
   "metadata": {},
   "source": [
    "---"
   ]
  },
  {
   "cell_type": "markdown",
   "metadata": {
    "deletable": false,
    "editable": false,
    "nbgrader": {
     "cell_type": "markdown",
     "checksum": "f011fc0b29768224d4856012ca1ad5cb",
     "grade": false,
     "grade_id": "cell-b11333355e4eba1d",
     "locked": true,
     "schema_version": 3,
     "solution": false,
     "task": false
    }
   },
   "source": [
    "# Quiz 3 - Programming\n",
    "* [Stress Analysis of Bracket Designs](#Stress-Analysis-of-Bracket-Designs) (4 points)\n",
    "* [Bisection method](#Bisection-method) (6 points)\n"
   ]
  },
  {
   "cell_type": "code",
   "execution_count": null,
   "metadata": {
    "deletable": false,
    "editable": false,
    "nbgrader": {
     "cell_type": "code",
     "checksum": "cc9afb5092aed2826cd638aa0415d1a4",
     "grade": false,
     "grade_id": "cell-29ea9fefca235322",
     "locked": true,
     "schema_version": 3,
     "solution": false,
     "task": false
    }
   },
   "outputs": [],
   "source": [
    "import numpy as np\n",
    "import pandas as pd"
   ]
  },
  {
   "cell_type": "markdown",
   "metadata": {
    "deletable": false,
    "editable": false,
    "nbgrader": {
     "cell_type": "markdown",
     "checksum": "db2c83d237de264e900e001fe2e2410f",
     "grade": false,
     "grade_id": "cell-9c63cce311adacc9",
     "locked": true,
     "schema_version": 3,
     "solution": false,
     "task": false
    }
   },
   "source": [
    "# Stress Analysis of Bracket Designs\n",
    "\n",
    "You will analyze a set of steel bracket designs under **axial loading**. Each bracket is subject to a force and has a known **cross-sectional area**. You will calculate the **axial stress** and determine whether the bracket design is **SAFE** or will **YIELD**, based on the material's yield strength.\n",
    "\n",
    "Each design is loaded axially and has a rectangular cross section. The table below shows:\n",
    "- `Load_N`: Applied axial force in **Newtons (N)**\n",
    "- `Area_mm2`: Cross-sectional area in **square millimeters (mm²)**\n",
    "\n",
    "\n",
    "The **yield strength** of the material is **250 MPa**.\n",
    "\n",
    "Your final result should be a pandas DataFrame called `result` that includes the original data, along with two new columns:\n",
    "\n",
    "- `Stress_MPa`: the calculated axial stress in megapascals (MPa), based on the applied load and cross-sectional area.\n",
    "- `Status`: a string label — either \"SAFE\" or \"YIELDS\" — based on whether the stress is below or above the yield strength of 250 MPa.\n",
    "\n",
    "Example output dataframe.\n",
    "\n",
    "| Design | Load\\_N | Area\\_mm2 | Stress\\_MPa | Status |\n",
    "| ------ | ------- | --------- | ----------- | ------ |\n",
    "| E      | 18000    | 180       | 100.0       | SAFE   |\n",
    "| F      | 21000    | 140       | 150.0       | SAFE   |\n",
    "| G      | 25000    | 100       | 250.0       | YIELDS |\n",
    "| H      | 30000    | 90        | 333.3       | YIELDS |\n",
    "\n",
    "\n",
    "**HINT**: In pandas, you can perform calculations across columns without using `apply()`. See sample code below.\n",
    "\n",
    "`df[\"Volume_cm3\"] = df[\"Length_cm\"] * df[\"Width_cm\"] * df[\"Height_cm\"]`\n",
    "\n"
   ]
  },
  {
   "cell_type": "code",
   "execution_count": null,
   "metadata": {
    "deletable": false,
    "editable": false,
    "nbgrader": {
     "cell_type": "code",
     "checksum": "21a2082c071ea1e981cc3591190b3743",
     "grade": false,
     "grade_id": "cell-d7d5cf8acde735e6",
     "locked": true,
     "schema_version": 3,
     "solution": false,
     "task": false
    }
   },
   "outputs": [],
   "source": [
    "# Given design table. Do not remove or modify.\n",
    "data = {\n",
    "    \"Design\": [\"A\", \"B\", \"C\", \"D\"],\n",
    "    \"Load_N\": [15000, 22500, 18000, 24000],\n",
    "    \"Area_mm2\": [150, 75, 100, 60],  # mm²\n",
    "}\n",
    "\n",
    "df = pd.DataFrame(data)\n",
    "print(df)"
   ]
  },
  {
   "cell_type": "code",
   "execution_count": null,
   "metadata": {
    "deletable": false,
    "nbgrader": {
     "cell_type": "code",
     "checksum": "1577f185e139077ff1888c86a6ca59b4",
     "grade": false,
     "grade_id": "stress",
     "locked": false,
     "schema_version": 3,
     "solution": true,
     "task": false
    }
   },
   "outputs": [],
   "source": [
    "# YOUR CODE HERE\n",
    "raise NotImplementedError()"
   ]
  },
  {
   "cell_type": "markdown",
   "metadata": {
    "deletable": false,
    "editable": false,
    "nbgrader": {
     "cell_type": "markdown",
     "checksum": "9e0abed9521fc312133986c08aa9eca9",
     "grade": false,
     "grade_id": "cell-816bd1bc4a497702",
     "locked": true,
     "schema_version": 3,
     "solution": false,
     "task": false
    }
   },
   "source": [
    "### Test code"
   ]
  },
  {
   "cell_type": "code",
   "execution_count": null,
   "metadata": {
    "deletable": false,
    "editable": false,
    "nbgrader": {
     "cell_type": "code",
     "checksum": "859d366b93a34c0cc12432b4c315a5a8",
     "grade": true,
     "grade_id": "test_stress",
     "locked": true,
     "points": 2,
     "schema_version": 3,
     "solution": false,
     "task": false
    }
   },
   "outputs": [],
   "source": [
    "# Check Design C's stress value\n",
    "stress_C = df.loc[df[\"Design\"] == \"C\", \"Stress_MPa\"].values[0]\n",
    "assert round(stress_C, 1) == 180.0, f\"Incorrect stress for Design C: expected 180.0, got {stress_C}\"\n",
    "print('Stress calculation is correct')"
   ]
  },
  {
   "cell_type": "code",
   "execution_count": null,
   "metadata": {
    "deletable": false,
    "editable": false,
    "nbgrader": {
     "cell_type": "code",
     "checksum": "30ec0d44afb7fcb4d36b25ccb0ca9efc",
     "grade": true,
     "grade_id": "test_status",
     "locked": true,
     "points": 2,
     "schema_version": 3,
     "solution": false,
     "task": false
    }
   },
   "outputs": [],
   "source": [
    "# Check Design D's status\n",
    "status_D = df.loc[df[\"Design\"] == \"D\", \"Status\"].values[0]\n",
    "assert status_D == \"YIELDS\", f\"Incorrect status for Design D: expected 'YIELDS', got '{status_D}'\"\n",
    "print('Status is correct')\n"
   ]
  },
  {
   "cell_type": "markdown",
   "metadata": {
    "deletable": false,
    "editable": false,
    "nbgrader": {
     "cell_type": "markdown",
     "checksum": "c0e890cd3b5cfeaf7f4478dd205d0194",
     "grade": false,
     "grade_id": "cell-9c63cc311adac",
     "locked": true,
     "schema_version": 3,
     "solution": false,
     "task": false
    }
   },
   "source": [
    "## Bisection method\n",
    "Write a function called “bisection” that takes the following inputs\n",
    "* **f** the equation whose root is to be determined\n",
    "* **xl** the lower bound of the search interval\n",
    "* **xu** the upper bound of the search interval\n",
    "* **max_iteration** the maximum numbers of iterations\n",
    "\n",
    "It then returns a Pandas DataFrame called **result**, which contains the results from all iterations and has the following columns.\n",
    "* **iteration** the iteration number\n",
    "* **xl** the lower bound of the search interval\n",
    "* **xu** the upper bound of the search interval\n",
    "* **xr** the new root\n",
    "\n",
    "Your function needs to compute the root iteratively using the bisection method until the number of iterations has exceeded the maximum number of iterations. \n",
    "\n",
    "Using the bisection method, the new root, $x_r$ is computed as $x_r = \\frac{x_l+x_u}{2}$"
   ]
  },
  {
   "cell_type": "code",
   "execution_count": null,
   "metadata": {
    "deletable": false,
    "nbgrader": {
     "cell_type": "code",
     "checksum": "49871858b84a2e03e5802bb27db28f91",
     "grade": false,
     "grade_id": "bisection",
     "locked": false,
     "schema_version": 3,
     "solution": true,
     "task": false
    }
   },
   "outputs": [],
   "source": [
    "def bisection(f, xl, xu, max_iterations): \n",
    "    \"\"\"\n",
    "    Perform the bisection method to find the root of a function within a given interval.\n",
    "\n",
    "    The bisection method iteratively narrows the interval [xl, xu] where the root of the function f(x) is located.\n",
    "    It stops when the maximum number of iterations is reached.\n",
    "\n",
    "    Parameters:\n",
    "    -----------\n",
    "    f : function\n",
    "        The function for which the root is to be found.\n",
    "    xl : float\n",
    "        The lower bound of the interval.\n",
    "    xu : float\n",
    "        The upper bound of the interval.\n",
    "    max_iterations : int\n",
    "        The maximum number of iterations to perform.\n",
    "\n",
    "    Returns:\n",
    "    --------\n",
    "    pandas.DataFrame\n",
    "        A DataFrame containing the details of each iteration, including:\n",
    "        - 'xl': The current lower bound of the interval.\n",
    "        - 'xu': The current upper bound of the interval.\n",
    "        - 'xr': The midpoint of the current interval (the approximate root).\n",
    "\n",
    "    Example:\n",
    "    --------\n",
    "    >>> def func(x):\n",
    "    >>>     return x**2 - 4\n",
    "\n",
    "    >>> bisection(func, 1, 3, 100)\n",
    "          xl   xu   xr  \n",
    "    1     1.0  3.0  2.0\n",
    "    2     1.0  2.0  1.5\n",
    "    ...\n",
    "\n",
    "    Notes:\n",
    "    ------\n",
    "    - The function assumes that f(xl) and f(xu) have opposite signs, indicating that a root lies within the interval [xl, xu].\n",
    "\n",
    "    \"\"\"\n",
    "    # YOUR CODE HERE\n",
    "    raise NotImplementedError()"
   ]
  },
  {
   "cell_type": "code",
   "execution_count": null,
   "metadata": {
    "deletable": false,
    "nbgrader": {
     "cell_type": "code",
     "checksum": "849ebdb2cc435b36b5ef90b0a82dab47",
     "grade": true,
     "grade_id": "cell-ec3e7957b793484d",
     "locked": false,
     "points": 0,
     "schema_version": 3,
     "solution": true,
     "task": false
    }
   },
   "outputs": [],
   "source": [
    "# You can call and test your function here\n",
    "\n",
    "f = lambda x: 667.38/x*(1-np.exp(-0.146843*x))-40;\n",
    "xl = 12\n",
    "xu = 16\n",
    "max_iterations = 10\n",
    "result = bisection(f, xl, xu, max_iterations)\n",
    "result\n",
    "\n",
    "# YOUR CODE HERE\n",
    "raise NotImplementedError()"
   ]
  },
  {
   "cell_type": "markdown",
   "metadata": {
    "deletable": false,
    "editable": false,
    "nbgrader": {
     "cell_type": "markdown",
     "checksum": "346b54c8584af742167e680f488f9d9f",
     "grade": false,
     "grade_id": "cell-816bd1b4a7702",
     "locked": true,
     "schema_version": 3,
     "solution": false,
     "task": false
    }
   },
   "source": [
    "### Test code"
   ]
  },
  {
   "cell_type": "code",
   "execution_count": null,
   "metadata": {
    "deletable": false,
    "editable": false,
    "nbgrader": {
     "cell_type": "code",
     "checksum": "acf1b185af36b7c2f58e484a209731c1",
     "grade": true,
     "grade_id": "test_if_error",
     "locked": true,
     "points": 2,
     "schema_version": 3,
     "solution": false,
     "task": false
    }
   },
   "outputs": [],
   "source": [
    "f = lambda x: 667.38/x*(1-np.exp(-0.146843*x))-40;\n",
    "xl = 12\n",
    "xu = 16\n",
    "max_iterations = 10\n",
    "result=bisection(f, xl, xu, max_iterations)\n",
    "assert all(\"err\" not in col.lower() for col in result.columns), \"Did not ask for relative error.\""
   ]
  },
  {
   "cell_type": "code",
   "execution_count": null,
   "metadata": {
    "deletable": false,
    "editable": false,
    "nbgrader": {
     "cell_type": "code",
     "checksum": "3adf8d73db2324fec7a49a1b8005ba2a",
     "grade": true,
     "grade_id": "bisection_test",
     "locked": true,
     "points": 4,
     "schema_version": 3,
     "solution": false,
     "task": false
    }
   },
   "outputs": [],
   "source": [
    "f = lambda x: 667.38/x*(1-np.exp(-0.146843*x))-40;\n",
    "QandAs = [[3, 18, 0.3, 6, 14.953125],\n",
    "[7, 17, 0.2, 8, 14.7734375],\n",
    "[10, 23, 0.4, 5, 14.46875],\n",
    "[10, 21, 0.6, 5, 14.46875],\n",
    "[4, 16, 0.5, 7, 14.78125]]\n",
    "for xl, xu, e_tolerance, max_iterations, Answer in QandAs: \n",
    "    result=bisection(f, xl, xu, max_iterations)\n",
    "    studentAnswer = result.iloc[-1]['xr']\n",
    "    assert np.isclose(studentAnswer, Answer), f' Did not work for the inputs {xl=},{xu=}, {max_iterations=} . Expected {Answer=}. Got {studentAnswer=}'\n",
    "print(\"Root calculation is correct. Good work!\")"
   ]
  }
 ],
 "metadata": {
  "kernelspec": {
   "display_name": "Python 3 (ipykernel)",
   "language": "python",
   "name": "python3"
  },
  "language_info": {
   "codemirror_mode": {
    "name": "ipython",
    "version": 3
   },
   "file_extension": ".py",
   "mimetype": "text/x-python",
   "name": "python",
   "nbconvert_exporter": "python",
   "pygments_lexer": "ipython3",
   "version": "3.12.7"
  }
 },
 "nbformat": 4,
 "nbformat_minor": 4
}
