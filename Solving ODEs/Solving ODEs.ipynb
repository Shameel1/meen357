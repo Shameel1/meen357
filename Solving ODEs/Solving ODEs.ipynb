{
 "cells": [
  {
   "cell_type": "markdown",
   "metadata": {},
   "source": [
    "# MEEN 357 - Summer 2025\n",
    "### Submission Instructions\n",
    "\n",
    "- **Run All Cells**: Before submitting, go to **Kernel > Restart Kernel & Run All Cells** to ensure your code runs without errors. Submissions with errors will receive a **ZERO** grade.\n",
    "- **Enter Your Name**: Fill in your name in the provided cell.\n",
    "- **Complete the Code**: Replace all instances of `YOUR CODE HERE` with your solution. Remove `raise NotImplementedError()`.\n",
    "- **Maintain Structure**: Do not add or remove any cells.\n",
    "- **Test Your Code**: Run the provided tests to check your answers. Note that additional hidden tests may be used during grading.\n",
    "- **Partial Credit**: Will be awarded only if your code runs error-free.\n",
    "- **Save and Submit**: Ensure you submit the latest, correct version of your assignment by checking the last modified time.\n"
   ]
  },
  {
   "cell_type": "code",
   "execution_count": null,
   "metadata": {},
   "outputs": [],
   "source": [
    "NAME = \"\""
   ]
  },
  {
   "cell_type": "code",
   "execution_count": null,
   "metadata": {},
   "outputs": [],
   "source": [
    "import IPython\n",
    "assert IPython.version_info[0] >= 3.8, \"Your version of IPython is too old, please update it.\""
   ]
  },
  {
   "cell_type": "markdown",
   "metadata": {},
   "source": [
    "---"
   ]
  },
  {
   "cell_type": "markdown",
   "metadata": {
    "deletable": false,
    "editable": false,
    "nbgrader": {
     "cell_type": "markdown",
     "checksum": "e67a2010001e7520f738c20520df8ff8",
     "grade": false,
     "grade_id": "cell-b11333355e4eba1d",
     "locked": true,
     "schema_version": 3,
     "solution": false,
     "task": false
    }
   },
   "source": [
    "# Solving ODEs\n",
    "\n",
    "### Lower order methods\n",
    "* [Euler's method](#Euler's-method) (7 points)\n",
    "* [Heun's method](#Heun's-method) (7 points)\n",
    "\n",
    "### Higher order methods\n",
    "* [Third order Runge-Kutta method](#Third-order-Runge-Kutta-method) (8 points)\n",
    "* [Fourth order Runge-Kutta method](#Fourth-order-Runge-Kutta-method) (8 points)\n",
    "\n",
    "### Solving system of ODEs\n",
    "* [System of ODEs](#Solving-a-system-of-ODEs) (6 points)\n",
    "* [Solve ODEs with different methods](#Solve-ODEs-with-different-methods-and-compare) (4 points)\n",
    "\n"
   ]
  },
  {
   "cell_type": "code",
   "execution_count": null,
   "metadata": {
    "deletable": false,
    "editable": false,
    "nbgrader": {
     "cell_type": "code",
     "checksum": "843a7c90263b64cbf92a9cde765938d3",
     "grade": false,
     "grade_id": "cell-4ecd2a4e9980aea7",
     "locked": true,
     "schema_version": 3,
     "solution": false,
     "task": false
    }
   },
   "outputs": [],
   "source": [
    "import numpy as np\n",
    "import matplotlib.pyplot as plt\n",
    "import pandas as pd"
   ]
  },
  {
   "cell_type": "markdown",
   "metadata": {
    "deletable": false,
    "editable": false,
    "nbgrader": {
     "cell_type": "markdown",
     "checksum": "271bbeeea87be8c1fcf1a65e90b77698",
     "grade": false,
     "grade_id": "cell-b9fb16077149926c",
     "locked": true,
     "schema_version": 3,
     "solution": false,
     "task": false
    }
   },
   "source": [
    "## Lower order methods"
   ]
  },
  {
   "cell_type": "markdown",
   "metadata": {
    "deletable": false,
    "editable": false,
    "nbgrader": {
     "cell_type": "markdown",
     "checksum": "1ca9ce269666b5942ad079d95e464049",
     "grade": false,
     "grade_id": "cell-9c63cce311adacc9",
     "locked": true,
     "schema_version": 3,
     "solution": false,
     "task": false
    }
   },
   "source": [
    "## Euler's method\n",
    "\n",
    "Write a function \" *Euler* \" that takes the following inputs\n",
    "\n",
    "* **f** , the derivative function (must be a lambda function with inputs in this order `f(x,y)`)\n",
    "* **X** , the input vector X. This will be a vector of equal step size.\n",
    "* **y0** , initial condition\n",
    "\n",
    "and returns the solution to the ODE computed using Euler's method.\n",
    "\n",
    "* **y** , the solution vector (must be the same length as x, must be a numpy array)\n",
    "\n",
    "The formula for Euler's method is given below.\n",
    "\n",
    "$y_{i+1} = y_i + f(x_i, y_i )h$"
   ]
  },
  {
   "cell_type": "code",
   "execution_count": null,
   "metadata": {
    "deletable": false,
    "nbgrader": {
     "cell_type": "code",
     "checksum": "baadd698fdf841a22a096e673f37f254",
     "grade": false,
     "grade_id": "Euler",
     "locked": false,
     "schema_version": 3,
     "solution": true,
     "task": false
    }
   },
   "outputs": [],
   "source": [
    "def Euler(f,X,y0):\n",
    "    # YOUR CODE HERE\n",
    "    raise NotImplementedError()\n",
    "    "
   ]
  },
  {
   "cell_type": "code",
   "execution_count": null,
   "metadata": {
    "deletable": false,
    "nbgrader": {
     "cell_type": "code",
     "checksum": "cf7b0dd293d071135312397f7edb3ea4",
     "grade": true,
     "grade_id": "Euler_script",
     "locked": false,
     "points": 0,
     "schema_version": 3,
     "solution": true,
     "task": false
    }
   },
   "outputs": [],
   "source": [
    "# YOUR CODE HERE\n",
    "raise NotImplementedError()"
   ]
  },
  {
   "cell_type": "markdown",
   "metadata": {
    "deletable": false,
    "editable": false,
    "nbgrader": {
     "cell_type": "markdown",
     "checksum": "9e0abed9521fc312133986c08aa9eca9",
     "grade": false,
     "grade_id": "cell-816bd1bc4a497702",
     "locked": true,
     "schema_version": 3,
     "solution": false,
     "task": false
    }
   },
   "source": [
    "### Test code"
   ]
  },
  {
   "cell_type": "code",
   "execution_count": null,
   "metadata": {
    "deletable": false,
    "editable": false,
    "nbgrader": {
     "cell_type": "code",
     "checksum": "bc49b3be4a00b1436fb60bf899e4609a",
     "grade": true,
     "grade_id": "Euler_test",
     "locked": true,
     "points": 7,
     "schema_version": 3,
     "solution": false,
     "task": false
    }
   },
   "outputs": [],
   "source": [
    "y0=1\n",
    "QandA = [[0.02, 1.6, 0.9, np.array([  1.      ,   8.65    ,   1.253278, -18.936098, -49.742792])],\n",
    "[0.73, 1.12, 1.125, np.array([  1.        ,  10.5625    ,  -4.76213135, -48.80043213])],\n",
    "[0.81, 1.5, 1.125, np.array([  1.        ,  10.5625    ,  -4.34922119, -47.24845947])],\n",
    "[0.36, 1.96, 0.9, np.array([  1.      ,   8.65    ,   1.292644, -19.631564, -54.099296])],\n",
    "[0.39, 1.0, 0.9, np.array([  1.      ,   8.65    ,   0.573121, -23.307911, -64.605644])]]\n",
    "\n",
    "for a, b, h, Answer in QandA:\n",
    "    f = lambda x,y: -a*x**3 + b*x**2 -20*x +8.5\n",
    "    X = np.arange(0,4.5,h)\n",
    "    studentAnswer = Euler(f,X,y0)\n",
    "    assert np.allclose(studentAnswer, Answer), f' Did not work for the inputs {a=},{b=} and {h=}. Expected {Answer=}. Got {studentAnswer=}'\n",
    "    \n",
    "print(\"All correct. Good work!\")"
   ]
  },
  {
   "cell_type": "markdown",
   "metadata": {
    "deletable": false,
    "editable": false,
    "nbgrader": {
     "cell_type": "markdown",
     "checksum": "99271b630b73426cd2ea274f4863a44e",
     "grade": false,
     "grade_id": "cell-9c63cc311dac",
     "locked": true,
     "schema_version": 3,
     "solution": false,
     "task": false
    }
   },
   "source": [
    "## Heun's method\n",
    "\n",
    "Write a function \" *Heun* \" that takes the following inputs\n",
    "\n",
    "* **f** , the derivative function (must be a lambda function with inputs in this order `f(x,y)`)\n",
    "* **X** , the input vector X. This will be a vector of equal step size.\n",
    "* **y0** , initial condition\n",
    "\n",
    "and returns the solution to the ODE computed using Heun's method.\n",
    "\n",
    "* **y** , the solution vector (must be the same length as x, must be a numpy array)\n",
    "\n",
    "The formula for Heun's method is given below.\n",
    "\n",
    "Predictor, $$y^0_{i+1} = y_i + f(x_i, y_i )h$$\n",
    "\n",
    "Corrector, $$y_{i+1} = y_i + \\frac{f(x_i, y_i )+f(x_{i+1},y^0_{i+1})}{2}h$$"
   ]
  },
  {
   "cell_type": "code",
   "execution_count": null,
   "metadata": {
    "deletable": false,
    "nbgrader": {
     "cell_type": "code",
     "checksum": "035b60397930d0da8fdd3bc6a3cc070f",
     "grade": false,
     "grade_id": "Heun",
     "locked": false,
     "schema_version": 3,
     "solution": true,
     "task": false
    }
   },
   "outputs": [],
   "source": [
    "def Heun(f,X,y0):\n",
    "    # YOUR CODE HERE\n",
    "    raise NotImplementedError()"
   ]
  },
  {
   "cell_type": "code",
   "execution_count": null,
   "metadata": {
    "deletable": false,
    "nbgrader": {
     "cell_type": "code",
     "checksum": "88d1e64ca7d63eff23b9a822057ab5fd",
     "grade": true,
     "grade_id": "Heun_script",
     "locked": false,
     "points": 0,
     "schema_version": 3,
     "solution": true,
     "task": false
    }
   },
   "outputs": [],
   "source": [
    "# YOUR CODE HERE\n",
    "raise NotImplementedError()"
   ]
  },
  {
   "cell_type": "markdown",
   "metadata": {
    "deletable": false,
    "editable": false,
    "nbgrader": {
     "cell_type": "markdown",
     "checksum": "ce36a1779caef72c00e07ddcb43bdb82",
     "grade": false,
     "grade_id": "cell-816b1b4a7702",
     "locked": true,
     "schema_version": 3,
     "solution": false,
     "task": false
    }
   },
   "source": [
    "### Tests"
   ]
  },
  {
   "cell_type": "code",
   "execution_count": null,
   "metadata": {
    "deletable": false,
    "editable": false,
    "nbgrader": {
     "cell_type": "code",
     "checksum": "98eca453e41db71db7dcfc5612677b46",
     "grade": true,
     "grade_id": "Heun_test",
     "locked": true,
     "points": 7,
     "schema_version": 3,
     "solution": false,
     "task": false
    }
   },
   "outputs": [],
   "source": [
    "y0=1\n",
    "\n",
    "QandA = [[0.86, 1.06, 1.125, np.array([   1.        ,   -2.02789795,  -32.85999512, -100.87575928])],\n",
    "[0.86, 1.9, 0.9, np.array([   1.      ,    0.960427,  -14.76593 ,  -48.487085, -105.896528])],\n",
    "[0.85, 1.9, 0.9, np.array([   1.       ,    0.9637075,  -14.733125 ,  -48.3394625,\n",
    "       -105.45038  ])],\n",
    "[0.0, 1.82, 1.125, np.array([  1.        ,  -0.79806641, -22.72589844, -59.60076172])],\n",
    "[0.05, 1.96, 1.125, np.array([  1.        ,  -0.7384436 , -22.52834229, -59.50910278])]]\n",
    "\n",
    "for a, b, h, Answer in QandA:\n",
    "    f = lambda x,y: -a*x**3 + b*x**2 -20*x +8.5\n",
    "    X = np.arange(0,4.5,h)\n",
    "    studentAnswer = Heun(f,X,y0)\n",
    "    assert np.allclose(studentAnswer, Answer), f' Did not work for the inputs {a=},{b=} and {h=}. Expected {Answer=}. Got {studentAnswer=}'\n",
    "    \n",
    "print(\"All correct. Good work!\")"
   ]
  },
  {
   "cell_type": "markdown",
   "metadata": {
    "deletable": false,
    "editable": false,
    "nbgrader": {
     "cell_type": "markdown",
     "checksum": "4aa3c869d23e88866b1c4e667e0aeb20",
     "grade": false,
     "grade_id": "cell-9c63c311adac",
     "locked": true,
     "schema_version": 3,
     "solution": false,
     "task": false
    }
   },
   "source": [
    "## Third-order Runge-Kutta method\n",
    "\n",
    "Write a function \" *RK3rd* \" that takes the following inputs\n",
    "\n",
    "* **f** , the derivative function (must be a lambda function with inputs in this order `f(x,y)`)\n",
    "* **X** , the input vector X. This will be a vector of equal step size.\n",
    "* **y0** , initial condition\n",
    "\n",
    "and returns the solution to the ODE computed using the Third-order Runge-Kutta method.\n",
    "\n",
    "* **y** , the solution vector (must be the same length as x, must be a numpy array)\n",
    "\n",
    "The formula for the Third-order Runge-Kutta method is given below.\n",
    "\n",
    "$y_{i+1} = y_i + \\frac{1}{6}(k_1 +4 k_2 + k_3)h$\n",
    "\n",
    "Where\n",
    "\n",
    "$k_1 = f(x_i,y_i)$\n",
    "\n",
    "$k_2 = f(x_i+\\frac{1}{2}h,y_i+\\frac{1}{2}k_1h)$\n",
    "\n",
    "$k_3 = f(x_i+h,y_i-k_1h+2k_2h)$\n"
   ]
  },
  {
   "cell_type": "code",
   "execution_count": null,
   "metadata": {
    "deletable": false,
    "nbgrader": {
     "cell_type": "code",
     "checksum": "2215080c07938bb67db63fea938ddc5b",
     "grade": false,
     "grade_id": "RK3rd",
     "locked": false,
     "schema_version": 3,
     "solution": true,
     "task": false
    }
   },
   "outputs": [],
   "source": [
    "def RK3rd(f,X,y0):\n",
    "    # YOUR CODE HERE\n",
    "    raise NotImplementedError()"
   ]
  },
  {
   "cell_type": "code",
   "execution_count": null,
   "metadata": {
    "deletable": false,
    "nbgrader": {
     "cell_type": "code",
     "checksum": "5277b000dfd5c38ce07818a5cb8868b1",
     "grade": true,
     "grade_id": "RK3rd_script",
     "locked": false,
     "points": 0,
     "schema_version": 3,
     "solution": true,
     "task": false
    }
   },
   "outputs": [],
   "source": [
    "# YOUR CODE HERE\n",
    "raise NotImplementedError()"
   ]
  },
  {
   "cell_type": "markdown",
   "metadata": {
    "deletable": false,
    "editable": false,
    "nbgrader": {
     "cell_type": "markdown",
     "checksum": "10eea5c36d831628475e0edc00b4fa7c",
     "grade": false,
     "grade_id": "cell-816d1b4a7702",
     "locked": true,
     "schema_version": 3,
     "solution": false,
     "task": false
    }
   },
   "source": [
    "### Tests"
   ]
  },
  {
   "cell_type": "code",
   "execution_count": null,
   "metadata": {
    "deletable": false,
    "editable": false,
    "nbgrader": {
     "cell_type": "code",
     "checksum": "cc12c0f4de6aad608a8845359ed568dd",
     "grade": true,
     "grade_id": "RK3rd_test",
     "locked": true,
     "points": 8,
     "schema_version": 3,
     "solution": false,
     "task": false
    }
   },
   "outputs": [],
   "source": [
    "y0=1\n",
    "\n",
    "QandA = [[0.33, 1.52, 0.9, np.array([  1.        ,   0.86523175, -14.011172  , -43.36166825,\n",
    "       -88.217792  ])],\n",
    "[0.75, 1.56, 1.125, np.array([  1.        ,  -1.65369812, -29.38229492, -88.55564148])],\n",
    "[0.13, 1.08, 1.125, np.array([  1.        ,  -1.63323059, -27.23231445, -74.59589661])],\n",
    "[0.83, 1.54, 0.9, np.array([   1.        ,    0.78807925,  -15.284492  ,  -49.87346075,\n",
    "       -108.901952  ])],\n",
    "[0.18, 1.6, 0.9, np.array([  1.       ,   0.9092755, -13.461992 , -40.8438845, -80.675072 ])]]\n",
    "\n",
    "for a, b, h, Answer in QandA:\n",
    "    f = lambda x,y: -a*x**3 + b*x**2 -20*x +8.5\n",
    "    X = np.arange(0,4.5,h)\n",
    "    studentAnswer = RK3rd(f,X,y0)\n",
    "    assert np.allclose(studentAnswer, Answer), f' Did not work for the inputs {a=},{b=} and {h=}. Expected {Answer=}. Got {studentAnswer=}'\n",
    "    \n",
    "print(\"All correct. Good work!\")"
   ]
  },
  {
   "cell_type": "markdown",
   "metadata": {
    "deletable": false,
    "editable": false,
    "nbgrader": {
     "cell_type": "markdown",
     "checksum": "d7558c857cb46a36ccb1d1dc19cd447e",
     "grade": false,
     "grade_id": "cell-9c63c11dac",
     "locked": true,
     "schema_version": 3,
     "solution": false,
     "task": false
    }
   },
   "source": [
    "## Fourth-order Runge-Kutta method\n",
    "\n",
    "Write a function \" *RK4th* \" that takes the following inputs\n",
    "\n",
    "* **f** , the derivative function (must be a lambda function with inputs in this order `f(x,y)`)\n",
    "* **X** , the input vector X. This will be a vector of equal step size.\n",
    "* **y0** , initial condition\n",
    "\n",
    "and returns the solution to the ODE computed using the Fourth-order Runge-Kutta method.\n",
    "\n",
    "* **y** , the solution vector (must be the same length as x, must be a numpy array)\n",
    "\n",
    "The formula for the Fourth-order Runge-Kutta method is given below.\n",
    "\n",
    "$y_{i+1} = y_i + \\frac{1}{6}(k_1 +2 k_2 +2 k_3 + k_4)h$\n",
    "\n",
    "Where\n",
    "\n",
    "$k_1 = f(x_i,y_i)$\n",
    "\n",
    "$k_2 = f(x_i+\\frac{1}{2}h,y_i+\\frac{1}{2}k_1h)$\n",
    "\n",
    "$k_3 = f(x_i+\\frac{1}{2}h,y_i+\\frac{1}{2}k_2h)$\n",
    "\n",
    "$k_4 = f(x_i+h,y_i+k_3h)$"
   ]
  },
  {
   "cell_type": "code",
   "execution_count": null,
   "metadata": {
    "deletable": false,
    "nbgrader": {
     "cell_type": "code",
     "checksum": "755b5d2cb16f916ded623802cd1bb254",
     "grade": false,
     "grade_id": "RK4th",
     "locked": false,
     "schema_version": 3,
     "solution": true,
     "task": false
    }
   },
   "outputs": [],
   "source": [
    "def RK4th(f,X,y0):\n",
    "    # YOUR CODE HERE\n",
    "    raise NotImplementedError()"
   ]
  },
  {
   "cell_type": "code",
   "execution_count": null,
   "metadata": {
    "deletable": false,
    "nbgrader": {
     "cell_type": "code",
     "checksum": "3971955e0a1a044c8cd9064365d31af9",
     "grade": true,
     "grade_id": "RK4th_script",
     "locked": false,
     "points": 0,
     "schema_version": 3,
     "solution": true,
     "task": false
    }
   },
   "outputs": [],
   "source": [
    "# YOUR CODE HERE\n",
    "raise NotImplementedError()"
   ]
  },
  {
   "cell_type": "markdown",
   "metadata": {
    "deletable": false,
    "editable": false,
    "nbgrader": {
     "cell_type": "markdown",
     "checksum": "56c3310917e00a4478a2f83c0d9e2d83",
     "grade": false,
     "grade_id": "cell-81b1b47702",
     "locked": true,
     "schema_version": 3,
     "solution": false,
     "task": false
    }
   },
   "source": [
    "### Tests"
   ]
  },
  {
   "cell_type": "code",
   "execution_count": null,
   "metadata": {
    "deletable": false,
    "editable": false,
    "nbgrader": {
     "cell_type": "code",
     "checksum": "737b1429511a5833d9c09e0e16ddd0ec",
     "grade": true,
     "grade_id": "RK4th_test",
     "locked": true,
     "points": 8,
     "schema_version": 3,
     "solution": false,
     "task": false
    }
   },
   "outputs": [],
   "source": [
    "y0=1\n",
    "QandA = [[0.75, 1.56, 1.125, np.array([  1.        ,  -1.65369812, -29.38229492, -88.55564148])],\n",
    "[0.37, 1.44, 1.125, np.array([  1.        ,  -1.55847961, -27.40317383, -77.76747375])],\n",
    "[0.72, 1.9, 1.125, np.array([  1.        ,  -1.48031738, -27.89914063, -83.22562988])],\n",
    "[0.24, 1.58, 1.125, np.array([  1.        ,  -1.43997559, -26.03867187, -71.75669434])],\n",
    "[0.03, 1.98, 1.125, np.array([  1.        ,  -1.16603699, -23.1744043 , -59.81923035])]]\n",
    "\n",
    "for a, b, h, Answer in QandA:\n",
    "    f = lambda x,y: -a*x**3 + b*x**2 -20*x +8.5\n",
    "    X = np.arange(0,4.5,h)\n",
    "    studentAnswer = RK4th(f,X,y0)\n",
    "    assert np.allclose(studentAnswer, Answer), f' Did not work for the inputs {a=},{b=} and {h=}. Expected {Answer=}. Got {studentAnswer=}'\n",
    "    \n",
    "print(\"All correct. Good work!\")"
   ]
  },
  {
   "cell_type": "markdown",
   "metadata": {
    "deletable": false,
    "editable": false,
    "nbgrader": {
     "cell_type": "markdown",
     "checksum": "b91ede8bd8ccc7b3aa323a802696f42d",
     "grade": false,
     "grade_id": "cell-aeaf6b17386",
     "locked": true,
     "schema_version": 3,
     "solution": false,
     "task": false
    }
   },
   "source": [
    "\n",
    "## Solving a system of ODEs\n",
    "\n",
    "Solve the following set of differential equations using the Euler's method, assuming that at $x=0, y1 = 4$ and $y2= 6$. Integrate to $x=2$ with a step size of $0.5$. Compare your answer to example 25.9 on page 740 in your textbook.\n",
    "\n",
    "$ \\frac{dy_1}{dx} = -0.5y_1$\n",
    "\n",
    "$ \\frac{dy_2}{dx} = 4 -0.3y_2 -0.1y_1$\n",
    "\n",
    "Store your solution in variables **Y1** and **Y2**\n",
    "\n",
    "The Euler's formula when dealing with 2 variables is shown below:\n",
    "\n",
    "$y1_{i+1} = y1_i + \\frac{dy1}{dx}(x_i, y1_i, y2_i )h $\n",
    "\n",
    "$y2_{i+1} = y2_i + \\frac{dy2}{dx}(x_i, y1_i, y2_i )h $\n"
   ]
  },
  {
   "cell_type": "code",
   "execution_count": null,
   "metadata": {
    "deletable": false,
    "nbgrader": {
     "cell_type": "code",
     "checksum": "72b05cfd404be5b433ff6b16fc03449e",
     "grade": true,
     "grade_id": "sysODE",
     "locked": false,
     "points": 0,
     "schema_version": 3,
     "solution": true,
     "task": false
    }
   },
   "outputs": [],
   "source": [
    "# Solving a system of ODEs with Euler\n",
    "# YOUR CODE HERE\n",
    "raise NotImplementedError()"
   ]
  },
  {
   "cell_type": "markdown",
   "metadata": {
    "deletable": false,
    "editable": false,
    "nbgrader": {
     "cell_type": "markdown",
     "checksum": "9f7aff844387ae2994ae68b15e6b3c02",
     "grade": false,
     "grade_id": "cell-11b5bf0515849449",
     "locked": true,
     "schema_version": 3,
     "solution": false,
     "task": false
    }
   },
   "source": [
    "### Tests"
   ]
  },
  {
   "cell_type": "code",
   "execution_count": null,
   "metadata": {
    "deletable": false,
    "editable": false,
    "nbgrader": {
     "cell_type": "code",
     "checksum": "06cc48ce3f0810b59638b932ddd1453c",
     "grade": true,
     "grade_id": "cell-8eed8bce92e4174e",
     "locked": true,
     "points": 6,
     "schema_version": 3,
     "solution": false,
     "task": false
    }
   },
   "outputs": [],
   "source": [
    "\n",
    "QandA = [np.array([4.,       3.,       2.25,     1.6875,   1.265625]),\n",
    "np.array([6.,        6.9,       7.715,     8.44525,   9.0940875])]\n",
    "assert np.allclose(Y1, QandA[0]), f' Answer for Y1 is wrong'\n",
    "assert np.allclose(Y2, QandA[1]), f' Answer for Y2 is wrong'\n",
    "print(\"All correct. Good work!\")"
   ]
  },
  {
   "cell_type": "markdown",
   "metadata": {
    "deletable": false,
    "editable": false,
    "nbgrader": {
     "cell_type": "markdown",
     "checksum": "dc72e180e1cded7f4592f6c10796b47b",
     "grade": false,
     "grade_id": "cell-89d81aabf530a04d",
     "locked": true,
     "schema_version": 3,
     "solution": false,
     "task": false
    }
   },
   "source": [
    "## Solve ODEs with different methods and compare\n",
    "Solve the folloing ODE \n",
    "$$\\frac{dy}{dx} = -2x^3 +12x^2- 20x + 8.5 $$\n",
    "using:\n",
    "* Euler's method (store your answer in a variable called: **Y_Euler**)\n",
    "* Heun's method (**Y_Heun**)\n",
    "* Runge-Kutta Third-order Method (**Y_RK3**)\n",
    "* Runge-Kutta Fourth-order Method (**Y_RK4**)\n",
    "\n",
    "Solve it from $x = 0$ to $x=4$ with a step size of $h=0.5$. The initial condition at $x=0$ is $y = 1$. \n",
    "Plot all of the solutions along with the exact solution (use the `plt.plot(X,Y)` command to plot the result). Save the plot as *\"solutionODE.png\"*.\n",
    "\n",
    "You can compare your result to Figure 25.3 and 25.4 from your textbook.\n",
    "\n"
   ]
  },
  {
   "cell_type": "code",
   "execution_count": null,
   "metadata": {
    "deletable": false,
    "nbgrader": {
     "cell_type": "code",
     "checksum": "03a256af98c0684a922c5889d7ac9f72",
     "grade": true,
     "grade_id": "solve_all",
     "locked": false,
     "points": 2,
     "schema_version": 3,
     "solution": true,
     "task": false
    }
   },
   "outputs": [],
   "source": [
    "# Write your script here\n",
    "# YOUR CODE HERE\n",
    "raise NotImplementedError()"
   ]
  },
  {
   "cell_type": "markdown",
   "metadata": {
    "deletable": false,
    "editable": false,
    "nbgrader": {
     "cell_type": "markdown",
     "checksum": "ee31794beb647824a5ed8764fae565b5",
     "grade": false,
     "grade_id": "cell-e323f29b25b0290b",
     "locked": true,
     "schema_version": 3,
     "solution": false,
     "task": false
    }
   },
   "source": [
    "### Tests"
   ]
  },
  {
   "cell_type": "code",
   "execution_count": null,
   "metadata": {
    "deletable": false,
    "editable": false,
    "nbgrader": {
     "cell_type": "code",
     "checksum": "3f46b31df60e64dd4da29823cdaef322",
     "grade": true,
     "grade_id": "cell-23404c33822b177c",
     "locked": true,
     "points": 2,
     "schema_version": 3,
     "solution": false,
     "task": false
    }
   },
   "outputs": [],
   "source": [
    "\n",
    "QandA = [[np.array([1.   , 5.25 , 5.875, 5.125, 4.5  , 4.75 , 5.875, 7.125, 7.   ])],\n",
    "[np.array([1.    , 3.4375, 3.375 , 2.6875, 2.5   , 3.1875, 4.375 , 4.9375,\n",
    "       3.    ])],\n",
    "[np.array([1.     , 3.21875, 3.     , 2.21875, 2.     , 2.71875, 4.     ,\n",
    "       4.71875, 3.     ])],\n",
    "[np.array([1.     , 3.21875, 3.     , 2.21875, 2.     , 2.71875, 4.     ,\n",
    "       4.71875, 3.     ])]]\n",
    "assert np.allclose(Y_Euler, QandA[0]), f' Answer for Y_Euler is wrong'\n",
    "assert np.allclose(Y_Heun, QandA[1]), f' Answer for Y_Heun is wrong'\n",
    "assert np.allclose(Y_RK3, QandA[2]), f' Answer for Y_RK3 is wrong'\n",
    "assert np.allclose(Y_RK4, QandA[3]), f' Answer for Y_RK4 is wrong'\n",
    "print(\"All correct. Good work!\")"
   ]
  },
  {
   "attachments": {
    "image-2.png": {
     "image/png": "[encoded data removed]"
    }
   },
   "cell_type": "markdown",
   "metadata": {},
   "source": [
    "## Solve a multi-body mass spring system and compare with experiment\n",
    "Given a 2 body mass spring damper system. \n",
    "![image-2.png](attachment:image-2.png)\n",
    "* Find the differential equation that describes the motion of this system. \n",
    "* Simulate the system solve_ivp from scipy.integrate. Set the method to be \"RK45\".\n",
    "* Compare the simulation to the experimental data from the system."
   ]
  },
  {
   "cell_type": "code",
   "execution_count": null,
   "metadata": {
    "deletable": false,
    "nbgrader": {
     "cell_type": "code",
     "checksum": "f882f1dc0a4855d7294d43a2138b3ad9",
     "grade": true,
     "grade_id": "script_solveode",
     "locked": false,
     "points": 0,
     "schema_version": 3,
     "solution": true,
     "task": false
    }
   },
   "outputs": [],
   "source": [
    "from scipy.integrate import solve_ivp\n",
    "import numpy as np\n",
    "import matplotlib.pyplot as plt\n",
    "\n",
    "# YOUR CODE HERE\n",
    "raise NotImplementedError()"
   ]
  }
 ],
 "metadata": {
  "kernelspec": {
   "display_name": "Python 3 (ipykernel)",
   "language": "python",
   "name": "python3"
  },
  "language_info": {
   "codemirror_mode": {
    "name": "ipython",
    "version": 3
   },
   "file_extension": ".py",
   "mimetype": "text/x-python",
   "name": "python",
   "nbconvert_exporter": "python",
   "pygments_lexer": "ipython3",
   "version": "3.12.5"
  }
 },
 "nbformat": 4,
 "nbformat_minor": 4
}
