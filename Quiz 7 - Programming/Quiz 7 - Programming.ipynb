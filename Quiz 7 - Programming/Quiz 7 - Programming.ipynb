{
 "cells": [
  {
   "cell_type": "markdown",
   "metadata": {},
   "source": [
    "# MEEN 357 - Summer 2025\n",
    "### Submission Instructions\n",
    "\n",
    "- **Run All Cells**: Before submitting, go to **Kernel > Restart Kernel & Run All Cells** to ensure your code runs without errors. Submissions with errors will receive a **ZERO** grade.\n",
    "- **Enter Your Name**: Fill in your name in the provided cell.\n",
    "- **Complete the Code**: Replace all instances of `YOUR CODE HERE` with your solution. Remove `raise NotImplementedError()`.\n",
    "- **Maintain Structure**: Do not add or remove any cells.\n",
    "- **Test Your Code**: Run the provided tests to check your answers. Note that additional hidden tests may be used during grading.\n",
    "- **Partial Credit**: Will be awarded only if your code runs error-free.\n",
    "- **Save and Submit**: Ensure you submit the latest, correct version of your assignment by checking the last modified time.\n"
   ]
  },
  {
   "cell_type": "code",
   "execution_count": null,
   "metadata": {},
   "outputs": [],
   "source": [
    "NAME = \"\""
   ]
  },
  {
   "cell_type": "code",
   "execution_count": null,
   "metadata": {},
   "outputs": [],
   "source": [
    "import IPython\n",
    "assert IPython.version_info[0] >= 3.8, \"Your version of IPython is too old, please update it.\""
   ]
  },
  {
   "cell_type": "markdown",
   "metadata": {},
   "source": [
    "---"
   ]
  },
  {
   "cell_type": "markdown",
   "metadata": {
    "deletable": false,
    "editable": false,
    "nbgrader": {
     "cell_type": "markdown",
     "checksum": "6256b92d465b8d7d1c5e503757dbd110",
     "grade": false,
     "grade_id": "cell-b11333355e4eba1d",
     "locked": true,
     "schema_version": 3,
     "solution": false,
     "task": false
    }
   },
   "source": [
    "# Quiz 7 - Programming\n",
    "* [Backward Substitution(6 pts)](#Backward-Substitution)\n",
    "* [Multiple application of Simpson's 3/8 rule(8 pts)](#Multiple-application-of-Simpson's-3/8-rule)\n",
    "* [Numerical differentiation(6 pts)](#Numerical-differentiation)\n"
   ]
  },
  {
   "cell_type": "code",
   "execution_count": null,
   "metadata": {
    "deletable": false,
    "editable": false,
    "nbgrader": {
     "cell_type": "code",
     "checksum": "cc9afb5092aed2826cd638aa0415d1a4",
     "grade": false,
     "grade_id": "cell-29ea9fefca235322",
     "locked": true,
     "schema_version": 3,
     "solution": false,
     "task": false
    }
   },
   "outputs": [],
   "source": [
    "import numpy as np\n",
    "import pandas as pd"
   ]
  },
  {
   "cell_type": "markdown",
   "metadata": {
    "deletable": false,
    "editable": false,
    "nbgrader": {
     "cell_type": "markdown",
     "checksum": "b82e15aafc88b72a1620d6a0bdd69cf3",
     "grade": false,
     "grade_id": "cell-d1c187f75f673412",
     "locked": true,
     "schema_version": 3,
     "solution": false,
     "task": false
    }
   },
   "source": [
    "<span style='color:red '>\n",
    "    \n",
    "## Backward Substitution\n",
    "    \n",
    "</span>\n",
    "\n",
    "Write a function called **backwardSubstitution(A, b)** that takes the following input:\n",
    "* **A**, the  upper triangle found after the forward elimination method. \n",
    "$ A = \\left[\\matrix{a_{11}& a_{12}& a_{13} \\\\\n",
    "         0& a'_{22}& a'_{23} \\\\\n",
    "         0& 0& a''_{33}} \\right]$\n",
    "* **b**, the right hand side vector after the forward elimination method.\n",
    "$ b = \\left[\\matrix{b_{1} \\\\ b'_{2} \\\\ b''_{3}} \\right]$\n",
    "\n",
    "and then outputs:\n",
    "* **x**, the solution vector found using backward substitution.\n",
    "\n",
    "The steps for backward substition for a 3 equations problem is shown below\n",
    "\n",
    "$ x_3 = \\frac{b_3}{a_{33}}$\n",
    "\n",
    "$ x_2 = \\frac{b_2 - a_{23}x_3}{a_{22}}$\n",
    "\n",
    "$ x_1 = \\frac{b_1 - a_{12}x_2 - a_{13}x_3}{a_{11}}$"
   ]
  },
  {
   "cell_type": "code",
   "execution_count": null,
   "metadata": {
    "deletable": false,
    "nbgrader": {
     "cell_type": "code",
     "checksum": "490a3698438eeeaa895bd9373f49dc6e",
     "grade": false,
     "grade_id": "cell-118910e3ee38d116",
     "locked": false,
     "schema_version": 3,
     "solution": true,
     "task": false
    }
   },
   "outputs": [],
   "source": [
    "def backwardSubstitution(A,b):\n",
    "    # YOUR CODE HERE\n",
    "    raise NotImplementedError()"
   ]
  },
  {
   "cell_type": "markdown",
   "metadata": {
    "deletable": false,
    "editable": false,
    "nbgrader": {
     "cell_type": "markdown",
     "checksum": "efc54211f3f026667dc5ae561523b2ea",
     "grade": false,
     "grade_id": "cell-2547ffe54451f754",
     "locked": true,
     "schema_version": 3,
     "solution": false,
     "task": false
    }
   },
   "source": [
    "<span style='color:red '>\n",
    "    \n",
    "### Script\n",
    "    \n",
    "</span>\n",
    "\n",
    "**OPTIONAL:** Test your function by writing a script below.\n"
   ]
  },
  {
   "cell_type": "code",
   "execution_count": null,
   "metadata": {
    "deletable": false,
    "nbgrader": {
     "cell_type": "code",
     "checksum": "0589ced4cc82b32ebb26ae387b74fbb4",
     "grade": true,
     "grade_id": "cell-d827e47eaf9d18f2",
     "locked": false,
     "points": 0,
     "schema_version": 3,
     "solution": true,
     "task": false
    }
   },
   "outputs": [],
   "source": [
    "# Test your code here\n",
    "A  = np.array([[3, -0.1, -0.2], [0, 7, -0.3], [0, 0, 10]])\n",
    "b = np.array([  7.85      , -19.56166667,  70.08429319])\n",
    "# YOUR CODE HERE\n",
    "raise NotImplementedError()"
   ]
  },
  {
   "cell_type": "markdown",
   "metadata": {
    "deletable": false,
    "editable": false,
    "nbgrader": {
     "cell_type": "markdown",
     "checksum": "9c6b809cc423e8e214bd61078f8d1ca0",
     "grade": false,
     "grade_id": "cell-d93b6708dd41eb17",
     "locked": true,
     "schema_version": 3,
     "solution": false,
     "task": false
    }
   },
   "source": [
    "<span style='color:red '>\n",
    "    \n",
    "### Tests\n",
    "    \n",
    "</span>"
   ]
  },
  {
   "cell_type": "code",
   "execution_count": null,
   "metadata": {
    "deletable": false,
    "editable": false,
    "nbgrader": {
     "cell_type": "code",
     "checksum": "4b1fef4c6abebe113ba57bbf9bc2da51",
     "grade": true,
     "grade_id": "cell-8eadbc13fd91d3e5",
     "locked": true,
     "points": 6,
     "schema_version": 3,
     "solution": false,
     "task": false
    }
   },
   "outputs": [],
   "source": [
    "A  = np.array([[3, -0.1, -0.2], [0, 7, -0.3], [0, 0, 10]])\n",
    "QandAs = [[np.array([ 14.915, -36.67 , 135.66 ]), np.array([ 5.72082762, -4.65717143, 13.566     ])],\n",
    "        [ np.array([  6.28, -15.44,  57.12]), np.array([ 2.40876952, -1.96091429,  5.712     ])],\n",
    "        [ np.array([  55.735, -137.03 ,  506.94 ]), np.array([ 21.37782952, -17.40311429,  50.694     ])],\n",
    "        [ np.array([ 16.485, -40.53 , 149.94 ]), np.array([ 6.32302, -5.1474 , 14.994  ])],\n",
    "        [ np.array([  43.175, -106.15 ,  392.7  ]), np.array([ 16.56029048, -13.48128571,  39.27      ])]]\n",
    "for b, Answer in QandAs: \n",
    "    studentAnswer = backwardSubstitution(A.copy(),b)\n",
    "    studentAnswer = np.ravel(studentAnswer)\n",
    "    assert np.allclose(studentAnswer, Answer), f' Did not work for the inputs \\n{b=}. \\n\\nExpected {Answer=}. \\nGot {studentAnswer=}'\n",
    "print(\"All correct. Good work\")"
   ]
  },
  {
   "cell_type": "markdown",
   "metadata": {
    "deletable": false,
    "editable": false,
    "nbgrader": {
     "cell_type": "markdown",
     "checksum": "d096f4801bd848c6e382aaeab1668eb8",
     "grade": false,
     "grade_id": "cell-9c63cce311adacc9",
     "locked": true,
     "schema_version": 3,
     "solution": false,
     "task": false
    }
   },
   "source": [
    "\n",
    "<span style='color:red '>\n",
    "    \n",
    "## Multiple application of Simpson's 3/8 rule\n",
    "    \n",
    "</span>\n",
    "\n",
    "Write a function called **simpson38** that takes the following inputs:\n",
    "* **f**, the function to integrate.\n",
    "* **a**, the lower limit of integration.\n",
    "* **b**, the upper limit of integration.\n",
    "* **n**, the number of segments.\n",
    "\n",
    "And then outputs the following:\n",
    "* **I**, the integration calculated by applying the Simpson's 3/8th rule on n segments of the function, f from a to b.\n",
    "\n",
    "The formula for the Simpson's 3/8th Rule is:\n",
    "\n",
    "$I = (b-a)\\frac{f(x_0)+3f(x_1)+3f(x_2)+f(x_3)}{8}$"
   ]
  },
  {
   "cell_type": "code",
   "execution_count": null,
   "metadata": {
    "deletable": false,
    "nbgrader": {
     "cell_type": "code",
     "checksum": "309078596addb125e2529fdd26bbd711",
     "grade": false,
     "grade_id": "stress",
     "locked": false,
     "schema_version": 3,
     "solution": true,
     "task": false
    }
   },
   "outputs": [],
   "source": [
    "def simpson38(f, a, b, n):\n",
    "    # YOUR CODE HERE\n",
    "    raise NotImplementedError()"
   ]
  },
  {
   "cell_type": "markdown",
   "metadata": {
    "deletable": false,
    "editable": false,
    "nbgrader": {
     "cell_type": "markdown",
     "checksum": "dd519ee925f77e0c48a3c52d1a8970db",
     "grade": false,
     "grade_id": "cell-820f8262dbf86f4f",
     "locked": true,
     "schema_version": 3,
     "solution": false,
     "task": false
    }
   },
   "source": [
    "<span style='color:red '>\n",
    "    \n",
    "#### Script\n",
    "    \n",
    "</span>\n",
    "\n",
    "**OPTIONAL:** Test your function by writing a script below."
   ]
  },
  {
   "cell_type": "code",
   "execution_count": null,
   "metadata": {
    "deletable": false,
    "nbgrader": {
     "cell_type": "code",
     "checksum": "bfe9452176ff2164a711c02d99dbcd84",
     "grade": true,
     "grade_id": "cell-754c6e5e9dddfd7a",
     "locked": false,
     "points": 0,
     "schema_version": 3,
     "solution": true,
     "task": false
    }
   },
   "outputs": [],
   "source": [
    "f = np.poly1d([400, -900, 675, -200, 25, 0.2])\n",
    "a = 0\n",
    "b= 1\n",
    "n = 3\n",
    "# YOUR CODE HERE\n",
    "raise NotImplementedError()"
   ]
  },
  {
   "cell_type": "markdown",
   "metadata": {
    "deletable": false,
    "editable": false,
    "nbgrader": {
     "cell_type": "markdown",
     "checksum": "176d95bc8bdd628c01340c31fd47eb45",
     "grade": false,
     "grade_id": "cell-816bd1bc4a497702",
     "locked": true,
     "schema_version": 3,
     "solution": false,
     "task": false
    }
   },
   "source": [
    "<span style='color:red '>\n",
    "    \n",
    "### Tests\n",
    "    \n",
    "</span>"
   ]
  },
  {
   "cell_type": "code",
   "execution_count": null,
   "metadata": {
    "deletable": false,
    "editable": false,
    "nbgrader": {
     "cell_type": "code",
     "checksum": "b098232affc8cfa756deca500940b443",
     "grade": true,
     "grade_id": "test_stress",
     "locked": true,
     "points": 8,
     "schema_version": 3,
     "solution": false,
     "task": false
    }
   },
   "outputs": [],
   "source": [
    "f = np.poly1d([400, -900, 675, -200, 25, 0.2])\n",
    "n=3\n",
    "QandAs = [[0.99,1.7,170.34161446080836],\n",
    "[0.52,1.1,0.9701157770600877],\n",
    "[0.75,1.14,0.8725235401999979],\n",
    "[0.06,1.78,262.655681030227],\n",
    "[0.02,1.7,172.27049307875524]]\n",
    "for a, b, Answer in QandAs: \n",
    "    studentAnswer = simpson38(f,a,b,n)\n",
    "    assert np.isclose(studentAnswer, Answer), f' Did not work for the inputs \\n{a=},\\n{b=}. \\n\\nExpected {Answer=}. \\nGot {studentAnswer=}'\n",
    "print(\"All correct. Good work!\")"
   ]
  },
  {
   "cell_type": "markdown",
   "metadata": {
    "deletable": false,
    "editable": false,
    "nbgrader": {
     "cell_type": "markdown",
     "checksum": "a867e080134bece2c8bd2a2b7d9b6cb8",
     "grade": false,
     "grade_id": "cell-b6ae9996ebed6d0e",
     "locked": true,
     "schema_version": 3,
     "solution": false,
     "task": false
    }
   },
   "source": [
    "<span style='color:red '>\n",
    "    \n",
    "## Numerical differentiation \n",
    "    \n",
    "</span>\n",
    "\n",
    "\n",
    "Write a function called **finiteDifference_low** that takes the following input:\n",
    "* **f**, the function whose derivative we need to find,\n",
    "* **x**, the point to evaluate the derivative,\n",
    "* **h**, the step size, \n",
    "* **method**, the method with which to evaluate. It can be any of the following: `'forward'`, `'backward'`, or `'centered'`\n",
    "\n",
    "And returns the following output:\n",
    "\n",
    "* **D** the first derivative calculated with the **low accuracy formula** based on the user's choice of method. \n",
    "\n",
    "For example:\n",
    "\n",
    "`D = finiteDifference_low(f, x, h, 'centered')`\n",
    "\n",
    "Would return the first derivative of the function f, at x with a step size of h, computed using the low accuracy Centered difference formula.\n",
    "\n",
    "The necessary formulas are shown here:\n",
    "\n",
    "* Forward: $ f'(x_i) = \\frac{f(x_{i+1})-f(x_{i})}{h} $\n",
    "* Backward: $ f'(x_i) = \\frac{f(x_{i})-f(x_{i-1})}{h} $\n",
    "* Centered: $ f'(x_i) = \\frac{f(x_{i+1})-f(x_{i-1})}{2h} $"
   ]
  },
  {
   "cell_type": "code",
   "execution_count": null,
   "metadata": {
    "deletable": false,
    "nbgrader": {
     "cell_type": "code",
     "checksum": "173411a2fcb623773ab0a2aa80bcb246",
     "grade": false,
     "grade_id": "cell-c269d816cb6c6e47",
     "locked": false,
     "schema_version": 3,
     "solution": true,
     "task": false
    }
   },
   "outputs": [],
   "source": [
    "# Numerical differentiation\n",
    "def finiteDifference_low(f, x, h, method):\n",
    "    # YOUR CODE HERE\n",
    "    raise NotImplementedError()"
   ]
  },
  {
   "cell_type": "markdown",
   "metadata": {
    "deletable": false,
    "editable": false,
    "nbgrader": {
     "cell_type": "markdown",
     "checksum": "7f623f16eb2038c52f58acbc0f3c5355",
     "grade": false,
     "grade_id": "cell-353b91511f0bae6d",
     "locked": true,
     "schema_version": 3,
     "solution": false,
     "task": false
    }
   },
   "source": [
    "<span style='color:red '>\n",
    "    \n",
    "#### Script\n",
    "    \n",
    "</span>\n",
    "\n",
    "**OPTIONAL:** Test your function by writing a script below."
   ]
  },
  {
   "cell_type": "code",
   "execution_count": null,
   "metadata": {
    "deletable": false,
    "nbgrader": {
     "cell_type": "code",
     "checksum": "819c5d1b0c7f63f2d826da07b5f55727",
     "grade": true,
     "grade_id": "cell-d234dcc6aa8c60aa",
     "locked": false,
     "points": 0,
     "schema_version": 3,
     "solution": true,
     "task": false
    }
   },
   "outputs": [],
   "source": [
    "# Test your script here\n",
    "# YOUR CODE HERE\n",
    "raise NotImplementedError()"
   ]
  },
  {
   "cell_type": "markdown",
   "metadata": {
    "deletable": false,
    "editable": false,
    "nbgrader": {
     "cell_type": "markdown",
     "checksum": "f002b9bdde8e647ac484978427de6abc",
     "grade": false,
     "grade_id": "cell-816bd1b4a7702",
     "locked": true,
     "schema_version": 3,
     "solution": false,
     "task": false
    }
   },
   "source": [
    "<span style='color:red '>\n",
    "    \n",
    "### Tests\n",
    "    \n",
    "</span>"
   ]
  },
  {
   "cell_type": "code",
   "execution_count": null,
   "metadata": {
    "deletable": false,
    "editable": false,
    "nbgrader": {
     "cell_type": "code",
     "checksum": "d12d7e4f760cf761b8512efe4642c8d7",
     "grade": true,
     "grade_id": "cell-efbde15182bd40c9",
     "locked": true,
     "points": 6,
     "schema_version": 3,
     "solution": false,
     "task": false
    }
   },
   "outputs": [],
   "source": [
    "f = np.poly1d([-0.1, -0.15, -0.5, -0.25, 1.2])\n",
    "QandAs = [[0.44, 0.031, 'centered', -0.8115068859999987],\n",
    "[0.27, 0.034, 'forward', -0.5835985383999999],\n",
    "[0.28, 0.073, 'forward', -0.6246278196999998],\n",
    "[0.4, 0.089, 'backward', -0.6809210131000022],\n",
    "[0.48, 0.068, 'forward', -0.9376179712000011]]\n",
    "for x, h, m, Answer in QandAs: \n",
    "    studentAnswer = finiteDifference_low(f, x, h, m)\n",
    "    assert np.isclose(studentAnswer, Answer), f' Did not work for the inputs {x=}\\n,{h=}\\n,{m=}.\\n\\nExpected {Answer=}. \\nGot {studentAnswer=}'\n",
    "print(\"All correct. Good work!\")"
   ]
  }
 ],
 "metadata": {
  "kernelspec": {
   "display_name": "Python 3 (ipykernel)",
   "language": "python",
   "name": "python3"
  },
  "language_info": {
   "codemirror_mode": {
    "name": "ipython",
    "version": 3
   },
   "file_extension": ".py",
   "mimetype": "text/x-python",
   "name": "python",
   "nbconvert_exporter": "python",
   "pygments_lexer": "ipython3",
   "version": "3.12.7"
  }
 },
 "nbformat": 4,
 "nbformat_minor": 4
}
