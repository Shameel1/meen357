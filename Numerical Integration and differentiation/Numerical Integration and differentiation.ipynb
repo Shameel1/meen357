{
 "cells": [
  {
   "cell_type": "markdown",
   "metadata": {},
   "source": [
    "# MEEN 357 - Summer 2025\n",
    "### Submission Instructions\n",
    "\n",
    "- **Run All Cells**: Before submitting, go to **Kernel > Restart Kernel & Run All Cells** to ensure your code runs without errors. Submissions with errors will receive a **ZERO** grade.\n",
    "- **Enter Your Name**: Fill in your name in the provided cell.\n",
    "- **Complete the Code**: Replace all instances of `YOUR CODE HERE` with your solution. Remove `raise NotImplementedError()`.\n",
    "- **Maintain Structure**: Do not add or remove any cells.\n",
    "- **Test Your Code**: Run the provided tests to check your answers. Note that additional hidden tests may be used during grading.\n",
    "- **Partial Credit**: Will be awarded only if your code runs error-free.\n",
    "- **Save and Submit**: Ensure you submit the latest, correct version of your assignment by checking the last modified time.\n"
   ]
  },
  {
   "cell_type": "code",
   "execution_count": null,
   "metadata": {},
   "outputs": [],
   "source": [
    "NAME = \"\""
   ]
  },
  {
   "cell_type": "code",
   "execution_count": null,
   "metadata": {},
   "outputs": [],
   "source": [
    "import IPython\n",
    "assert IPython.version_info[0] >= 3.8, \"Your version of IPython is too old, please update it.\""
   ]
  },
  {
   "cell_type": "markdown",
   "metadata": {},
   "source": [
    "---"
   ]
  },
  {
   "cell_type": "markdown",
   "metadata": {
    "deletable": false,
    "editable": false,
    "nbgrader": {
     "cell_type": "markdown",
     "checksum": "e8efcb90ab05a6ca0bb01edc10050a65",
     "grade": false,
     "grade_id": "cell-b11333355e4eba1d",
     "locked": true,
     "schema_version": 3,
     "solution": false,
     "task": false
    }
   },
   "source": [
    "# Numerical Integration and Differentiation\n",
    "\n",
    "\n",
    "### Trapezoidal integration\n",
    "* [Multiple application of Trapezoidal Rule](#Multiple-application-of-Trapezoidal-Rule) (10 points)\n",
    "\n",
    "### Simpson's rule\n",
    "* [Multiple application of Simpson's 1/3 rule](#Multiple-application-of-Simpson's-1/3-rule) (10 points)\n",
    "* [Multiple application of Simpson's 3/8 rule](#Multiple-application-of-Simpson's-3/8-rule) (10 points)\n",
    "\n",
    "### Compare with true solution\n",
    "* [True relative error in the methods](#True-relative-error-in-the-methods) (10 points)\n",
    "\n",
    "### Finite Difference \n",
    "* [Numerical Differentiation](#Numerical-differentiation) (10 points)\n",
    "\n",
    "### Compare with true solution\n",
    "* [True solution](#Compare-with-the-true-Solution) (10 points)\n"
   ]
  },
  {
   "cell_type": "code",
   "execution_count": null,
   "metadata": {
    "deletable": false,
    "editable": false,
    "nbgrader": {
     "cell_type": "code",
     "checksum": "710cc5063d955a954f8809ba9ecdfa0a",
     "grade": false,
     "grade_id": "cell-85a17bd73fafb071",
     "locked": true,
     "schema_version": 3,
     "solution": false,
     "task": false
    }
   },
   "outputs": [],
   "source": [
    "import numpy as np\n",
    "import sympy as sp\n",
    "import pandas as pd"
   ]
  },
  {
   "cell_type": "markdown",
   "metadata": {
    "deletable": false,
    "editable": false,
    "nbgrader": {
     "cell_type": "markdown",
     "checksum": "b8ba498a829d892398bc715dd2eb9355",
     "grade": false,
     "grade_id": "cell-9c63cce311adacc9",
     "locked": true,
     "schema_version": 3,
     "solution": false,
     "task": false
    }
   },
   "source": [
    "## Multiple Application of the Trapezoidal Rule\n",
    "\n",
    "Write a function called **trapezoidal** that takes the following inputs:\n",
    "- **f**: The function to integrate.\n",
    "- **a**: The lower limit of integration.\n",
    "- **b**: The upper limit of integration.\n",
    "- **n**: The number of segments (subintervals) to divide the range \\([a, b]\\).\n",
    "\n",
    "The function should return:\n",
    "- **I**: The estimated value of the definite integral of the function **f** from **a** to **b**, computed using the trapezoidal rule with **n** segments.\n",
    "\n",
    "### Trapezoidal Rule Formula:\n",
    "The trapezoidal rule approximates the area under the curve by dividing the range \\([a, b]\\) into **n** equal-width segments and calculating the area of the trapezoid for each segment. The more segments, the more accurate the approximation.\n",
    "\n",
    "For a single segment between points **a** and **b**, the trapezoidal rule is given by:\n",
    "\n",
    "$$\n",
    "I = (b - a) \\frac{f(a) + f(b)}{2}\n",
    "$$\n",
    "\n",
    "For **n** segments, the function must apply this formula repeatedly over the range \\([a, b]\\), summing the areas of the individual trapezoids.\n",
    "\n",
    "### Requirements:\n",
    "- The function should work for any continuous function **f**.\n",
    "- Use a loop to divide the interval \\([a, b]\\) into **n** equal-width subintervals and apply the trapezoidal rule for each segment.\n",
    "- Ensure that the final result is the sum of all these subintervals.\n",
    "\n",
    "### Example:\n",
    "```python\n",
    "f = lambda x: x**2\n",
    "a = 0\n",
    "b = 1\n",
    "n = 10\n",
    "I = trapezoidal(f, a, b, n)\n",
    "print(I)  # Should print the approximate value of the integral of f from 0 to 1.\n",
    "```\n"
   ]
  },
  {
   "cell_type": "code",
   "execution_count": null,
   "metadata": {
    "deletable": false,
    "nbgrader": {
     "cell_type": "code",
     "checksum": "8272b1af0fa709458a0e685e3d8251d6",
     "grade": false,
     "grade_id": "trapezoidalSingle",
     "locked": false,
     "schema_version": 3,
     "solution": true,
     "task": false
    }
   },
   "outputs": [],
   "source": [
    "def trapezoidal(f, a, b, n):\n",
    "    \"\"\"\n",
    "    Approximates the integral of a given function f over the interval [a, b] using the trapezoidal rule.\n",
    "\n",
    "    Parameters:\n",
    "    -----------\n",
    "    f : function\n",
    "        A Python function representing the mathematical function to be integrated.\n",
    "    a : float\n",
    "        The start of the interval over which to integrate.\n",
    "    b : float\n",
    "        The end of the interval over which to integrate.\n",
    "    n : int\n",
    "        The number of subintervals to use for the approximation.\n",
    "\n",
    "    Returns:\n",
    "    --------\n",
    "    float\n",
    "        The approximate value of the integral of f over [a, b] using the trapezoidal rule.\n",
    "    \"\"\"\n",
    "    # YOUR CODE HERE\n",
    "    raise NotImplementedError()"
   ]
  },
  {
   "cell_type": "code",
   "execution_count": null,
   "metadata": {
    "deletable": false,
    "nbgrader": {
     "cell_type": "code",
     "checksum": "03d8805c0047c30b6ef504ab01855db3",
     "grade": false,
     "grade_id": "trapezoidalSingle_script",
     "locked": false,
     "schema_version": 3,
     "solution": true,
     "task": false
    }
   },
   "outputs": [],
   "source": [
    "# You can call and test your function here\n",
    "f = lambda x : 400*x**5 - 900*x**4 + 675*x**3 - 200*x**2 + 25*x - 0.2\n",
    "a = 0\n",
    "b= 1\n",
    "n = 10\n",
    "# YOUR CODE HERE\n",
    "raise NotImplementedError()"
   ]
  },
  {
   "cell_type": "markdown",
   "metadata": {
    "deletable": false,
    "editable": false,
    "nbgrader": {
     "cell_type": "markdown",
     "checksum": "9e0abed9521fc312133986c08aa9eca9",
     "grade": false,
     "grade_id": "cell-816bd1bc4a497702",
     "locked": true,
     "schema_version": 3,
     "solution": false,
     "task": false
    }
   },
   "source": [
    "### Test code"
   ]
  },
  {
   "cell_type": "code",
   "execution_count": null,
   "metadata": {
    "deletable": false,
    "editable": false,
    "nbgrader": {
     "cell_type": "code",
     "checksum": "b83c62a47c8c3618b8652dff571c9f6d",
     "grade": true,
     "grade_id": "trapezoidalSingle_test",
     "locked": true,
     "points": 10,
     "schema_version": 3,
     "solution": false,
     "task": false
    }
   },
   "outputs": [],
   "source": [
    "def test_trapezoidal():\n",
    "    # Define the function and test cases\n",
    "    f = np.poly1d([400, -900, 675, -200, 25, 0.2])\n",
    "    n = 10\n",
    "    test_cases = [\n",
    "        (0.81, 1.72, 192.99537845962806),\n",
    "        (0.37, 1.36, 17.68401979347861),\n",
    "        (0.21, 1.2, 4.2058553603051685),\n",
    "        (0.44, 1.62, 111.5788682920074),\n",
    "        (0.66, 1.94, 569.4407765557228)\n",
    "    ]\n",
    "    \n",
    "    # Loop through test cases and check each one\n",
    "    for i, (a, b, expected) in enumerate(test_cases, 1):\n",
    "        student_answer = trapezoidal(f, a, b, n)\n",
    "        assert np.isclose(student_answer, expected), (\n",
    "            f'Test case {i} failed: For inputs a={a}, b={b}, '\n",
    "            f'expected {expected}, but got {student_answer}.'\n",
    "        )\n",
    "    \n",
    "    print(\"All tests passed successfully!\")\n",
    "\n",
    "# Call the test function\n",
    "test_trapezoidal()"
   ]
  },
  {
   "cell_type": "markdown",
   "metadata": {
    "deletable": false,
    "editable": false,
    "nbgrader": {
     "cell_type": "markdown",
     "checksum": "9277ef1e78977af59a93578ed8df0031",
     "grade": false,
     "grade_id": "cell-9c63c311adac",
     "locked": true,
     "schema_version": 3,
     "solution": false,
     "task": false
    }
   },
   "source": [
    "## Multiple Application of Simpson's 1/3 Rule\n",
    "\n",
    "Write a function called **simpson13** that takes the following inputs:\n",
    "- **f**: The function to integrate.\n",
    "- **a**: The lower limit of integration.\n",
    "- **b**: The upper limit of integration.\n",
    "- **n**: The number of segments.\n",
    "\n",
    "The function should return:\n",
    "- **I**: The estimated value of the definite integral of the function **f** from **a** to **b**, computed by applying Simpson's 1/3 rule on **n** segments.\n",
    "\n",
    "### Approach:\n",
    "Simpson’s 1/3 rule approximates the integral by fitting a parabola to each segment of the function and calculating the area under the parabola. In this method, you will apply Simpson's 1/3 rule to **each segment** individually, allowing **n** to be any positive integer.\n",
    "\n",
    "For each segment $[x_i, x_{i+1}]$, where $x_m$ is the midpoint, the Simpson's 1/3 rule is applied as:\n",
    "\n",
    "$$\n",
    "I = \\frac{x_{i+1} - x_i}{6} \\left( f(x_i) + 4f(x_m) + f(x_{i+1}) \\right)\n",
    "$$\n",
    "\n",
    "This formula is used repeatedly for each segment between **a** and **b**, and the results are summed to get the total approximation of the integral.\n",
    "\n",
    "### Requirements:\n",
    "- The interval $[a, b]$ should be divided into **n** segments of equal width.\n",
    "- For each segment, apply Simpson’s 1/3 rule and sum the results.\n",
    "- **n** can be any positive integer, not necessarily even, as you are applying Simpson's rule to each segment independently.\n",
    "\n",
    "### Example:\n",
    "```python\n",
    "f = lambda x: x**2\n",
    "a = 0\n",
    "b = 1\n",
    "n = 10  # n can be any positive integer\n",
    "I = simpson13(f, a, b, n)\n",
    "print(I)  # Should print the approximate value of the integral of f from 0 to 1.\n",
    "```\n",
    "\n",
    "### Notes:\n",
    "- **n** can be any positive integer since Simpson’s 1/3 rule is applied on each segment individually.\n",
    "- Applying Simpson's 1/3 rule on each segment provides flexibility and simplifies the implementation.\n",
    "- Increasing **n** improves accuracy, especially for smooth functions."
   ]
  },
  {
   "cell_type": "code",
   "execution_count": null,
   "metadata": {
    "deletable": false,
    "nbgrader": {
     "cell_type": "code",
     "checksum": "9a95dcfb088a8eb0931b239b3ea2e052",
     "grade": false,
     "grade_id": "simpson13",
     "locked": false,
     "schema_version": 3,
     "solution": true,
     "task": false
    }
   },
   "outputs": [],
   "source": [
    "def simpson13(f, a, b, n):\n",
    "    \"\"\"\n",
    "    Approximates the definite integral of a given function f over the interval [a, b] using \n",
    "    Simpson's 1/3 rule, applied on each individual segment.\n",
    "\n",
    "    Parameters:\n",
    "    -----------\n",
    "    f : function\n",
    "        A Python function representing the mathematical function to be integrated.\n",
    "    a : float\n",
    "        The start of the interval over which to integrate.\n",
    "    b : float\n",
    "        The end of the interval over which to integrate.\n",
    "    n : int\n",
    "        The number of segments into which the interval [a, b] is divided.\n",
    "\n",
    "    Returns:\n",
    "    --------\n",
    "    float\n",
    "        The approximate value of the integral of f over [a, b] using Simpson's 1/3 rule \n",
    "        applied on each of the n segments.\n",
    "    \"\"\"\n",
    "    # YOUR CODE HERE\n",
    "    raise NotImplementedError()"
   ]
  },
  {
   "cell_type": "code",
   "execution_count": null,
   "metadata": {
    "deletable": false,
    "nbgrader": {
     "cell_type": "code",
     "checksum": "28b490c22798d1c3fc1556e1967b8f51",
     "grade": true,
     "grade_id": "simpson13_script",
     "locked": false,
     "points": 0,
     "schema_version": 3,
     "solution": true,
     "task": false
    }
   },
   "outputs": [],
   "source": [
    "# You can call and test your function here\n",
    "f = lambda x : 400*x**5 - 900*x**4 + 675*x**3 - 200*x**2 + 25*x - 0.2\n",
    "a = 0\n",
    "b= 1\n",
    "n = 10\n",
    "# YOUR CODE HERE\n",
    "raise NotImplementedError()"
   ]
  },
  {
   "cell_type": "markdown",
   "metadata": {
    "deletable": false,
    "editable": false,
    "nbgrader": {
     "cell_type": "markdown",
     "checksum": "045e1ace7e9390b965270aee287d2717",
     "grade": false,
     "grade_id": "cell-816d1b4a7702",
     "locked": true,
     "schema_version": 3,
     "solution": false,
     "task": false
    }
   },
   "source": [
    "### Test code"
   ]
  },
  {
   "cell_type": "code",
   "execution_count": null,
   "metadata": {
    "deletable": false,
    "editable": false,
    "nbgrader": {
     "cell_type": "code",
     "checksum": "4af006dda2429331a0b0ab293168b9c5",
     "grade": true,
     "grade_id": "simpson13_test",
     "locked": true,
     "points": 10,
     "schema_version": 3,
     "solution": false,
     "task": false
    }
   },
   "outputs": [],
   "source": [
    "def test_simpson13():\n",
    "    # Define the function and test cases\n",
    "    f = np.poly1d([400, -900, 675, -200, 25, 0.2])\n",
    "    n = 3\n",
    "    test_cases = [\n",
    "        (0.63, 1.62, 107.42727556687507),\n",
    "        (0.26, 1.88, 426.8775571056001),\n",
    "        (0.11, 1.78, 263.2698371968452),\n",
    "        (0.91, 1.14, 0.9247925416486618),\n",
    "        (0.34, 1.62, 108.54189631294169)\n",
    "    ]\n",
    "    \n",
    "    # Loop through test cases and check each one\n",
    "    for i, (a, b, expected) in enumerate(test_cases, 1):\n",
    "        student_answer = simpson13(f, a, b, n)\n",
    "        assert np.isclose(student_answer, expected), (\n",
    "            f'Test case {i} failed: For inputs a={a}, b={b}, '\n",
    "            f'expected {expected}, but got {student_answer}.'\n",
    "        )\n",
    "    \n",
    "    print(\"All tests passed successfully!\")\n",
    "\n",
    "# Call the test function\n",
    "test_simpson13()\n"
   ]
  },
  {
   "cell_type": "markdown",
   "metadata": {
    "deletable": false,
    "editable": false,
    "nbgrader": {
     "cell_type": "markdown",
     "checksum": "153273748e16ad829bcffc06cf21049b",
     "grade": false,
     "grade_id": "cell-9c63c11dac",
     "locked": true,
     "schema_version": 3,
     "solution": false,
     "task": false
    }
   },
   "source": [
    "## Multiple Application of Simpson's 3/8 Rule\n",
    "\n",
    "Write a function called **simpson38** that takes the following inputs:\n",
    "- **f**: The function to integrate.\n",
    "- **a**: The lower limit of integration.\n",
    "- **b**: The upper limit of integration.\n",
    "- **n**: The number of segments (subintervals) to divide the range $[a, b]$.\n",
    "\n",
    "The function should return:\n",
    "- **I**: The estimated value of the definite integral of the function **f** from **a** to **b**, computed using Simpson's 3/8 rule with **n** segments.\n",
    "\n",
    "### Approach:\n",
    "Simpson’s 3/8 rule is an extension of Simpson's method that approximates the integral by fitting a cubic polynomial to each segment of the function and calculating the area under the curve. In this method, you will apply Simpson's 3/8 rule on **each segment** individually, allowing **n** to be any positive integer.\n",
    "\n",
    "For a single application of Simpson's 3/8 rule over the interval $[x_0, x_3]$, with points $x_1$ and $x_2$ dividing the interval, the formula is:\n",
    "\n",
    "$$\n",
    "I = \\frac{b-a}{8} \\left( f(x_0) + 3f(x_1) + 3f(x_2) + f(x_3) \\right)\n",
    "$$\n",
    "\n",
    "This formula is used repeatedly for each segment between **a** and **b**, and the results are summed to get the total approximation of the integral.\n",
    "\n",
    "### Requirements:\n",
    "- Divide the interval $[a, b]$ into **n** equal segments.\n",
    "- For each segment, apply Simpson’s 3/8 rule and sum the results.\n",
    "- **n** can be any positive integer, as the rule is applied to each segment individually.\n",
    "\n",
    "### Example:\n",
    "```python\n",
    "f = lambda x: x**3\n",
    "a = 0\n",
    "b = 1\n",
    "n = 3  # n can be any positive integer\n",
    "I = simpson38(f, a, b, n)\n",
    "print(I)  # Should print the approximate value of the integral of f from 0 to 1.\n",
    "```\n",
    "\n",
    "### Notes:\n",
    "- **n** can be any positive integer since Simpson’s 3/8 rule is applied to each segment independently.\n",
    "- Increasing **n** improves the accuracy of the result, especially for smooth functions."
   ]
  },
  {
   "cell_type": "code",
   "execution_count": null,
   "metadata": {
    "deletable": false,
    "nbgrader": {
     "cell_type": "code",
     "checksum": "407b77d745053dfbc9e2114adca03209",
     "grade": false,
     "grade_id": "simpson38",
     "locked": false,
     "schema_version": 3,
     "solution": true,
     "task": false
    }
   },
   "outputs": [],
   "source": [
    "def simpson38(f, a, b, n):\n",
    "    \"\"\"\n",
    "    Approximates the definite integral of a given function f over the interval [a, b] using \n",
    "    Simpson's 3/8 rule, applied on each individual segment.\n",
    "\n",
    "    Parameters:\n",
    "    -----------\n",
    "    f : function\n",
    "        A Python function representing the mathematical function to be integrated.\n",
    "    a : float\n",
    "        The start of the interval over which to integrate.\n",
    "    b : float\n",
    "        The end of the interval over which to integrate.\n",
    "    n : int\n",
    "        The number of segments into which the interval [a, b] is divided.\n",
    "\n",
    "    Returns:\n",
    "    --------\n",
    "    float\n",
    "        The approximate value of the integral of f over [a, b] using Simpson's 3/8 rule \n",
    "        applied on each of the n segments.\n",
    "    \"\"\"\n",
    "    # YOUR CODE HERE\n",
    "    raise NotImplementedError()"
   ]
  },
  {
   "cell_type": "code",
   "execution_count": null,
   "metadata": {
    "deletable": false,
    "nbgrader": {
     "cell_type": "code",
     "checksum": "da570047b5f8803b1ddd25c35f4fab50",
     "grade": false,
     "grade_id": "simpson38_script",
     "locked": false,
     "schema_version": 3,
     "solution": true,
     "task": false
    }
   },
   "outputs": [],
   "source": [
    "f = np.poly1d([400, -900, 675, -200, 25, 0.2])\n",
    "a = 0\n",
    "b= 1\n",
    "n = 3\n",
    "# YOUR CODE HERE\n",
    "raise NotImplementedError()"
   ]
  },
  {
   "cell_type": "markdown",
   "metadata": {
    "deletable": false,
    "editable": false,
    "nbgrader": {
     "cell_type": "markdown",
     "checksum": "ab411d544909e07087b0d857c6e1cbd0",
     "grade": false,
     "grade_id": "cell-81b1b47702",
     "locked": true,
     "schema_version": 3,
     "solution": false,
     "task": false
    }
   },
   "source": [
    "### Test code"
   ]
  },
  {
   "cell_type": "code",
   "execution_count": null,
   "metadata": {
    "deletable": false,
    "editable": false,
    "nbgrader": {
     "cell_type": "code",
     "checksum": "16b2ca33d986e89af12c099776a1d183",
     "grade": true,
     "grade_id": "simpson38_test",
     "locked": true,
     "points": 10,
     "schema_version": 3,
     "solution": false,
     "task": false
    }
   },
   "outputs": [],
   "source": [
    "def test_simpson38():\n",
    "    # Define the function and test cases\n",
    "    f = np.poly1d([400, -900, 675, -200, 25, 0.2])\n",
    "    n = 3\n",
    "    test_cases = [\n",
    "        (0.99, 1.7, 170.34161446080836),\n",
    "        (0.52, 1.1, 0.9701157770600877),\n",
    "        (0.75, 1.14, 0.8725235401999979),\n",
    "        (0.06, 1.78, 262.655681030227),\n",
    "        (0.02, 1.7, 172.27049307875524)\n",
    "    ]\n",
    "    \n",
    "    # Loop through test cases and check each one\n",
    "    for i, (a, b, expected) in enumerate(test_cases, 1):\n",
    "        student_answer = simpson38(f, a, b, n)\n",
    "        assert np.isclose(student_answer, expected), (\n",
    "            f\"Test case {i} failed: For inputs a={a}, b={b}, \"\n",
    "            f\"expected {expected}, but got {student_answer}.\"\n",
    "        )\n",
    "    \n",
    "    print(\"All tests passed successfully!\")\n",
    "\n",
    "# Call the test function\n",
    "test_simpson38()\n"
   ]
  },
  {
   "cell_type": "markdown",
   "metadata": {
    "deletable": false,
    "editable": false,
    "nbgrader": {
     "cell_type": "markdown",
     "checksum": "5c6be189cef5f947512b76800278bcbb",
     "grade": false,
     "grade_id": "cell-15cd1bf3cb7fec0b",
     "locked": true,
     "schema_version": 3,
     "solution": false,
     "task": false
    }
   },
   "source": [
    "## True error\n",
    "Write a function called **trueError** that takes the following inputs:\n",
    "\n",
    "* **x**, the new value\n",
    "* **xtrue**, the previous value\n",
    "\n",
    "And returns the following output:\n",
    "\n",
    "* **error**, the calculated relative error\n",
    "\n",
    "The formula for the relative error is shown below:\n",
    "\n",
    "$e_{true} = |\\frac{x-x_{true}}{x_{true}}|100 \\%$"
   ]
  },
  {
   "cell_type": "code",
   "execution_count": null,
   "metadata": {
    "deletable": false,
    "nbgrader": {
     "cell_type": "code",
     "checksum": "c88cfe34aea0efb8dc7b32e07130fe3b",
     "grade": false,
     "grade_id": "cell-4deb474a40e835b3",
     "locked": false,
     "schema_version": 3,
     "solution": true,
     "task": false
    }
   },
   "outputs": [],
   "source": [
    "def trueError(x,xtrue):\n",
    "    # YOUR CODE HERE\n",
    "    raise NotImplementedError()"
   ]
  },
  {
   "cell_type": "code",
   "execution_count": null,
   "metadata": {
    "deletable": false,
    "nbgrader": {
     "cell_type": "code",
     "checksum": "310f7f4e05ba69946d1b82291d450013",
     "grade": true,
     "grade_id": "cell-04a341a78a1dde05",
     "locked": false,
     "points": 0,
     "schema_version": 3,
     "solution": true,
     "task": false
    }
   },
   "outputs": [],
   "source": [
    "# You can call and test your function here\n",
    "# YOUR CODE HERE\n",
    "raise NotImplementedError()"
   ]
  },
  {
   "cell_type": "markdown",
   "metadata": {
    "deletable": false,
    "editable": false,
    "nbgrader": {
     "cell_type": "markdown",
     "checksum": "2a4acc96a9f33fd6265205ffd8dc1294",
     "grade": false,
     "grade_id": "cell-9c63cc11da",
     "locked": true,
     "schema_version": 3,
     "solution": false,
     "task": false
    }
   },
   "source": [
    "## True Relative Error in Numerical Integration Methods\n",
    "\n",
    "### Objective:\n",
    "Write a script to numerically integrate the following function from **0** to **1**:\n",
    "\n",
    "$$\n",
    "f(x) = x^{0.1}(1.2 - x)(1 - e^{20(x - 1)}) \\, dx\n",
    "$$\n",
    "\n",
    "### Instructions:\n",
    "1. **Integration Methods**: Use the following numerical integration methods:\n",
    "   - Trapezoidal Rule\n",
    "   - Simpson's 1/3 Rule\n",
    "   - Simpson's 3/8 Rule\n",
    "\n",
    "2. **Parameters**:\n",
    "   - Set the number of segments (n) to **4** for all integration methods.\n",
    "   - Round the results of your integration to **3 decimal places**.\n",
    "\n",
    "3. **Variable Naming**: Store the results of each integration method in the following variables:\n",
    "   - `I_trap` for the Trapezoidal Rule result\n",
    "   - `I_s13` for the result using Simpson's 1/3 Rule\n",
    "   - `I_s38` for the result using Simpson's 3/8 Rule\n",
    "\n",
    "4. **True Value**: The true value of the integral for comparison is **0.602298**.\n",
    "\n",
    "5. **Calculate True Relative Error**: After computing the integrals, calculate the true relative error for each method using the formula:\n",
    "\n",
    "$$\n",
    "e_{\\text{true}} = \\left| \\frac{I - \\text{true value}}{\\text{true value}} \\right| \\times 100\\%\n",
    "$$\n",
    "\n",
    "Where $I$ is the result of each integration method.\n",
    "\n",
    "### Example Code Structure:\n",
    "You may find the following structure helpful for organizing your script:\n",
    "\n",
    "```python\n",
    "# Define the function f(x)\n",
    "def f(x):\n",
    "    return x**0.1 ...\n",
    "\n",
    "# Implement the numerical integration methods here\n",
    "# Calculate the integral using the Trapezoidal rule\n",
    "I_trap = ...\n",
    "\n",
    "# Calculate the integral using Simpson's 1/3 Rule\n",
    "I_s13 = ...\n",
    "\n",
    "# Calculate the integral using Simpson's 3/8 Rule\n",
    "I_s38 = ...\n",
    "\n",
    "# Print the results\n",
    "print(f\"Trapezoidal Rule Result: {I_trap}\")\n",
    "print(f\"Simpson's 1/3 Rule Result: {I_s13}\")\n",
    "print(f\"Simpson's 3/8 Rule Result: {I_s38}\")\n",
    "\n",
    "# Calculate and print the true relative error for each method\n",
    "error_trap = ...\n",
    "error_s13 = ...\n",
    "error_s38 = ...\n",
    "```"
   ]
  },
  {
   "cell_type": "code",
   "execution_count": null,
   "metadata": {
    "deletable": false,
    "nbgrader": {
     "cell_type": "code",
     "checksum": "bd7d602c6d175ee3410d4567f5bd0ec8",
     "grade": false,
     "grade_id": "trueCompare",
     "locked": false,
     "schema_version": 3,
     "solution": true,
     "task": false
    }
   },
   "outputs": [],
   "source": [
    "# Write your script here.\n",
    "# YOUR CODE HERE\n",
    "raise NotImplementedError()"
   ]
  },
  {
   "cell_type": "code",
   "execution_count": null,
   "metadata": {
    "deletable": false,
    "editable": false,
    "nbgrader": {
     "cell_type": "code",
     "checksum": "96bc396eceaf25eb340d066d23dca653",
     "grade": true,
     "grade_id": "cell-b07ad544d20b8d97",
     "locked": true,
     "points": 7,
     "schema_version": 3,
     "solution": false,
     "task": false
    }
   },
   "outputs": [],
   "source": [
    "# Check integration\n",
    "def test_integration_results():\n",
    "    # Define the expected values (rounded to 3 decimals for comparison)\n",
    "    expected_values = {\n",
    "        'I_trap': 0.479,  # Rounded to 3 decimal places\n",
    "        'I_s13': 0.570,   # Rounded to 3 decimal places\n",
    "        'I_s38': 0.579    # Rounded to 3 decimal places\n",
    "    }\n",
    "\n",
    "    # Dictionary to hold actual results\n",
    "    actual_values = {\n",
    "        'I_trap': I_trap,\n",
    "        'I_s13': I_s13,\n",
    "        'I_s38': I_s38\n",
    "    }\n",
    "\n",
    "    # Loop through each method and assert closeness to expected values\n",
    "    for method, expected in expected_values.items():\n",
    "        actual = actual_values[method]\n",
    "        assert np.isclose(actual, expected, atol=0.001), (\n",
    "            f\"Test failed for {method}: Expected {expected}, but got {actual}.\"\n",
    "        )\n",
    "\n",
    "    print(\"All tests passed successfully!\")\n",
    "\n",
    "# Call the test function\n",
    "test_integration_results()\n"
   ]
  },
  {
   "cell_type": "code",
   "execution_count": null,
   "metadata": {
    "deletable": false,
    "editable": false,
    "nbgrader": {
     "cell_type": "code",
     "checksum": "6511e5506931d433b528e74915323009",
     "grade": true,
     "grade_id": "cell-ba6f64877644782a",
     "locked": true,
     "points": 3,
     "schema_version": 3,
     "solution": false,
     "task": false
    }
   },
   "outputs": [],
   "source": [
    "# Check errors\n",
    "def test_integration_results():\n",
    "    # Define the expected values (rounded to 3 decimals for comparison)\n",
    "    expected_values = {\n",
    "        'error_trap': 20.537,  # Rounded to 3 decimal places\n",
    "        'error_s13': 5.336,   # Rounded to 3 decimal places\n",
    "        'error_s38': 3.87    # Rounded to 3 decimal places\n",
    "    }\n",
    "\n",
    "    # Dictionary to hold actual results\n",
    "    actual_values = {\n",
    "        'error_trap': error_trap,\n",
    "        'error_s13': error_s13,\n",
    "        'error_s38': error_s38\n",
    "    }\n",
    "\n",
    "    # Loop through each method and assert closeness to expected values\n",
    "    for method, expected in expected_values.items():\n",
    "        actual = actual_values[method]\n",
    "        assert np.isclose(actual, expected, atol=0.001), (\n",
    "            f\"Test failed for {method}: Expected {expected}, but got {actual}.\"\n",
    "        )\n",
    "\n",
    "    print(\"All tests passed successfully!\")\n",
    "\n",
    "# Call the test function\n",
    "test_integration_results()\n"
   ]
  },
  {
   "cell_type": "markdown",
   "metadata": {
    "deletable": false,
    "editable": false,
    "nbgrader": {
     "cell_type": "markdown",
     "checksum": "2959c900607c6903e5fdf93f896ad271",
     "grade": false,
     "grade_id": "cell-ac9a89bff58f6fde",
     "locked": true,
     "schema_version": 3,
     "solution": false,
     "task": false
    }
   },
   "source": [
    "## Numerical Differentiation\n",
    "\n",
    "### Objective:\n",
    "Write a function called **finiteDifference** to numerically approximate the first derivative of a given function at a specified point using various methods and levels of accuracy.\n",
    "\n",
    "### Inputs:\n",
    "The function should take the following parameters:\n",
    "- **f**: The function for which you want to calculate the derivative. This should be a callable function (e.g., `f(x)`).\n",
    "- **x**: The point at which to evaluate the derivative (a numeric value).\n",
    "- **h**: The step size (a small positive numeric value).\n",
    "- **method**: A string indicating the differentiation method to use. This can be one of the following options:\n",
    "  - `'forward'`: Forward difference method.\n",
    "  - `'backward'`: Backward difference method.\n",
    "  - `'centered'`: Centered difference method.\n",
    "  \n",
    "- **accuracy**: A string indicating the desired accuracy of the method. This can be one of the following options:\n",
    "  - `'high-order'`: High-order accuracy method.\n",
    "  - `'low-order'`: Low-order accuracy method.\n",
    "\n",
    "### Output:\n",
    "The function should return:\n",
    "- **D**: The first derivative of the function **f** evaluated at point **x**, computed based on the selected method and accuracy.\n",
    "\n",
    "### Example Usage:\n",
    "```python\n",
    "D = finiteDifference(f, x, h, 'centered', 'high-order')\n",
    "```\n",
    "This would compute the derivative of the function **f** at the point **x**, using a step size of **h**, and employing the high-order centered difference formula.\n",
    "\n",
    "### Reference:\n",
    "The necessary formulas for the various differentiation methods can be found on pages 656 and 657 of your textbook. Consult these formulas to implement the appropriate calculations in your function.\n"
   ]
  },
  {
   "cell_type": "code",
   "execution_count": null,
   "metadata": {
    "deletable": false,
    "nbgrader": {
     "cell_type": "code",
     "checksum": "583984ca6eed24ee51c7f5fce5177aca",
     "grade": false,
     "grade_id": "finiteDiff",
     "locked": false,
     "schema_version": 3,
     "solution": true,
     "task": false
    }
   },
   "outputs": [],
   "source": [
    "# Numerical differentiation\n",
    "def finiteDifference(f, x, h, method, accuracy):\n",
    "    \"\"\"\n",
    "    Numerically approximate the first derivative of a function at a specified point.\n",
    "\n",
    "    This function calculates the derivative of the function `f` at the point `x` \n",
    "    using finite difference methods. The method used can be selected based on \n",
    "    the desired accuracy (high-order or low-order) and the type of finite \n",
    "    difference method (forward, backward, or centered).\n",
    "\n",
    "    Parameters:\n",
    "    -----------\n",
    "    f : callable\n",
    "        The function for which the derivative is to be calculated. It should \n",
    "        accept a single numeric argument and return a numeric result.\n",
    "\n",
    "    x : float\n",
    "        The point at which to evaluate the derivative.\n",
    "\n",
    "    h : float\n",
    "        The step size used in the finite difference approximation. This should \n",
    "        be a small positive number.\n",
    "\n",
    "    method : str\n",
    "        The differentiation method to use. It can be one of the following:\n",
    "        - 'forward': Use the forward difference method.\n",
    "        - 'backward': Use the backward difference method.\n",
    "        - 'centered': Use the centered difference method.\n",
    "\n",
    "    accuracy : str\n",
    "        The desired accuracy of the method. It can be one of the following:\n",
    "        - 'high-order': Use a high-order accuracy method.\n",
    "        - 'low-order': Use a low-order accuracy method.\n",
    "\n",
    "    Returns:\n",
    "    --------\n",
    "    D : float\n",
    "        The approximated first derivative of the function `f` at the point `x`, \n",
    "        calculated based on the specified method and accuracy. If an invalid \n",
    "        method or accuracy is provided, D will be set to -1.\n",
    "\n",
    "    Raises:\n",
    "    -------\n",
    "    ValueError: If the method or accuracy provided is invalid.\n",
    "    \"\"\"\n",
    "    # YOUR CODE HERE\n",
    "    raise NotImplementedError()"
   ]
  },
  {
   "cell_type": "code",
   "execution_count": null,
   "metadata": {
    "deletable": false,
    "nbgrader": {
     "cell_type": "code",
     "checksum": "03be3878947a17315f9278e0edd8a571",
     "grade": false,
     "grade_id": "finiteDiff_script",
     "locked": false,
     "schema_version": 3,
     "solution": true,
     "task": false
    }
   },
   "outputs": [],
   "source": [
    "# Test your script here\n",
    "# YOUR CODE HERE\n",
    "raise NotImplementedError()"
   ]
  },
  {
   "cell_type": "markdown",
   "metadata": {
    "deletable": false,
    "editable": false,
    "nbgrader": {
     "cell_type": "markdown",
     "checksum": "ce516b8900ee61fb5a67908f4eb48494",
     "grade": false,
     "grade_id": "cell-0c8be67b2ef5a9d3",
     "locked": true,
     "schema_version": 3,
     "solution": false,
     "task": false
    }
   },
   "source": [
    "### Test code"
   ]
  },
  {
   "cell_type": "code",
   "execution_count": null,
   "metadata": {
    "deletable": false,
    "editable": false,
    "nbgrader": {
     "cell_type": "code",
     "checksum": "652d63cb2d34083837bf1ea29d38ad31",
     "grade": true,
     "grade_id": "finiteDiff_test",
     "locked": true,
     "points": 8,
     "schema_version": 3,
     "solution": false,
     "task": false
    }
   },
   "outputs": [],
   "source": [
    "# Define the polynomial function\n",
    "f = np.poly1d([-0.1, -0.15, -0.5, -0.25, 1.2])\n",
    "\n",
    "# Test cases: (x, h, method, accuracy, expected_answer)\n",
    "test_cases = [\n",
    "    (0.34, 0.032, 'centered', 'high-order', -0.6577416000000015),\n",
    "    (0.45, 0.062, 'forward', 'low-order', -0.879955352800001),\n",
    "    (0.52, 0.031, 'centered', 'high-order', -0.9479232000000009),\n",
    "    (0.25, 0.045, 'backward', 'high-order', -0.5334171749999974),\n",
    "    (0.23, 0.08, 'centered', 'low-order', -0.5102205999999998),\n",
    "]\n",
    "\n",
    "# Iterate through test cases and validate results\n",
    "for i, (x, h, method, accuracy, expected) in enumerate(test_cases, 1):\n",
    "    student_answer = finiteDifference(f, x, h, method, accuracy)\n",
    "    \n",
    "    # Assert if the student's answer is not close to the expected answer\n",
    "    assert np.isclose(student_answer, expected), (\n",
    "        f\"Test case {i} failed for inputs: x={x}, h={h}, method='{method}', accuracy='{accuracy}'. \"\n",
    "        f\"Expected: {expected}, Got: {student_answer}\"\n",
    "    )\n",
    "\n",
    "print(\"All tests passed. Good work!\")\n"
   ]
  },
  {
   "cell_type": "code",
   "execution_count": null,
   "metadata": {
    "deletable": false,
    "editable": false,
    "nbgrader": {
     "cell_type": "code",
     "checksum": "1f9bc95ae65e6525454879fcd4117ffe",
     "grade": true,
     "grade_id": "cell-25cf28fe8efe1b20",
     "locked": true,
     "points": 2,
     "schema_version": 3,
     "solution": false,
     "task": false
    }
   },
   "outputs": [],
   "source": [
    "# Invalid test cases for method and accuracy\n",
    "invalid_methods = [\n",
    "    (0.34, 0.032, 'invalid_method', 'high-order'),\n",
    "    (0.25, 0.045, 'backward', 'invalid_accuracy'),\n",
    "]\n",
    "\n",
    "for x, h, method, accuracy in invalid_methods:\n",
    "    try:\n",
    "        finiteDifference(f, x, h, method, accuracy)\n",
    "    except ValueError as e:\n",
    "        print(f\"Correctly caught ValueError for method, and accuracy. Error message: {e}\")\n"
   ]
  },
  {
   "cell_type": "markdown",
   "metadata": {
    "deletable": false,
    "editable": false,
    "nbgrader": {
     "cell_type": "markdown",
     "checksum": "8bcfc5892a9b3cd39ebd293114f21e1c",
     "grade": false,
     "grade_id": "cell-aad03879928b8f60",
     "locked": true,
     "schema_version": 3,
     "solution": false,
     "task": false
    }
   },
   "source": [
    "## Comparing Numerical Derivatives with the True Solution\n",
    "\n",
    "Your task is to find the derivative of the following function at $x = 0.5$ using a series of step sizes $h$:\n",
    "\n",
    "$$\n",
    "f(x) = -0.1 x^4 - 0.15 x^3 - 0.5 x^2 - 0.25 x + 1.2\n",
    "$$\n",
    "\n",
    "### Requirements:\n",
    "\n",
    "1. **Symbolic Derivation**:\n",
    "   - Use the `sympy` library to find the exact derivative of the function. Utilize the `sp.diff()` function for differentiation.\n",
    "\n",
    "2. **Numerical Derivation**:\n",
    "   - Calculate the derivative using the **low accuracy centered difference formula**.\n",
    "\n",
    "3. **Calculate True Relative Error**:\n",
    "   - Compute the true relative error between the numerical derivative and the exact derivative.\n",
    "\n",
    "### Step Size Range:\n",
    "Generate results for step sizes ranging from $h = 0.5$ to $h = 0.05$, decrementing by $0.05$ at each step.\n",
    "\n",
    "### Data Storage:\n",
    "Create a Pandas DataFrame called **result** with the following columns:\n",
    "- **step size**: The chosen step sizes $h$\n",
    "- **derivative**: The numerical derivative using the low accuracy centered difference method\n",
    "- **error**: The calculated true relative error for each step size\n",
    "\n",
    "\n",
    "### Expected Outcome:\n",
    "By the end of this exercise, you should have a comprehensive DataFrame that captures the results of your numerical differentiation, allowing for easy comparison between the different step sizes and their associated errors.\n"
   ]
  },
  {
   "cell_type": "code",
   "execution_count": null,
   "metadata": {
    "deletable": false,
    "nbgrader": {
     "cell_type": "code",
     "checksum": "fa5dc57c41f75952e08b9f25d1fa52dc",
     "grade": false,
     "grade_id": "compareToTrue",
     "locked": false,
     "schema_version": 3,
     "solution": true,
     "task": false
    }
   },
   "outputs": [],
   "source": [
    "# Write your script here\n",
    "# YOUR CODE HERE\n",
    "raise NotImplementedError()"
   ]
  },
  {
   "cell_type": "code",
   "execution_count": null,
   "metadata": {
    "deletable": false,
    "editable": false,
    "nbgrader": {
     "cell_type": "code",
     "checksum": "17c13988003df9a63161a2f1d258243d",
     "grade": true,
     "grade_id": "cell-4fcb7fadd54d06ed",
     "locked": true,
     "points": 7,
     "schema_version": 3,
     "solution": false,
     "task": false
    }
   },
   "outputs": [],
   "source": [
    "# Expected values for specific step sizes\n",
    "expected_values = {\n",
    "    0.50: (-1.0, 9.589041),\n",
    "    0.45: (-0.983, 7.767123),\n",
    "    0.40: (-0.968, 6.136986),\n",
    "}\n",
    "\n",
    "# Test code\n",
    "for step_size, (expected_derivative, expected_error) in expected_values.items():\n",
    "    student_derivative = result.loc[step_size, 'derivative']\n",
    "    \n",
    "    assert np.isclose(student_derivative, expected_derivative, atol=1e-3), \\\n",
    "        f'Failed for step size {step_size}: expected derivative {expected_derivative}, got {student_derivative}'\n",
    "print(\"All tests passed. Good work!\")"
   ]
  },
  {
   "cell_type": "code",
   "execution_count": null,
   "metadata": {
    "deletable": false,
    "editable": false,
    "nbgrader": {
     "cell_type": "code",
     "checksum": "a98f0b17eaecb4e13a48703205896a5a",
     "grade": true,
     "grade_id": "cell-d7240e30e34a0c4b",
     "locked": true,
     "points": 3,
     "schema_version": 3,
     "solution": false,
     "task": false
    }
   },
   "outputs": [],
   "source": [
    "# Expected values for specific step sizes\n",
    "expected_values = {\n",
    "    0.50: (-1.0, 9.589041),\n",
    "    0.45: (-0.983, 7.767123),\n",
    "    0.40: (-0.968, 6.136986),\n",
    "}\n",
    "\n",
    "# Test code\n",
    "for step_size, (expected_derivative, expected_error) in expected_values.items():\n",
    "    student_error = result.loc[step_size, 'error']\n",
    "\n",
    "    assert np.isclose(student_error, expected_error, atol=1e-3), \\\n",
    "        f'Failed for step size {step_size}: expected error {expected_error}, got {student_error}'\n",
    "\n",
    "print(\"All tests passed. Good work!\")"
   ]
  }
 ],
 "metadata": {
  "kernelspec": {
   "display_name": "Python 3 (ipykernel)",
   "language": "python",
   "name": "python3"
  },
  "language_info": {
   "codemirror_mode": {
    "name": "ipython",
    "version": 3
   },
   "file_extension": ".py",
   "mimetype": "text/x-python",
   "name": "python",
   "nbconvert_exporter": "python",
   "pygments_lexer": "ipython3",
   "version": "3.12.5"
  }
 },
 "nbformat": 4,
 "nbformat_minor": 4
}
