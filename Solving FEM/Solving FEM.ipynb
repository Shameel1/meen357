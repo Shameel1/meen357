{
 "cells": [
  {
   "cell_type": "markdown",
   "metadata": {},
   "source": [
    "# MEEN 357 - Summer 2025\n",
    "### Submission Instructions\n",
    "\n",
    "- **Run All Cells**: Before submitting, go to **Kernel > Restart Kernel & Run All Cells** to ensure your code runs without errors. Submissions with errors will receive a **ZERO** grade.\n",
    "- **Enter Your Name**: Fill in your name in the provided cell.\n",
    "- **Complete the Code**: Replace all instances of `YOUR CODE HERE` with your solution. Remove `raise NotImplementedError()`.\n",
    "- **Maintain Structure**: Do not add or remove any cells.\n",
    "- **Test Your Code**: Run the provided tests to check your answers. Note that additional hidden tests may be used during grading.\n",
    "- **Partial Credit**: Will be awarded only if your code runs error-free.\n",
    "- **Save and Submit**: Ensure you submit the latest, correct version of your assignment by checking the last modified time.\n"
   ]
  },
  {
   "cell_type": "code",
   "execution_count": null,
   "metadata": {},
   "outputs": [],
   "source": [
    "NAME = \"\""
   ]
  },
  {
   "cell_type": "code",
   "execution_count": null,
   "metadata": {},
   "outputs": [],
   "source": [
    "import IPython\n",
    "assert IPython.version_info[0] >= 3.8, \"Your version of IPython is too old, please update it.\""
   ]
  },
  {
   "cell_type": "markdown",
   "metadata": {},
   "source": [
    "---"
   ]
  },
  {
   "cell_type": "markdown",
   "metadata": {
    "deletable": false,
    "editable": false,
    "nbgrader": {
     "cell_type": "markdown",
     "checksum": "a49e5fcc89d750d371bfc2e0542250ff",
     "grade": false,
     "grade_id": "cell-b11333355e4eba1d",
     "locked": true,
     "schema_version": 3,
     "solution": false,
     "task": false
    }
   },
   "source": [
    "# Solving FEM\n",
    "\n",
    "This assignment focuses on solving an FEM problem involving a discrete system of elements. The first part of the assignment is for you to get familiar with a new data type called pandas DataFrame. You will learn how to create and use a Pandas DataFrame. You will need to know this before proceeding with the assignment. \n",
    "\n",
    "The second part of the assignment breaks down the solving of a discrete element system into multiple steps. Every step is depended on the results from the previous step. Hence, make sure that you have the correct results before proceeding.\n",
    "\n",
    "* [ Creating a pandas DataFrame](#Creating-a-pandas-DataFrame-(4-points))\n",
    "* [ Pandas apply method](#Pandas-apply-method-(4-points))\n",
    "\n",
    "\n",
    "### FEM for discrete spring systems\n",
    "* [ Create the list of elements, nodes and boundary conditions](#Create-the-list-of-elements,-nodes-and-boundary-conditions-(6-points))\n",
    "* [ Find element length and stiffness](#Find-element-length-and-stiffness-(5-points))\n",
    "* [ Finding the global stiffness matrix](#Finding-the-global-stiffness-matrix-(6-points))\n",
    "* [ Partition the global stiffness matrix](#Partition-the-global-stiffness-matrix-(3-points))\n",
    "* [ Establish the displacement and load vectors](#Establish-the-displacement-and-load-vectors-(3-points))\n",
    "* [ Solve for the unknowns](#Solve-for-the-unknowns-(7-points))\n",
    "* [ Creating the Final function](#Create-an-FEM-function-(7-points))\n"
   ]
  },
  {
   "cell_type": "code",
   "execution_count": null,
   "metadata": {
    "deletable": false,
    "editable": false,
    "nbgrader": {
     "cell_type": "code",
     "checksum": "0fb0a7415a7d0226ef9646e16e8c777e",
     "grade": false,
     "grade_id": "cell-9ea46c186f8c08dd",
     "locked": true,
     "schema_version": 3,
     "solution": false,
     "task": false
    }
   },
   "outputs": [],
   "source": [
    "import numpy as np\n",
    "import pandas as pd\n",
    "import matplotlib.pyplot as plt"
   ]
  },
  {
   "cell_type": "markdown",
   "metadata": {
    "deletable": false,
    "editable": false,
    "nbgrader": {
     "cell_type": "markdown",
     "checksum": "d0e057906130a773292e3c8c56e23dad",
     "grade": false,
     "grade_id": "cell-9c63cce311adacc9",
     "locked": true,
     "schema_version": 3,
     "solution": false,
     "task": false
    }
   },
   "source": [
    "## Creating a pandas DataFrame (4 points)\n",
    "\n",
    "Write a script that creates a pandas DataFrame called  **persons** with the following columns\n",
    "\n",
    "* **name**, the name of the person\n",
    "* **height**, the height of the person\n",
    "* **weight**, the weight of the person\n",
    "    \n",
    "\n",
    "with the following 3 entries:\n",
    "\n",
    "|index|name |height| weight|\n",
    "|---|---|---|---|\n",
    "|0| John| 160| 80|\n",
    "|1| Alice| 150| 60|\n",
    "|2| Bob| 155| 70|\n",
    "\n",
    "**HINT:**\n",
    "* Create a list of lists to contain the data. "
   ]
  },
  {
   "cell_type": "code",
   "execution_count": null,
   "metadata": {
    "deletable": false,
    "nbgrader": {
     "cell_type": "code",
     "checksum": "26e0d26e29b1b0140dad0d2c3260fd72",
     "grade": false,
     "grade_id": "dict_script",
     "locked": false,
     "schema_version": 3,
     "solution": true,
     "task": false
    }
   },
   "outputs": [],
   "source": [
    "columns = ['columnOne','columnTwo']\n",
    "data =    [[1, 10],\n",
    "           [2, 20]]\n",
    "df = pd.DataFrame(data, columns = columns)\n",
    "# YOUR CODE HERE\n",
    "raise NotImplementedError()"
   ]
  },
  {
   "cell_type": "markdown",
   "metadata": {
    "deletable": false,
    "editable": false,
    "nbgrader": {
     "cell_type": "markdown",
     "checksum": "92f6e8cb2bd4511c6bf3a5bd36cd5083",
     "grade": false,
     "grade_id": "cell-816bd1bc4a497702",
     "locked": true,
     "schema_version": 3,
     "solution": false,
     "task": false
    }
   },
   "source": [
    "### Tests"
   ]
  },
  {
   "cell_type": "code",
   "execution_count": null,
   "metadata": {
    "deletable": false,
    "editable": false,
    "nbgrader": {
     "cell_type": "code",
     "checksum": "69a56ad8e1fb26129cfaf03f01f7ec84",
     "grade": true,
     "grade_id": "dict_test",
     "locked": true,
     "points": 4,
     "schema_version": 3,
     "solution": false,
     "task": false
    }
   },
   "outputs": [],
   "source": [
    "columns = ['name', 'height', 'weight']\n",
    "data =    [['John', 160, 80]]\n",
    "persons_correct = pd.DataFrame(data, columns = columns)\n",
    "assert ((persons_correct.iloc[0].sort_index()==persons.iloc[0].sort_index()).all()), ' Your persons list of dictionaries is wrong '\n",
    "print('All correct. Good work !')"
   ]
  },
  {
   "cell_type": "markdown",
   "metadata": {
    "deletable": false,
    "editable": false,
    "nbgrader": {
     "cell_type": "markdown",
     "checksum": "c395054cd3e52e5d5815a886b5acdd6b",
     "grade": false,
     "grade_id": "cell-9c63cc311dac",
     "locked": true,
     "schema_version": 3,
     "solution": false,
     "task": false
    }
   },
   "source": [
    "## Pandas apply method (4 points)\n",
    "\n",
    "Write a script that can applies a function on each entry in the DataFrame called **persons** that you created in the previous problem.\n",
    "Calculate the Body mMass Index, **BMI** for each person on the list using the following formula:\n",
    "\n",
    "$BMI = \\frac{weight}{height}$\n",
    "\n",
    "Add a new column to the **persons** DataFrame called **BMI** to store the calculated values.\n",
    "\n",
    "**HINT:**\n",
    "* Use the following code to apply a function `compute(data)` on each row of a DataFrame **df** \n",
    "\n",
    "`result = df.apply(compute, axis = 1)`\n",
    "\n",
    "* The result can then be assigned back into the DataFrame as a new column using the code:\n",
    "\n",
    "`df['NewColumn'] = result`"
   ]
  },
  {
   "cell_type": "code",
   "execution_count": null,
   "metadata": {
    "deletable": false,
    "nbgrader": {
     "cell_type": "code",
     "checksum": "050ab8116a0f13a8a1fd45db4047bfaf",
     "grade": false,
     "grade_id": "apply_script",
     "locked": false,
     "schema_version": 3,
     "solution": true,
     "task": false
    }
   },
   "outputs": [],
   "source": [
    "def compute(data):\n",
    "    pass\n",
    "persons['computed_column'] = persons.apply(compute, axis=1)\n",
    "\n",
    "# YOUR CODE HERE\n",
    "raise NotImplementedError()"
   ]
  },
  {
   "cell_type": "code",
   "execution_count": null,
   "metadata": {
    "deletable": false,
    "editable": false,
    "nbgrader": {
     "cell_type": "code",
     "checksum": "012749521d15a0b77c5461d3e157b334",
     "grade": true,
     "grade_id": "apply_test",
     "locked": true,
     "points": 4,
     "schema_version": 3,
     "solution": false,
     "task": false
    }
   },
   "outputs": [],
   "source": [
    "columns = ['name', 'height', 'weight', 'BMI']\n",
    "data =    [['John', 160, 80, 0.5]]\n",
    "persons_correct = pd.DataFrame(data, columns = columns)\n",
    "assert ((persons_correct.iloc[0].sort_index()==persons.iloc[0].sort_index()).all()), ' Your persons list of dictionaries is wrong '\n",
    "print('All correct. Good work !')"
   ]
  },
  {
   "cell_type": "markdown",
   "metadata": {
    "deletable": false,
    "editable": false,
    "nbgrader": {
     "cell_type": "markdown",
     "checksum": "0e301e5f1abbca448ae459489b9b414d",
     "grade": false,
     "grade_id": "cell-28ad953c5dcbcbdb",
     "locked": true,
     "schema_version": 3,
     "solution": false,
     "task": false
    }
   },
   "source": [
    "# FEM for discrete systems"
   ]
  },
  {
   "cell_type": "markdown",
   "metadata": {
    "deletable": false,
    "editable": false,
    "nbgrader": {
     "cell_type": "markdown",
     "checksum": "41e98e5079a28fd3c49103e3a0ce4f51",
     "grade": false,
     "grade_id": "cell-9c63c311adac",
     "locked": true,
     "schema_version": 3,
     "solution": false,
     "task": false
    }
   },
   "source": [
    "## Create the list of elements and nodes (6 points)\n",
    "\n",
    "Create a program to solve the following FEM problem. Use the figure below as a strict guide for numbering your elements and nodes.\n",
    "\n",
    "<img src=\"problem1.png\" width=\"500\"/>\n",
    "\n",
    "To begin, write a script to complete the following:\n",
    "\n",
    "1. Create a Pandas DataFrame called **nodes** with the following columns\n",
    "    * **coordinate**, the x-coordinate of the node\n",
    "    * **displacement**, the displacement for each node. Enter the **Displacement Boundary Conditions** here. For the unknown displacements, use `np.nan`.\n",
    "    * **load**, the load for each node. Enter the **Load Boundary Conditions** here. For the unknown load, use `np.nan`.\n",
    "    \n",
    "1. Create a Pandas DataFrame called **elements** with the following columns\n",
    "    * **start**, the starting node (use the left node of the element)\n",
    "    * **end**, the end node (use the right node of the element)\n",
    "    * **area**, the area of cross-section\n",
    "    * **material**, the Modulus of elasticity\n",
    "    \n",
    "    The area and material of each element is given below. For the rest of the information, rely on the figure above.\n",
    "\n",
    "| index|area|material|\n",
    "|---|---|---|\n",
    "| 0|4|14|\n",
    "| 1|6|12|\n",
    "| 2|6|15|\n",
    "\n",
    "    \n",
    "    Use the figure above to find the x-coordinates, and boundary conditions of the nodes:"
   ]
  },
  {
   "cell_type": "code",
   "execution_count": null,
   "metadata": {
    "deletable": false,
    "nbgrader": {
     "cell_type": "code",
     "checksum": "74be2c5168c247788ce6786c7b82f890",
     "grade": false,
     "grade_id": "inputs_script",
     "locked": false,
     "schema_version": 3,
     "solution": true,
     "task": false
    }
   },
   "outputs": [],
   "source": [
    "# Elements\n",
    "columns = ['start', 'end'] #.... Complete these lines\n",
    "data =    [[2, 0],\n",
    "           ]\n",
    "elements = pd.DataFrame(data, columns = columns)\n",
    "# Nodes\n",
    "\n",
    "# YOUR CODE HERE\n",
    "raise NotImplementedError()"
   ]
  },
  {
   "cell_type": "markdown",
   "metadata": {
    "deletable": false,
    "editable": false,
    "nbgrader": {
     "cell_type": "markdown",
     "checksum": "10eea5c36d831628475e0edc00b4fa7c",
     "grade": false,
     "grade_id": "cell-816d1b4a7702",
     "locked": true,
     "schema_version": 3,
     "solution": false,
     "task": false
    }
   },
   "source": [
    "### Tests"
   ]
  },
  {
   "cell_type": "code",
   "execution_count": null,
   "metadata": {
    "deletable": false,
    "editable": false,
    "nbgrader": {
     "cell_type": "code",
     "checksum": "a83964fd863ddcd2ca4546eb30e7c2ba",
     "grade": true,
     "grade_id": "inputs_test",
     "locked": true,
     "points": 6,
     "schema_version": 3,
     "solution": false,
     "task": false
    }
   },
   "outputs": [],
   "source": [
    "elements_correct = pd.Series({'start':0,'end':1,'area':4,'material':14})\n",
    "assert ((elements.loc[0].sort_index() == elements_correct.sort_index())).all(), 'Your script is probably wrong'\n",
    "print('All correct. Good work !')"
   ]
  },
  {
   "cell_type": "markdown",
   "metadata": {
    "deletable": false,
    "editable": false,
    "nbgrader": {
     "cell_type": "markdown",
     "checksum": "54fd83897871cb9cd7d327d3785c28dd",
     "grade": false,
     "grade_id": "cell-9c63c11dac",
     "locked": true,
     "schema_version": 3,
     "solution": false,
     "task": false
    }
   },
   "source": [
    "## Find element length and stiffness (5 points)\n",
    "\n",
    "Write a script that applies functions on each row of the Pandas DataFrame **elements** and computes the length and stiffness of the element. Use the formula shown below to calculate the length and the stiffness. Create new columns called **length** and **stiffness** in the same DataFrame to store the calculated values.\n",
    "\n",
    "Length , $l=|x_j-x_i|$\n",
    "\n",
    "Where $ x_i $ is the x-coordinate of the $i$ th node\n",
    "\n",
    "$ i $ and $j$ are the index of the start and end node of the element, respectively\n",
    "\n",
    "\n",
    "Stiffness, $k = \\frac{EA}{l}$\n",
    "\n",
    "Where\n",
    "$E$ is the modulus of elasticity of the element, and \n",
    "\n",
    "$A$ is the cross sectional area of the element\n",
    "\n",
    "\n"
   ]
  },
  {
   "cell_type": "code",
   "execution_count": null,
   "metadata": {
    "deletable": false,
    "nbgrader": {
     "cell_type": "code",
     "checksum": "22a1af406ed52af2bbd0903bf6b0be86",
     "grade": false,
     "grade_id": "len_stiff_script",
     "locked": false,
     "schema_version": 3,
     "solution": true,
     "task": false
    }
   },
   "outputs": [],
   "source": [
    "def computeLength(element):\n",
    "    pass # Remove this as well\n",
    "\n",
    "def computeStiffness(element):\n",
    "    pass\n",
    "\n",
    "elements['length'] = elements.apply(computeLength, axis=1)\n",
    "# Modify/Complete the rest of the code.\n",
    "\n",
    "# YOUR CODE HERE\n",
    "raise NotImplementedError()"
   ]
  },
  {
   "cell_type": "markdown",
   "metadata": {
    "deletable": false,
    "editable": false,
    "nbgrader": {
     "cell_type": "markdown",
     "checksum": "56c3310917e00a4478a2f83c0d9e2d83",
     "grade": false,
     "grade_id": "cell-81b1b47702",
     "locked": true,
     "schema_version": 3,
     "solution": false,
     "task": false
    }
   },
   "source": [
    "### Tests"
   ]
  },
  {
   "cell_type": "code",
   "execution_count": null,
   "metadata": {
    "deletable": false,
    "editable": false,
    "nbgrader": {
     "cell_type": "code",
     "checksum": "0134e2f979548cc8c185b3cd2697155d",
     "grade": true,
     "grade_id": "len_stiff_test",
     "locked": true,
     "points": 5,
     "schema_version": 3,
     "solution": false,
     "task": false
    }
   },
   "outputs": [],
   "source": [
    "correct_stiff = 18\n",
    "assert (abs(elements.iloc[2]['stiffness'] - correct_stiff) < 1e-4), ' Your script is probably wrong'\n",
    "print('All correct. Good work !')"
   ]
  },
  {
   "cell_type": "markdown",
   "metadata": {
    "deletable": false,
    "editable": false,
    "nbgrader": {
     "cell_type": "markdown",
     "checksum": "3588daff7d0e8059d4078a910da555e0",
     "grade": false,
     "grade_id": "cell-aeaf6b17386",
     "locked": true,
     "schema_version": 3,
     "solution": false,
     "task": false
    }
   },
   "source": [
    "\n",
    "## Finding the global stiffness matrix (6 points)\n",
    "\n",
    "Each element can be represented as follows\n",
    "![](element.png)\n",
    "Where $i$ and $j$ are the start and end node of element $e$,\n",
    "\n",
    "$P_i$ is the force at node $i$,\n",
    "\n",
    "$U_i$ is the displacement of node $i$,\n",
    "\n",
    "$ K_e$ is the stiffness of the element $e$\n",
    "\n",
    "The local set of equations can be written in matrix form as\n",
    "\n",
    "$ \\left[\\matrix{ K_e & -K_e \\\\\n",
    "                 -K_e & K_e } \\right] \\left( \\matrix{U_i \\\\ U_j } \\right) = \\left( \\matrix{P_i \\\\ P_j } \\right)$ \n",
    "\n",
    "The global stiffness matrix is then formed by adding up the local stiffness matrix using the correct indices. For the example shown below, \n",
    "\n",
    "![](2element.png)\n",
    "\n",
    "The global set of equations will be\n",
    "\n",
    "$ \\left[\\matrix{ K_0 & -K_0 & 0 \\\\\n",
    "                -K_0 & K_0+K_1 & -K_1 \\\\\n",
    "                 0 & -K_1 & K_1 } \\right] \\left( \\matrix{U_0 \\\\ U_1 \\\\ U_2 } \\right) = \\left( \\matrix{P_0 \\\\ P_1 \\\\P_2 } \\right)$ \n",
    "\n",
    "Write a script that takes information from the Pandas DataFrame called **elements** that you created in the previous task, and then generates the Global stiffness matrix, **K**.\n",
    "\n",
    "**HINT:**\n",
    "\n",
    "* You can create multiple global K matrices with zeros, and populate it with the correct values at the right indicies for each element. And then, sum up these matrices.\n",
    "\n",
    "* You need to only change those parts of the global stiffness matrix that correspond to the index of the start and end nodes of the element. Therefore, use indexing. For example, if the start and end nodes are 0, 2, then you need to update positions, `(0,0), (0,2), (2,0), and (2,2)` in the K matrix.\n",
    "\n",
    "`rows = [0,2]\n",
    "columns = [0,2]\n",
    "A[np.ix_(rows, columns)] = new_values`"
   ]
  },
  {
   "cell_type": "code",
   "execution_count": null,
   "metadata": {
    "deletable": false,
    "nbgrader": {
     "cell_type": "code",
     "checksum": "b2b92cb554299bfe646bbea894d7b3f5",
     "grade": false,
     "grade_id": "stiff_script",
     "locked": false,
     "schema_version": 3,
     "solution": true,
     "task": false
    }
   },
   "outputs": [],
   "source": [
    "# Compute the global stiffness matrix K for each element\n",
    "def computeGlobalStiffness(element):\n",
    "    pass\n",
    "globalK_each = elements.apply(computeGlobalStiffness,axis=1)\n",
    "K = globalK_each.sum()\n",
    "\n",
    "# YOUR CODE HERE\n",
    "raise NotImplementedError()"
   ]
  },
  {
   "cell_type": "markdown",
   "metadata": {
    "deletable": false,
    "editable": false,
    "nbgrader": {
     "cell_type": "markdown",
     "checksum": "c90c8f47abdb4a7cb4a27f78cb463766",
     "grade": false,
     "grade_id": "cell-92c0e8cf6a88ad0e",
     "locked": true,
     "schema_version": 3,
     "solution": false,
     "task": false
    }
   },
   "source": [
    "### Tests"
   ]
  },
  {
   "cell_type": "code",
   "execution_count": null,
   "metadata": {
    "deletable": false,
    "editable": false,
    "nbgrader": {
     "cell_type": "code",
     "checksum": "48ec7e1b9d8384c99fcb1d3ce20b27a6",
     "grade": true,
     "grade_id": "stiff_test",
     "locked": true,
     "points": 6,
     "schema_version": 3,
     "solution": false,
     "task": false
    }
   },
   "outputs": [],
   "source": [
    "correct_K = np.array([[18.4, -7.2],[-7.2, 25.2]])\n",
    "assert (abs(K[1:3,1:3]-correct_K) < 1e-4).all(), ' Your script is probably wrong'\n",
    "print('All correct. Good work !')"
   ]
  },
  {
   "cell_type": "markdown",
   "metadata": {
    "deletable": false,
    "editable": false,
    "nbgrader": {
     "cell_type": "markdown",
     "checksum": "0ef7cae2ab97bd37b30c66db9a9217a6",
     "grade": false,
     "grade_id": "cell-658695c8376ae8fe",
     "locked": true,
     "schema_version": 3,
     "solution": false,
     "task": false
    }
   },
   "source": [
    "## Partition the global stiffness matrix (4 points)\n",
    "\n",
    "\n",
    "![](partition.png)\n",
    "\n",
    "The displacement and load vectors consists of known (boundary conditions) and unknown values. We can split the system of equations and solve for parts of the unknowns. Write a function called **partition_K** to split the K matrix you found earlier into the 4 matrices indicated in the figure above. The function takes the following inputs:\n",
    "* **K** is the stiffness matrix\n",
    "* **A** is a boolean vector indicating if the displacement is unknown\n",
    "* **B** is a boolean vector indicating if the load is unknown\n",
    "\n",
    "**HINT:**\n",
    "* You can get boolean vector using the `pd.isna()` function. This function indicates which rows in a pandas dataframe contains empty cells. You can apply it directly to a column using `df['column'].isna()`\n",
    "\n",
    "* Use indexing. For example, if you would like to get the 4 elements, `(0,0), (0,2), (2,0), and (2,2)` from a matrix M, then use the code:\n",
    "\n",
    "`A = [True, False, True]\n",
    "B = [True, False, True]\n",
    "MAB = M[np.ix_(A, B)]`"
   ]
  },
  {
   "cell_type": "code",
   "execution_count": null,
   "metadata": {
    "deletable": false,
    "nbgrader": {
     "cell_type": "code",
     "checksum": "ffb0cfa33e143f79aefca0fa7e38ccee",
     "grade": false,
     "grade_id": "partition_script",
     "locked": false,
     "schema_version": 3,
     "solution": true,
     "task": false
    }
   },
   "outputs": [],
   "source": [
    "def partition_K(K, A, B):\n",
    "    pass\n",
    "A = nodes['displacement'].isna()\n",
    "B = 0 # modify this line\n",
    "#... Modify/Complete the rest of the code \n",
    "\n",
    "\n",
    "# YOUR CODE HERE\n",
    "raise NotImplementedError()\n",
    "KAA, KAB, KBA, KBB = partition_K(K, A, B)\n",
    "KAA"
   ]
  },
  {
   "cell_type": "markdown",
   "metadata": {
    "deletable": false,
    "editable": false,
    "nbgrader": {
     "cell_type": "markdown",
     "checksum": "30bda5dd660693b98370827f833a49aa",
     "grade": false,
     "grade_id": "cell-259830fa61d2233c",
     "locked": true,
     "schema_version": 3,
     "solution": false,
     "task": false
    }
   },
   "source": [
    "### Tests"
   ]
  },
  {
   "cell_type": "code",
   "execution_count": null,
   "metadata": {
    "deletable": false,
    "editable": false,
    "nbgrader": {
     "cell_type": "code",
     "checksum": "02f521bcd5c4830c65038c9e30a7f672",
     "grade": true,
     "grade_id": "partition_test",
     "locked": true,
     "points": 4,
     "schema_version": 3,
     "solution": false,
     "task": false
    }
   },
   "outputs": [],
   "source": [
    "correct_KAA = np.array([[18.4, -7.2],[-7.2, 25.2]])\n",
    "A = [False, True, True, False]\n",
    "B = [True, False, False, True]\n",
    "KAA,_,_,_ = partition_K(K, A, B)\n",
    "assert np.allclose(KAA, correct_KAA), ' Your script is probably wrong'\n",
    "print('All correct. Good work !')"
   ]
  },
  {
   "cell_type": "markdown",
   "metadata": {
    "deletable": false,
    "editable": false,
    "nbgrader": {
     "cell_type": "markdown",
     "checksum": "2e374933d88c5f522026a2d1b65f7e7f",
     "grade": false,
     "grade_id": "cell-a3757324e97f37a",
     "locked": true,
     "schema_version": 3,
     "solution": false,
     "task": false
    }
   },
   "source": [
    "## Solve for the unknowns (7 points)\n",
    "\n",
    "Create a script that solves for the unknown displacement and load. You can solve for them using the partitioned stiffness matrices, the known displacements, and known loads. \n",
    "\n",
    "* Set up equation 3 and 4 shown below to solve for the unknowns:\n",
    "\n",
    "<img src=\"solve.png\" width=\"500\"/>\n",
    "\n",
    "\n",
    "* Create a copy of the **nodes** DataFrame and call it **result**. Input the solved values into the table to replace the NaN cells. \n",
    "* Add a new column to the **result** DataFrame called **new_coordinate**. This is the new location of the node after deformation and can be found by adding the solved displacements to the original coordinate. \n",
    "* Compute the sum of all the load and verify that it is ~0.\n",
    "\n",
    "**HINT:**\n",
    "* Use the function `np.linalg.inv()` to find the inverse of a matrix.\n",
    "* Use the funciton `np.dot(A,B)` to do a matrix multiplication of 2 arrays\n",
    "* Use the function `df['column'].sum()` to compute the sum of a column in a DataFrame.\n"
   ]
  },
  {
   "cell_type": "code",
   "execution_count": null,
   "metadata": {
    "deletable": false,
    "nbgrader": {
     "cell_type": "code",
     "checksum": "989dcac5de05a0e98a1544f0a940ac1c",
     "grade": false,
     "grade_id": "solve_script",
     "locked": false,
     "schema_version": 3,
     "solution": true,
     "task": false
    }
   },
   "outputs": [],
   "source": [
    "# Known displacement, UB\n",
    "UB = nodes.loc[B,'displacement']\n",
    "# Known load, PA\n",
    "PA = 0 # Modify this line\n",
    "result = nodes.copy()\n",
    "# Place the solved values into the results DataFrame\n",
    "# result.loc[A, 'displacement'] = ....\n",
    "\n",
    "# Modify/Complete the rest of the code\n",
    "\n",
    "# YOUR CODE HERE\n",
    "raise NotImplementedError()"
   ]
  },
  {
   "cell_type": "markdown",
   "metadata": {
    "deletable": false,
    "editable": false,
    "nbgrader": {
     "cell_type": "markdown",
     "checksum": "f66b32c490bb135c137d83cc18b71181",
     "grade": false,
     "grade_id": "cell-f5ddb564426fe64",
     "locked": true,
     "schema_version": 3,
     "solution": false,
     "task": false
    }
   },
   "source": [
    "### Tests"
   ]
  },
  {
   "cell_type": "code",
   "execution_count": null,
   "metadata": {
    "deletable": false,
    "editable": false,
    "nbgrader": {
     "cell_type": "code",
     "checksum": "f46b70d6bb21de91f1f09b86cf6be815",
     "grade": true,
     "grade_id": "solve_test",
     "locked": true,
     "points": 7,
     "schema_version": 3,
     "solution": false,
     "task": false
    }
   },
   "outputs": [],
   "source": [
    "U_correct = np.array([ 0.        ,  0.54195804, -0.003885  ,  0.        ])\n",
    "P_correct = np.array([-6.06993007, 10.        , -4.        ,  0.06993007])\n",
    "assert np.allclose(result['displacement'], U_correct), ' Your script is probably wrong. Wrong results for displacements'\n",
    "assert np.allclose(result['load'], P_correct), ' Your script is probably wrong. Wrong results for forces'\n",
    "print('All correct. Good work !')"
   ]
  }
 ],
 "metadata": {
  "kernelspec": {
   "display_name": "Python 3 (ipykernel)",
   "language": "python",
   "name": "python3"
  },
  "language_info": {
   "codemirror_mode": {
    "name": "ipython",
    "version": 3
   },
   "file_extension": ".py",
   "mimetype": "text/x-python",
   "name": "python",
   "nbconvert_exporter": "python",
   "pygments_lexer": "ipython3",
   "version": "3.10.4"
  }
 },
 "nbformat": 4,
 "nbformat_minor": 2
}
