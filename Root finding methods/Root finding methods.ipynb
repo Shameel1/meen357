{
 "cells": [
  {
   "cell_type": "markdown",
   "metadata": {},
   "source": [
    "# MEEN 357 - Summer 2025\n",
    "### Submission Instructions\n",
    "\n",
    "- **Run All Cells**: Before submitting, go to **Kernel > Restart Kernel & Run All Cells** to ensure your code runs without errors. Submissions with errors will receive a **ZERO** grade.\n",
    "- **Enter Your Name**: Fill in your name in the provided cell.\n",
    "- **Complete the Code**: Replace all instances of `YOUR CODE HERE` with your solution. Remove `raise NotImplementedError()`.\n",
    "- **Maintain Structure**: Do not add or remove any cells.\n",
    "- **Test Your Code**: Run the provided tests to check your answers. Note that additional hidden tests may be used during grading.\n",
    "- **Partial Credit**: Will be awarded only if your code runs error-free.\n",
    "- **Save and Submit**: Ensure you submit the latest, correct version of your assignment by checking the last modified time.\n"
   ]
  },
  {
   "cell_type": "code",
   "execution_count": null,
   "metadata": {},
   "outputs": [],
   "source": [
    "NAME = \"\""
   ]
  },
  {
   "cell_type": "code",
   "execution_count": null,
   "metadata": {},
   "outputs": [],
   "source": [
    "import IPython\n",
    "assert IPython.version_info[0] >= 3.8, \"Your version of IPython is too old, please update it.\""
   ]
  },
  {
   "cell_type": "markdown",
   "metadata": {},
   "source": [
    "---"
   ]
  },
  {
   "cell_type": "markdown",
   "metadata": {
    "deletable": false,
    "editable": false,
    "nbgrader": {
     "cell_type": "markdown",
     "checksum": "876a5f4b32bd0ff82331da708a7265e7",
     "grade": false,
     "grade_id": "cell-b11333355e4eba1d",
     "locked": true,
     "schema_version": 3,
     "solution": false,
     "task": false
    }
   },
   "source": [
    "# Root finding methods\n",
    "\n",
    "### Define errors\n",
    "* [Relative Error](#Relative-error) (5 points)\n",
    "* [True Error](#True-error) (5 points)\n",
    "\n",
    "### Bracketing methods\n",
    "* [Bisection method](#Bisection-method) (10 points)\n",
    "* [False position](#False-position-method) (10 points)\n",
    "\n",
    "### Open methods\n",
    "* [Newton Raphson method](#Newton-Raphson-method) (10 points)\n",
    "* [Secant method](#Secant-method) (10 points)\n"
   ]
  },
  {
   "cell_type": "code",
   "execution_count": null,
   "metadata": {
    "deletable": false,
    "editable": false,
    "nbgrader": {
     "cell_type": "code",
     "checksum": "cc9afb5092aed2826cd638aa0415d1a4",
     "grade": false,
     "grade_id": "cell-29ea9fefca235322",
     "locked": true,
     "schema_version": 3,
     "solution": false,
     "task": false
    }
   },
   "outputs": [],
   "source": [
    "import numpy as np\n",
    "import pandas as pd"
   ]
  },
  {
   "cell_type": "markdown",
   "metadata": {
    "deletable": false,
    "editable": false,
    "nbgrader": {
     "cell_type": "markdown",
     "checksum": "9b962c1322f9cccaab9ffa772aeb0214",
     "grade": false,
     "grade_id": "cell-b9fb16077149926c",
     "locked": true,
     "schema_version": 3,
     "solution": false,
     "task": false
    }
   },
   "source": [
    "## Define Error functions"
   ]
  },
  {
   "cell_type": "markdown",
   "metadata": {
    "deletable": false,
    "editable": false,
    "nbgrader": {
     "cell_type": "markdown",
     "checksum": "0ebecc6ff25942282097c936922c067f",
     "grade": false,
     "grade_id": "cell-9c63cce311adacc9",
     "locked": true,
     "schema_version": 3,
     "solution": false,
     "task": false
    }
   },
   "source": [
    "## Relative error\n",
    "Write a function called **relativeError** that takes the following inputs:\n",
    "\n",
    "* **x**, the new value\n",
    "* **xold**, the previous value\n",
    "\n",
    "And returns the following output:\n",
    "\n",
    "* **error**, the calculated relative error\n",
    "\n",
    "The formula for the relative error is shown below:\n",
    "\n",
    "$e_{relative} = |\\frac{x_{new}-x_{old}}{x_{new}}|100 \\%$"
   ]
  },
  {
   "cell_type": "code",
   "execution_count": null,
   "metadata": {
    "deletable": false,
    "nbgrader": {
     "cell_type": "code",
     "checksum": "eebbe264a7d681fbacf5b0eeef1d4e2a",
     "grade": false,
     "grade_id": "relError",
     "locked": false,
     "schema_version": 3,
     "solution": true,
     "task": false
    }
   },
   "outputs": [],
   "source": [
    "def relativeError(x,xold):\n",
    "    \"\"\"\n",
    "    Calculate the relative error between a current value and a previous value.\n",
    "\n",
    "    The relative error is computed as the absolute value of the difference between\n",
    "    the current value and the previous value, divided by the current value, and then\n",
    "    multiplied by 100 to express it as a percentage.\n",
    "\n",
    "    Parameters:\n",
    "    -----------\n",
    "    x : float\n",
    "        The current value.\n",
    "    xold : float\n",
    "        The previous value.\n",
    "\n",
    "    Returns:\n",
    "    --------\n",
    "    float\n",
    "        The relative error between `x` and `xold`, expressed as a percentage.\n",
    "\n",
    "    Example:\n",
    "    --------\n",
    "    >>> relativeError(10, 9)\n",
    "    10.0\n",
    "    \n",
    "    >>> relativeError(5, 4.5)\n",
    "    10.0\n",
    "    \"\"\"\n",
    "    # YOUR CODE HERE\n",
    "    raise NotImplementedError()"
   ]
  },
  {
   "cell_type": "code",
   "execution_count": null,
   "metadata": {
    "deletable": false,
    "nbgrader": {
     "cell_type": "code",
     "checksum": "227fceaced2b0b281ab0ccd65dfdb96a",
     "grade": true,
     "grade_id": "cell-f2ecf4da621be48c",
     "locked": false,
     "points": 0,
     "schema_version": 3,
     "solution": true,
     "task": false
    }
   },
   "outputs": [],
   "source": [
    "# YOUR CODE HERE\n",
    "raise NotImplementedError()"
   ]
  },
  {
   "cell_type": "markdown",
   "metadata": {
    "deletable": false,
    "editable": false,
    "nbgrader": {
     "cell_type": "markdown",
     "checksum": "9e0abed9521fc312133986c08aa9eca9",
     "grade": false,
     "grade_id": "cell-816bd1bc4a497702",
     "locked": true,
     "schema_version": 3,
     "solution": false,
     "task": false
    }
   },
   "source": [
    "### Test code"
   ]
  },
  {
   "cell_type": "code",
   "execution_count": null,
   "metadata": {
    "deletable": false,
    "editable": false,
    "nbgrader": {
     "cell_type": "code",
     "checksum": "f6090c0c2d30f3f25a332f071381a852",
     "grade": true,
     "grade_id": "relError_test",
     "locked": true,
     "points": 5,
     "schema_version": 3,
     "solution": false,
     "task": false
    }
   },
   "outputs": [],
   "source": [
    "QandAs = [[49, 20, 59.183673469387756],\n",
    "[26, 3, 88.46153846153845],\n",
    "[78, 87, 11.538461538461538],\n",
    "[84, 94, 11.904761904761903],\n",
    "[11, 42, 281.8181818181818]]\n",
    "for xnew, xold, Answer in QandAs: \n",
    "    studentAnswer = relativeError(xnew, xold)\n",
    "    assert np.isclose(studentAnswer, Answer), f' Did not work for the inputs {xnew=},{xold=}. Expected {Answer=}. Got {studentAnswer=}'\n",
    "\n",
    "print(\"All correct. Good work!\")"
   ]
  },
  {
   "cell_type": "markdown",
   "metadata": {
    "deletable": false,
    "editable": false,
    "nbgrader": {
     "cell_type": "markdown",
     "checksum": "bf0b4b0ae472a979af738013206f1596",
     "grade": false,
     "grade_id": "cell-9c63cce311adac",
     "locked": true,
     "schema_version": 3,
     "solution": false,
     "task": false
    }
   },
   "source": [
    "## True error\n",
    "Write a function called **trueError** that takes the following inputs:\n",
    "\n",
    "* **x**, the new value\n",
    "* **xtrue**, the previous value\n",
    "\n",
    "And returns the following output:\n",
    "\n",
    "* **error**, the calculated relative error\n",
    "\n",
    "The formula for the relative error is shown below:\n",
    "\n",
    "$e_{true} = |\\frac{x-x_{true}}{x_{true}}|100 \\%$"
   ]
  },
  {
   "cell_type": "code",
   "execution_count": null,
   "metadata": {
    "deletable": false,
    "nbgrader": {
     "cell_type": "code",
     "checksum": "603a3dd3dc6d86ded2fe120a0f3d8a50",
     "grade": false,
     "grade_id": "trueError",
     "locked": false,
     "schema_version": 3,
     "solution": true,
     "task": false
    }
   },
   "outputs": [],
   "source": [
    "def trueError(x,xtrue):\n",
    "    \"\"\"\n",
    "    Calculate the true error between an estimated value and the true value.\n",
    "\n",
    "    The true error is computed as the absolute value of the difference between\n",
    "    the estimated value and the true value, divided by the true value, and then\n",
    "    multiplied by 100 to express it as a percentage.\n",
    "\n",
    "    Parameters:\n",
    "    -----------\n",
    "    x : float\n",
    "        The estimated value.\n",
    "    xtrue : float\n",
    "        The true or actual value.\n",
    "\n",
    "    Returns:\n",
    "    --------\n",
    "    float\n",
    "        The true error between `x` and `xtrue`, expressed as a percentage.\n",
    "\n",
    "    Example:\n",
    "    --------\n",
    "    >>> trueError(9.5, 10)\n",
    "    5.0\n",
    "    \n",
    "    >>> trueError(4.5, 5)\n",
    "    10.0\n",
    "    \"\"\"\n",
    "    # YOUR CODE HERE\n",
    "    raise NotImplementedError()"
   ]
  },
  {
   "cell_type": "code",
   "execution_count": null,
   "metadata": {
    "deletable": false,
    "nbgrader": {
     "cell_type": "code",
     "checksum": "d8964259f9ba52de6ad26efbb0d74f03",
     "grade": true,
     "grade_id": "cell-d6d0d2ae9fc49542",
     "locked": false,
     "points": 0,
     "schema_version": 3,
     "solution": true,
     "task": false
    }
   },
   "outputs": [],
   "source": [
    "# YOUR CODE HERE\n",
    "raise NotImplementedError()"
   ]
  },
  {
   "cell_type": "markdown",
   "metadata": {
    "deletable": false,
    "editable": false,
    "nbgrader": {
     "cell_type": "markdown",
     "checksum": "fdebae2d05d03f863ff7eae90ebce895",
     "grade": false,
     "grade_id": "cell-816bd1bc4a7702",
     "locked": true,
     "schema_version": 3,
     "solution": false,
     "task": false
    }
   },
   "source": [
    "### Test code"
   ]
  },
  {
   "cell_type": "code",
   "execution_count": null,
   "metadata": {
    "deletable": false,
    "editable": false,
    "nbgrader": {
     "cell_type": "code",
     "checksum": "9894076c54991a9cc5f2630cc03e16db",
     "grade": true,
     "grade_id": "trueError_test",
     "locked": true,
     "points": 5,
     "schema_version": 3,
     "solution": false,
     "task": false
    }
   },
   "outputs": [],
   "source": [
    "QandAs = [[38, 35, 8.571428571428571],\n",
    "[72, 44, 63.63636363636363],\n",
    "[58, 38, 52.63157894736842],\n",
    "[90, 60, 50.0],\n",
    "[0, 57, 100.0]]\n",
    "for x, xold, Answer in QandAs: \n",
    "    studentAnswer = trueError(x, xold)\n",
    "    assert np.isclose(studentAnswer, Answer), f' Did not work for the inputs {x=},{xold=}. Expected {Answer=}. Got {studentAnswer=}'\n",
    "print(\"All correct. Good work!\")"
   ]
  },
  {
   "cell_type": "markdown",
   "metadata": {
    "deletable": false,
    "editable": false,
    "nbgrader": {
     "cell_type": "markdown",
     "checksum": "2f43bf5c199ced7f313382a21e7014fa",
     "grade": false,
     "grade_id": "cell-21adb926fcb84c44",
     "locked": true,
     "schema_version": 3,
     "solution": false,
     "task": false
    }
   },
   "source": [
    "## Bracketing methods"
   ]
  },
  {
   "cell_type": "markdown",
   "metadata": {
    "deletable": false,
    "editable": false,
    "nbgrader": {
     "cell_type": "markdown",
     "checksum": "6ff2ecbd14fa2ab5548deddfc885693d",
     "grade": false,
     "grade_id": "cell-9c63cc311adac",
     "locked": true,
     "schema_version": 3,
     "solution": false,
     "task": false
    }
   },
   "source": [
    "## Bisection method\n",
    "Write a function called “bisection” that takes the following inputs\n",
    "* **f** the equation whose root is to be determined\n",
    "* **xl** the lower bound of the search interval\n",
    "* **xu** the upper bound of the search interval\n",
    "* **e_tolerance** the error tolerance in percentages\n",
    "* **max_iteration** the maximum numbers of iterations\n",
    "\n",
    "It then returns a Pandas DataFrame called **result** which contains the results from all iterations and has the following columns.\n",
    "* **iteration** the iteration number\n",
    "* **xl** the lower bound of the search interval\n",
    "* **xu** the upper bound of the search interval\n",
    "* **xr** the new root\n",
    "* **relative error** the calculated relative error\n",
    "\n",
    "Your function needs to compute the root iteratively using the bisection method until the error tolerance condition has been met or the number of iterations has exceeded the maximum number of iterations. \n",
    "\n",
    "Using the bisection method, the new root, $x_r$ is computed as $x_r = \\frac{x_l+x_u}{2}$"
   ]
  },
  {
   "cell_type": "code",
   "execution_count": null,
   "metadata": {
    "deletable": false,
    "nbgrader": {
     "cell_type": "code",
     "checksum": "736836b1125819b7c40d1a8c23a2d65a",
     "grade": false,
     "grade_id": "bisection",
     "locked": false,
     "schema_version": 3,
     "solution": true,
     "task": false
    }
   },
   "outputs": [],
   "source": [
    "def bisection(f, xl, xu, e_tolerance, max_iterations): \n",
    "    \"\"\"\n",
    "    Perform the bisection method to find the root of a function within a given interval.\n",
    "\n",
    "    The bisection method iteratively narrows the interval [xl, xu] where the root of the function f(x) is located.\n",
    "    It stops when the relative error falls below a specified tolerance or the maximum number of iterations is reached.\n",
    "\n",
    "    Parameters:\n",
    "    -----------\n",
    "    f : function\n",
    "        The function for which the root is to be found.\n",
    "    xl : float\n",
    "        The lower bound of the interval.\n",
    "    xu : float\n",
    "        The upper bound of the interval.\n",
    "    e_tolerance : float\n",
    "        The stopping criterion for the relative error (as a percentage).\n",
    "    max_iterations : int\n",
    "        The maximum number of iterations to perform.\n",
    "\n",
    "    Returns:\n",
    "    --------\n",
    "    pandas.DataFrame\n",
    "        A DataFrame containing the details of each iteration, including:\n",
    "        - 'xl': The current lower bound of the interval.\n",
    "        - 'xu': The current upper bound of the interval.\n",
    "        - 'xr': The midpoint of the current interval (the approximate root).\n",
    "        - 'relative error': The relative error at the current iteration (as a percentage).\n",
    "\n",
    "    Example:\n",
    "    --------\n",
    "    >>> def func(x):\n",
    "    >>>     return x**2 - 4\n",
    "\n",
    "    >>> bisection(func, 1, 3, 0.01, 100)\n",
    "          xl   xu   xr  relative error\n",
    "    1     1.0  3.0  2.0        50.000000\n",
    "    2     1.0  2.0  1.5        33.333333\n",
    "    ...\n",
    "\n",
    "    Notes:\n",
    "    ------\n",
    "    - The function assumes that f(xl) and f(xu) have opposite signs, indicating that a root lies within the interval [xl, xu].\n",
    "    - The loop will terminate early if the function converges before reaching the maximum number of iterations.\n",
    "    - The function uses the `relativeError` function to calculate the relative error.\n",
    "\n",
    "    \"\"\"\n",
    "    # YOUR CODE HERE\n",
    "    raise NotImplementedError()"
   ]
  },
  {
   "cell_type": "code",
   "execution_count": null,
   "metadata": {
    "deletable": false,
    "nbgrader": {
     "cell_type": "code",
     "checksum": "7d0a2f9adc85f29e3750f6ba64026c39",
     "grade": true,
     "grade_id": "cell-ec3e7957b793484d",
     "locked": false,
     "points": 0,
     "schema_version": 3,
     "solution": true,
     "task": false
    }
   },
   "outputs": [],
   "source": [
    "# YOUR CODE HERE\n",
    "raise NotImplementedError()"
   ]
  },
  {
   "cell_type": "markdown",
   "metadata": {
    "deletable": false,
    "editable": false,
    "nbgrader": {
     "cell_type": "markdown",
     "checksum": "346b54c8584af742167e680f488f9d9f",
     "grade": false,
     "grade_id": "cell-816bd1b4a7702",
     "locked": true,
     "schema_version": 3,
     "solution": false,
     "task": false
    }
   },
   "source": [
    "### Test code"
   ]
  },
  {
   "cell_type": "code",
   "execution_count": null,
   "metadata": {
    "deletable": false,
    "editable": false,
    "nbgrader": {
     "cell_type": "code",
     "checksum": "edbc2566b396ec229e31e63d025f2fb6",
     "grade": true,
     "grade_id": "bisection_test",
     "locked": true,
     "points": 10,
     "schema_version": 3,
     "solution": false,
     "task": false
    }
   },
   "outputs": [],
   "source": [
    "func = lambda x: 667.38/x*(1-np.exp(-0.146843*x))-40;\n",
    "QandAs = [[3, 18, 0.3, 6, 14.953125],\n",
    "[7, 17, 0.2, 8, 14.7734375],\n",
    "[10, 23, 0.4, 5, 14.46875],\n",
    "[10, 21, 0.6, 5, 14.46875],\n",
    "[4, 16, 0.5, 7, 14.78125]]\n",
    "for xl, xu, e_tolerance, max_iterations, Answer in QandAs: \n",
    "    result=bisection(func, xl, xu, e_tolerance, max_iterations)\n",
    "    studentAnswer = result.iloc[-1]['xr']\n",
    "    assert np.isclose(studentAnswer, Answer), f' Did not work for the inputs {xl=},{xu=}, {e_tolerance=}, {max_iterations=} . Expected {Answer=}. Got {studentAnswer=}'\n",
    "print(\"All correct. Good work!\")"
   ]
  },
  {
   "cell_type": "markdown",
   "metadata": {
    "deletable": false,
    "editable": false,
    "nbgrader": {
     "cell_type": "markdown",
     "checksum": "15e8d84fa6e1b9ce4c4704af5f18fd00",
     "grade": false,
     "grade_id": "cell-9c63cc311dac",
     "locked": true,
     "schema_version": 3,
     "solution": false,
     "task": false
    }
   },
   "source": [
    "## False position method\n",
    "Write a function called **falsePosition** that takes the following inputs\n",
    "* **f** the equation whose root is to be determined\n",
    "* **xl** the lower bound of the search interval\n",
    "* **xu** the upper bound of the search interval\n",
    "* **eTolerance** the error tolerance in percentages\n",
    "* **maxIteration** the maximum numbers of iterations\n",
    "\n",
    "It then returns a Pandas DataFrame called **result** which contains the results from all iterations and has the following columns.\n",
    "* **iteration** the iteration number\n",
    "* **xl** the lower bound of the search interval\n",
    "* **xu** the upper bound of the search interval\n",
    "* **xr** the new root\n",
    "* **relative error** the calculated relative error\n",
    "\n",
    "Your function needs to compute the root iteratively using the False position method until the error tolerance condition has been met or the number of iterations has exceeded the maximum number of iterations. \n",
    "\n",
    "Using the False position method, the new root, $x_r$ is computed as $x_r = x_u - f(x_u)\\frac{(x_l-x_u)}{f(x_l)-f(x_u)}$"
   ]
  },
  {
   "cell_type": "code",
   "execution_count": null,
   "metadata": {
    "deletable": false,
    "nbgrader": {
     "cell_type": "code",
     "checksum": "dbdbe37e0c6df3c8ec36efe355b922e3",
     "grade": false,
     "grade_id": "falsePositon",
     "locked": false,
     "schema_version": 3,
     "solution": true,
     "task": false
    }
   },
   "outputs": [],
   "source": [
    "def falsePosition(func, xl, xu, e_tolerance, max_iterations): \n",
    "    \"\"\"\n",
    "    Perform the false position (or regula falsi) method to find the root of a function within a given interval.\n",
    "\n",
    "    The false position method iteratively refines the interval [xl, xu] where the root of the function is located\n",
    "    by using a linear interpolation to estimate the root. The process continues until the relative error falls below\n",
    "    a specified tolerance or the maximum number of iterations is reached.\n",
    "\n",
    "    Parameters:\n",
    "    -----------\n",
    "    func : function\n",
    "        The function for which the root is to be found.\n",
    "    xl : float\n",
    "        The lower bound of the interval.\n",
    "    xu : float\n",
    "        The upper bound of the interval.\n",
    "    e_tolerance : float\n",
    "        The stopping criterion for the relative error (as a percentage).\n",
    "    max_iterations : int\n",
    "        The maximum number of iterations to perform.\n",
    "\n",
    "    Returns:\n",
    "    --------\n",
    "    pandas.DataFrame\n",
    "        A DataFrame containing the details of each iteration, including:\n",
    "        - 'xl': The current lower bound of the interval.\n",
    "        - 'xu': The current upper bound of the interval.\n",
    "        - 'xr': The estimated root from the linear interpolation.\n",
    "        - 'relative error': The relative error at the current iteration (as a percentage).\n",
    "\n",
    "    Example:\n",
    "    --------\n",
    "    >>> def func(x):\n",
    "    >>>     return x**2 - 4\n",
    "\n",
    "    >>> falsePosition(func, 1, 3, 0.01, 100)\n",
    "       xl        xu   xr        relative error\n",
    "    1  1.0       3.0  1.666667  79.999999\n",
    "    2  1.666667  3.0  1.846154  9.723958\n",
    "    ...\n",
    "\n",
    "    Notes:\n",
    "    ------\n",
    "    - The function assumes that func(xl) and func(xu) have opposite signs, indicating that a root lies within the interval [xl, xu].\n",
    "    - The loop will terminate early if the function converges before reaching the maximum number of iterations.\n",
    "    - The function uses the `relativeError` function to calculate the relative error.\n",
    "    \"\"\"\n",
    "    # YOUR CODE HERE\n",
    "    raise NotImplementedError()"
   ]
  },
  {
   "cell_type": "code",
   "execution_count": null,
   "metadata": {
    "deletable": false,
    "nbgrader": {
     "cell_type": "code",
     "checksum": "c5ab40d1863df5f91087357f20bdd155",
     "grade": true,
     "grade_id": "cell-4c2234c777536fd4",
     "locked": false,
     "points": 0,
     "schema_version": 3,
     "solution": true,
     "task": false
    }
   },
   "outputs": [],
   "source": [
    "# You can call and test your function here\n",
    "# YOUR CODE HERE\n",
    "raise NotImplementedError()"
   ]
  },
  {
   "cell_type": "markdown",
   "metadata": {
    "deletable": false,
    "editable": false,
    "nbgrader": {
     "cell_type": "markdown",
     "checksum": "81e63202188f4650811216f62e537a12",
     "grade": false,
     "grade_id": "cell-816b1b4a7702",
     "locked": true,
     "schema_version": 3,
     "solution": false,
     "task": false
    }
   },
   "source": [
    "### Test code"
   ]
  },
  {
   "cell_type": "code",
   "execution_count": null,
   "metadata": {
    "deletable": false,
    "editable": false,
    "nbgrader": {
     "cell_type": "code",
     "checksum": "ea219a882e2298d56f1d7ea63f30f7d5",
     "grade": true,
     "grade_id": "falsePositon_test",
     "locked": true,
     "points": 10,
     "schema_version": 3,
     "solution": false,
     "task": false
    }
   },
   "outputs": [],
   "source": [
    "func = lambda x: 667.38/x*(1-np.exp(-0.146843*x))-40;\n",
    "QandAs = [[3, 17, 0.4, 6, 14.808115949203586],\n",
    "[9, 22, 0.8, 8, 14.796817165557389],\n",
    "[7, 24, 0.7, 9, 14.798990111607184],\n",
    "[5, 20, 0.8, 8, 14.809667776259092],\n",
    "[3, 22, 0.5, 5, 14.874842878566048]]\n",
    "for xl, xu, e_tolerance, max_iterations, Answer in QandAs: \n",
    "    result=falsePosition(func, xl, xu, e_tolerance, max_iterations)\n",
    "    studentAnswer = result.iloc[-1]['xr']\n",
    "    assert np.isclose(studentAnswer, Answer), f' Did not work for the inputs {xl=},{xu=}, {e_tolerance=}, {max_iterations=} . Expected {Answer=}. Got {studentAnswer=}'\n",
    "print(\"All correct. Good work!\")"
   ]
  },
  {
   "cell_type": "markdown",
   "metadata": {
    "deletable": false,
    "editable": false,
    "nbgrader": {
     "cell_type": "markdown",
     "checksum": "32a7a178b0f8db7d6a4939f5a49dcbfc",
     "grade": false,
     "grade_id": "cell-21adb96fcb84c44",
     "locked": true,
     "schema_version": 3,
     "solution": false,
     "task": false
    }
   },
   "source": [
    "## Open methods"
   ]
  },
  {
   "cell_type": "markdown",
   "metadata": {
    "deletable": false,
    "editable": false,
    "nbgrader": {
     "cell_type": "markdown",
     "checksum": "91d1e06e35b1bb99a203a5cdfc1e9a03",
     "grade": false,
     "grade_id": "cell-9c63c311adac",
     "locked": true,
     "schema_version": 3,
     "solution": false,
     "task": false
    }
   },
   "source": [
    "\n",
    "## Newton Raphson method\n",
    "Write a function called **newtonRaphson** that takes the following inputs\n",
    "* **f** the equation whose root is to be determined\n",
    "* **df** the derivative of the equation whose root is to be determined\n",
    "* **x0** the initial guess\n",
    "* **eTolerance** the error tolerance in percentages\n",
    "* **maxIteration** the maximum numbers of iterations\n",
    "\n",
    "It then returns a Pandas DataFrame called **result** which contains the results from all iterations and has the following columns.\n",
    "* **iteration** the iteration number\n",
    "* **x0** the old value\n",
    "* **xr** the new root\n",
    "* **relative error** the calculated relative error\n",
    "\n",
    "Your function needs to compute the root iteratively using the Newton Raphson method until the error tolerance condition has been met or the number of iterations has exceeded the maximum number of iterations. \n",
    "\n",
    "\n",
    "Starting with an initial guess of $x_i = x_0$\n",
    "\n",
    "Root is computed as $x_{i+1} = x_i - \\frac{f(x_i)}{f'(x_i)}$"
   ]
  },
  {
   "cell_type": "code",
   "execution_count": null,
   "metadata": {
    "deletable": false,
    "nbgrader": {
     "cell_type": "code",
     "checksum": "44dfa8c32451cba58a2bd85eb9285aa3",
     "grade": false,
     "grade_id": "newton",
     "locked": false,
     "schema_version": 3,
     "solution": true,
     "task": false
    }
   },
   "outputs": [],
   "source": [
    "# Newton Raphson Method\n",
    "def newtonRaphson(f, df, x0, e_tolerance, max_iterations):\n",
    "    \"\"\"\n",
    "    Perform the Newton-Raphson method to find the root of a function.\n",
    "\n",
    "    The Newton-Raphson method is an iterative technique that approximates the root of a function by using the function's\n",
    "    derivative. The method updates the current estimate using the formula:\n",
    "    \n",
    "        xr = xr - f(xr) / f'(xr)\n",
    "    \n",
    "    The iteration continues until the relative error falls below a specified tolerance or the maximum number of iterations is reached.\n",
    "\n",
    "    Parameters:\n",
    "    -----------\n",
    "    f : function\n",
    "        The function for which the root is to be found.\n",
    "    df : function\n",
    "        The derivative of the function `f`.\n",
    "    x0 : float\n",
    "        The initial guess for the root.\n",
    "    e_tolerance : float\n",
    "        The stopping criterion for the relative error (as a percentage).\n",
    "    max_iterations : int\n",
    "        The maximum number of iterations to perform.\n",
    "\n",
    "    Returns:\n",
    "    --------\n",
    "    pandas.DataFrame\n",
    "        A DataFrame containing the details of each iteration, including:\n",
    "        - 'iteration': The current iteration number.\n",
    "        - 'x0': The initial guess or the previous value of xr.\n",
    "        - 'xr': The updated estimate of the root.\n",
    "        - 'Relative error': The relative error at the current iteration (as a percentage).\n",
    "\n",
    "    Example:\n",
    "    --------\n",
    "    >>> def func(x):\n",
    "    >>>     return x**2 - 4\n",
    "    \n",
    "    >>> def dfunc(x):\n",
    "    >>>     return 2*x\n",
    "\n",
    "    >>> newtonRaphson(func, dfunc, 1.0, 0.01, 10)\n",
    "       iteration   x0   xr  Relative error\n",
    "    1           1  1.0  2.0        50.000000\n",
    "    2           2  2.0  1.5        33.333333\n",
    "    ...\n",
    "\n",
    "    Notes:\n",
    "    ------\n",
    "    - The function assumes that the derivative `df` is non-zero at the initial guess `x0`.\n",
    "    - The loop will terminate early if the function converges before reaching the maximum number of iterations.\n",
    "    - The function uses the `relativeError` function to calculate the relative error.\n",
    "    \"\"\"\n",
    "    # YOUR CODE HERE\n",
    "    raise NotImplementedError()"
   ]
  },
  {
   "cell_type": "code",
   "execution_count": null,
   "metadata": {
    "deletable": false,
    "nbgrader": {
     "cell_type": "code",
     "checksum": "528a9e2508ccf475c67d8a09c2be52f0",
     "grade": true,
     "grade_id": "cell-20121573d7b66a80",
     "locked": false,
     "points": 0,
     "schema_version": 3,
     "solution": true,
     "task": false
    }
   },
   "outputs": [],
   "source": [
    "# You can call and test your function here\n",
    "# YOUR CODE HERE\n",
    "raise NotImplementedError()"
   ]
  },
  {
   "cell_type": "markdown",
   "metadata": {
    "deletable": false,
    "editable": false,
    "nbgrader": {
     "cell_type": "markdown",
     "checksum": "10eea5c36d831628475e0edc00b4fa7c",
     "grade": false,
     "grade_id": "cell-816d1b4a7702",
     "locked": true,
     "schema_version": 3,
     "solution": false,
     "task": false
    }
   },
   "source": [
    "### Tests"
   ]
  },
  {
   "cell_type": "code",
   "execution_count": null,
   "metadata": {
    "deletable": false,
    "editable": false,
    "nbgrader": {
     "cell_type": "code",
     "checksum": "1c74154f165420634af521641b80043c",
     "grade": true,
     "grade_id": "newton_test",
     "locked": true,
     "points": 10,
     "schema_version": 3,
     "solution": false,
     "task": false
    }
   },
   "outputs": [],
   "source": [
    "func =  lambda x: x**3 - 6*x**2 + 11*x - 6.1\n",
    "dfunc = lambda x: 3*x**2 - 12*x + 11\n",
    "\n",
    "QandAs = [[7.5, 0.5, 5, 3.120906254949448],\n",
    "[3.5, 0.5, 4, 3.0466810868815104],\n",
    "[4.5, 0.7, 5, 3.0467252337803936],\n",
    "[4.5, 0.3, 9, 3.0467252337803936],\n",
    "[7.5, 0.4, 4, 3.342808170433576],]\n",
    "for x0, e_tolerance, max_iterations, Answer in QandAs: \n",
    "    result = newtonRaphson(func, dfunc, x0, e_tolerance, max_iterations)\n",
    "    studentAnswer = result.iloc[-1]['xr']\n",
    "    assert np.isclose(studentAnswer, Answer), f' Did not work for the inputs {xl=},{xu=}, {e_tolerance=}, {max_iterations=} . Expected {Answer=}. Got {studentAnswer=}'\n",
    "print(\"All correct. Good work!\")"
   ]
  },
  {
   "cell_type": "markdown",
   "metadata": {
    "deletable": false,
    "editable": false,
    "nbgrader": {
     "cell_type": "markdown",
     "checksum": "dd1e44a39ca742f175cb9a20b127e843",
     "grade": false,
     "grade_id": "cell-9c63cc11dac",
     "locked": true,
     "schema_version": 3,
     "solution": false,
     "task": false
    }
   },
   "source": [
    "## Secant method\n",
    "\n",
    "Write a function called **secant** that takes the following inputs\n",
    "* **f** the equation whose root is to be determined\n",
    "* **xMinus1** the first initial guess\n",
    "* **x0** the second initial guess\n",
    "* **eTolerance** the error tolerance in percentages\n",
    "* **maxIteration** the maximum numbers of iterations\n",
    "\n",
    "It then returns a Pandas DataFrame called **result** which contains the results from all iterations and has the following columns.\n",
    "* **iteration** the iteration number\n",
    "* **xMinus1** the first guess\n",
    "* **x0** the second guess\n",
    "* **xr** the new root\n",
    "* **relative error** the calculated relative error\n",
    "\n",
    "Your function needs to compute the root iteratively using the Secant method until the error tolerance condition has been met or the number of iterations has exceeded the maximum number of iterations. \n",
    "\n",
    "Root is computed as $x_{i+1} = x_i - f(x_i)\\frac{x_{i-1}-x_i}{f(x_{i-1})-f(x_i)}$"
   ]
  },
  {
   "cell_type": "markdown",
   "metadata": {
    "deletable": false,
    "editable": false,
    "nbgrader": {
     "cell_type": "markdown",
     "checksum": "d306cdf65554c94d4fde71f1f6e32cc1",
     "grade": false,
     "grade_id": "cell-23d6c27ce46",
     "locked": true,
     "schema_version": 3,
     "solution": false,
     "task": false
    }
   },
   "source": [
    "### Function"
   ]
  },
  {
   "cell_type": "code",
   "execution_count": null,
   "metadata": {
    "deletable": false,
    "nbgrader": {
     "cell_type": "code",
     "checksum": "25f1e81b7b98382cc8c0de96598ab298",
     "grade": false,
     "grade_id": "secant",
     "locked": false,
     "schema_version": 3,
     "solution": true,
     "task": false
    }
   },
   "outputs": [],
   "source": [
    "def Secant(func, x0, xminus1, e_tolerance, max_iterations):\n",
    "    \n",
    "    # YOUR CODE HERE\n",
    "    raise NotImplementedError()"
   ]
  },
  {
   "cell_type": "code",
   "execution_count": null,
   "metadata": {
    "deletable": false,
    "nbgrader": {
     "cell_type": "code",
     "checksum": "ef64c17053a9e08a5c9ac8d3e886ce20",
     "grade": true,
     "grade_id": "cell-3d834ddfcc6501f1",
     "locked": false,
     "points": 0,
     "schema_version": 3,
     "solution": true,
     "task": false
    }
   },
   "outputs": [],
   "source": [
    "# You can call and test your function here\n",
    "# YOUR CODE HERE\n",
    "raise NotImplementedError()"
   ]
  },
  {
   "cell_type": "markdown",
   "metadata": {
    "deletable": false,
    "editable": false,
    "nbgrader": {
     "cell_type": "markdown",
     "checksum": "caee9e55533d3cab5e6b430996888dce",
     "grade": false,
     "grade_id": "cell-81b1b4a7702",
     "locked": true,
     "schema_version": 3,
     "solution": false,
     "task": false
    }
   },
   "source": [
    "### Test code"
   ]
  },
  {
   "cell_type": "code",
   "execution_count": null,
   "metadata": {
    "deletable": false,
    "editable": false,
    "nbgrader": {
     "cell_type": "code",
     "checksum": "0b18e0731aaf9d72c0a6d7ab50efd24a",
     "grade": true,
     "grade_id": "secant_test",
     "locked": true,
     "points": 10,
     "schema_version": 3,
     "solution": false,
     "task": false
    }
   },
   "outputs": [],
   "source": [
    "func =  lambda x: x**3 - 6*x**2 + 11*x - 6.1\n",
    "\n",
    "QandAs = [[4.5, 2.2, 0.7, 9, 1.8989430484219065],\n",
    "[4.5, 1.8, 0.2, 5, 1.8989662326487895],\n",
    "[5.5, 1.2, 0.6, 5, 1.0546918087104296],\n",
    "[3.5, 2.0, 0.8, 7, 1.8989572776922448],\n",
    "[5.5, 2.1, 0.4, 4, 1.8988210464514217],]\n",
    "for x0, xminus1, e_tolerance, max_iterations, Answer in QandAs: \n",
    "    result = Secant(func, x0, xminus1, e_tolerance, max_iterations)\n",
    "    studentAnswer = result.iloc[-1]['xr']\n",
    "    assert np.isclose(studentAnswer, Answer), f' Did not work for the inputs {xl=},{xu=}, {e_tolerance=}, {max_iterations=} . Expected {Answer=}. Got {studentAnswer=}'\n",
    "print(\"All correct. Good work!\")"
   ]
  },
  {
   "cell_type": "markdown",
   "metadata": {
    "deletable": false,
    "editable": false,
    "nbgrader": {
     "cell_type": "markdown",
     "checksum": "a5639b0f2aa548e9e839b19017a33de8",
     "grade": false,
     "grade_id": "cell-b4df058b237ebd7d",
     "locked": true,
     "schema_version": 3,
     "solution": false,
     "task": false
    }
   },
   "source": [
    "# Solve textbook problems\n",
    "- Solve problem 5.4 using only the Bisection function you developed.\n",
    "- Solve problem 6.9 using only the Newton Raphson function you developed.\n",
    "- Write your scripts in the place provided below.\n",
    "\n",
    "For all textbook problems, report your \n",
    "1. final root, \n",
    "2. the value of the function with the root, \n",
    "3. the relative error achieved, \n",
    "4. the max iterations needed, and \n",
    "5. a short conclusion about what your learnt.\n"
   ]
  },
  {
   "cell_type": "code",
   "execution_count": null,
   "metadata": {
    "deletable": false,
    "nbgrader": {
     "cell_type": "code",
     "checksum": "95fb68f2981d50605d1cd70f58504857",
     "grade": false,
     "grade_id": "cell-2afdc0a9bb6ff969",
     "locked": false,
     "schema_version": 3,
     "solution": true,
     "task": false
    }
   },
   "outputs": [],
   "source": [
    "# YOUR CODE HERE\n",
    "raise NotImplementedError()"
   ]
  },
  {
   "cell_type": "code",
   "execution_count": null,
   "metadata": {
    "deletable": false,
    "nbgrader": {
     "cell_type": "code",
     "checksum": "3d3830634209633237e7dfcea00b69ba",
     "grade": false,
     "grade_id": "cell-8e203068ee064720",
     "locked": false,
     "schema_version": 3,
     "solution": true,
     "task": false
    }
   },
   "outputs": [],
   "source": [
    "# YOUR CODE HERE\n",
    "raise NotImplementedError()"
   ]
  }
 ],
 "metadata": {
  "kernelspec": {
   "display_name": "Python 3 (ipykernel)",
   "language": "python",
   "name": "python3"
  },
  "language_info": {
   "codemirror_mode": {
    "name": "ipython",
    "version": 3
   },
   "file_extension": ".py",
   "mimetype": "text/x-python",
   "name": "python",
   "nbconvert_exporter": "python",
   "pygments_lexer": "ipython3",
   "version": "3.12.5"
  }
 },
 "nbformat": 4,
 "nbformat_minor": 4
}
