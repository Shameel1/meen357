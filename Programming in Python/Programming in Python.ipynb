{
 "cells": [
  {
   "cell_type": "markdown",
   "metadata": {},
   "source": [
    "# MEEN 357 - Fall 2025\n",
    "### Submission Instructions\n",
    "\n",
    "- **Run All Cells**: Before submitting, go to **Kernel > Restart Kernel & Run All Cells** to ensure your code runs without errors. Submissions with errors will receive a **ZERO** grade.\n",
    "- **Enter Your Name**: Fill in your name in the provided cell.\n",
    "- **Complete the Code**: Replace all instances of `YOUR CODE HERE` with your solution. Remove `raise NotImplementedError()`.\n",
    "- **Maintain Structure**: Do not add or remove any cells.\n",
    "- **Test Your Code**: Run the provided tests to check your answers. Note that additional hidden tests may be used during grading.\n",
    "- **Partial Credit**: Will be awarded only if your code runs error-free.\n",
    "- **Save and Submit**: Ensure you submit the latest, correct version of your assignment by checking the last modified time.\n"
   ]
  },
  {
   "cell_type": "code",
   "execution_count": null,
   "metadata": {},
   "outputs": [],
   "source": [
    "NAME = \"\""
   ]
  },
  {
   "cell_type": "code",
   "execution_count": null,
   "metadata": {},
   "outputs": [],
   "source": [
    "import IPython\n",
    "assert IPython.version_info[0] >= 3.8, \"Your version of IPython is too old, please update it.\""
   ]
  },
  {
   "cell_type": "markdown",
   "metadata": {},
   "source": [
    "---"
   ]
  },
  {
   "cell_type": "markdown",
   "metadata": {
    "deletable": false,
    "editable": false,
    "nbgrader": {
     "cell_type": "markdown",
     "checksum": "a1f2dd9790e6a95a94e9405f79dd8102",
     "grade": false,
     "grade_id": "cell-d5c9ac34180c596d",
     "locked": true,
     "schema_version": 3,
     "solution": false,
     "task": false
    }
   },
   "source": [
    "# Assignment 0 – Programming in Python"
   ]
  },
  {
   "cell_type": "code",
   "execution_count": null,
   "metadata": {
    "deletable": false,
    "editable": false,
    "nbgrader": {
     "cell_type": "code",
     "checksum": "be924b8fe34bb127ca1daa5bd60b80b5",
     "grade": false,
     "grade_id": "cell-772fd0b26bda441c",
     "locked": true,
     "schema_version": 3,
     "solution": false,
     "task": false
    }
   },
   "outputs": [],
   "source": [
    "import numpy as np\n",
    "import matplotlib.pyplot as plt"
   ]
  },
  {
   "cell_type": "markdown",
   "metadata": {
    "deletable": false,
    "editable": false,
    "nbgrader": {
     "cell_type": "markdown",
     "checksum": "cfde1f674d78bff9af4ab0aadb9e4f50",
     "grade": false,
     "grade_id": "cell-aca95ea08f8277ea",
     "locked": true,
     "schema_version": 3,
     "solution": false,
     "task": false
    }
   },
   "source": [
    "# 🚀 Projectile Motion  \n",
    "\n",
    "We will practice Python basics (`if`, `for`, `while`, functions, indexing) using a familiar physics problem: **projectile motion**.  \n",
    "Equation of motion:  \n",
    "\n",
    "$x(t) = v_0 \\cos(\\theta) \\, t$  \n",
    "\n",
    "$y(t) = v_0 \\sin(\\theta) \\, t - \\tfrac{1}{2} g t^2$  \n",
    "\n",
    "Take:  \n",
    "- $v_0 = 30 \\, \\text{m/s}$  \n",
    "- $\\theta = 45^\\circ$  \n",
    "- $g = 9.81 \\, \\text{m/s}^2$  \n",
    "\n",
    "---\n",
    "\n",
    "## Q1. Checking if the projectile hits the ground  \n",
    "\n",
    "At $t=0$ the projectile is on the ground ($y=0$). We want to check if it hits the ground again between certain times.  \n",
    "\n"
   ]
  },
  {
   "cell_type": "markdown",
   "metadata": {
    "deletable": false,
    "editable": false,
    "nbgrader": {
     "cell_type": "markdown",
     "checksum": "a6d6d53cd3c5a6db2df66ccc9c62934f",
     "grade": false,
     "grade_id": "cell-30529d7294181b09",
     "locked": true,
     "schema_version": 3,
     "solution": false,
     "task": false
    }
   },
   "source": [
    "### Task A  \n",
    "- Define a function `y(t)` that computes the vertical position.\n",
    "\n",
    "HINT: Use `np.deg2rad` function to convert from degrees to radians"
   ]
  },
  {
   "cell_type": "code",
   "execution_count": null,
   "metadata": {
    "deletable": false,
    "nbgrader": {
     "cell_type": "code",
     "checksum": "21fcfccba7c00c87ec51231addcddf6c",
     "grade": false,
     "grade_id": "cell-77f454a24b3004fa",
     "locked": false,
     "schema_version": 3,
     "solution": true,
     "task": false
    }
   },
   "outputs": [],
   "source": [
    "# YOUR CODE HERE\n",
    "raise NotImplementedError()"
   ]
  },
  {
   "cell_type": "code",
   "execution_count": null,
   "metadata": {
    "deletable": false,
    "editable": false,
    "nbgrader": {
     "cell_type": "code",
     "checksum": "3c12a8f962ce257c1de32c357b3cfe87",
     "grade": true,
     "grade_id": "cell-bdfd29381e91fb52",
     "locked": true,
     "points": 2,
     "schema_version": 3,
     "solution": false,
     "task": false
    }
   },
   "outputs": [],
   "source": [
    "assert abs(y(2) - 22.8064) < 1e-3, 'Equation is not defined correctly'"
   ]
  },
  {
   "cell_type": "markdown",
   "metadata": {
    "deletable": false,
    "editable": false,
    "nbgrader": {
     "cell_type": "markdown",
     "checksum": "93f74d6789a58e1c0d62fff63615c89a",
     "grade": false,
     "grade_id": "cell-62e9f06c8729f345",
     "locked": true,
     "schema_version": 3,
     "solution": false,
     "task": false
    }
   },
   "source": [
    "### Task B\n",
    "- Write a condition to check if the ball hits the ground between 5 and 10 seconds.\n",
    "- Assign the result to a variable named `hits_ground_5_10`\n",
    "(Hint: check for sign change between y(5) and y(10).)"
   ]
  },
  {
   "cell_type": "code",
   "execution_count": null,
   "metadata": {
    "deletable": false,
    "nbgrader": {
     "cell_type": "code",
     "checksum": "05a879fec976cb5d5058b11e5d445852",
     "grade": false,
     "grade_id": "volume",
     "locked": false,
     "schema_version": 3,
     "solution": true,
     "task": false
    }
   },
   "outputs": [],
   "source": [
    "# YOUR CODE HERE\n",
    "raise NotImplementedError()"
   ]
  },
  {
   "cell_type": "code",
   "execution_count": null,
   "metadata": {
    "deletable": false,
    "editable": false,
    "nbgrader": {
     "cell_type": "code",
     "checksum": "c053bfdac50c61dead4f1917a22e057e",
     "grade": true,
     "grade_id": "cell-4e0fd394185c3f8e",
     "locked": true,
     "points": 5,
     "schema_version": 3,
     "solution": false,
     "task": false
    }
   },
   "outputs": [],
   "source": [
    "assert hits_ground_5_10 == False"
   ]
  },
  {
   "cell_type": "markdown",
   "metadata": {
    "deletable": false,
    "editable": false,
    "nbgrader": {
     "cell_type": "markdown",
     "checksum": "0cdc2a8c3d48810e362b0a15f5123201",
     "grade": false,
     "grade_id": "cell-576c8fe27b87218c",
     "locked": true,
     "schema_version": 3,
     "solution": false,
     "task": false
    }
   },
   "source": [
    "### Task C\n",
    "\n",
    "- How about between 4 and 6 seconds?\n",
    "- Assign the result to a variable named `hits_ground_4_6`"
   ]
  },
  {
   "cell_type": "code",
   "execution_count": null,
   "metadata": {
    "deletable": false,
    "nbgrader": {
     "cell_type": "code",
     "checksum": "e848c3aeefcf0959063c6acdd2e3aaa8",
     "grade": false,
     "grade_id": "cell-50bbec5fa104a683",
     "locked": false,
     "schema_version": 3,
     "solution": true,
     "task": false
    }
   },
   "outputs": [],
   "source": [
    "# YOUR CODE HERE\n",
    "raise NotImplementedError()"
   ]
  },
  {
   "cell_type": "code",
   "execution_count": null,
   "metadata": {
    "deletable": false,
    "editable": false,
    "nbgrader": {
     "cell_type": "code",
     "checksum": "ceca488a048754c4907dd63d4c38c7fc",
     "grade": true,
     "grade_id": "cell-cac7b260ba93c1c4",
     "locked": true,
     "points": 3,
     "schema_version": 3,
     "solution": false,
     "task": false
    }
   },
   "outputs": [],
   "source": [
    "assert hits_ground_4_6 == True"
   ]
  },
  {
   "cell_type": "markdown",
   "metadata": {
    "deletable": false,
    "editable": false,
    "nbgrader": {
     "cell_type": "markdown",
     "checksum": "ca23efaa381bef24752fc3565ab9a571",
     "grade": false,
     "grade_id": "cell-bb0ce81b1a4aa16e",
     "locked": true,
     "schema_version": 3,
     "solution": false,
     "task": false
    }
   },
   "source": [
    "---\n",
    "\n",
    "## Q2. Check if the projectile crosses 50 m between 5 and 10 seconds \n",
    "\n",
    "We want to know if the projectile has travelled close to a target location. \n"
   ]
  },
  {
   "cell_type": "markdown",
   "metadata": {
    "deletable": false,
    "editable": false,
    "nbgrader": {
     "cell_type": "markdown",
     "checksum": "9c0b63d9d3bb0d4a5a858737fa934152",
     "grade": false,
     "grade_id": "cell-0944fd021b007179",
     "locked": true,
     "schema_version": 3,
     "solution": false,
     "task": false
    }
   },
   "source": [
    "### Task A  \n",
    "- Define a function `x(t)` that computes the horizontal position.  "
   ]
  },
  {
   "cell_type": "code",
   "execution_count": null,
   "metadata": {
    "deletable": false,
    "nbgrader": {
     "cell_type": "code",
     "checksum": "87686dcd3e75245c6f1f9a3c1ec814bd",
     "grade": false,
     "grade_id": "cell-fee1aac22aa6a3d1",
     "locked": false,
     "schema_version": 3,
     "solution": true,
     "task": false
    }
   },
   "outputs": [],
   "source": [
    "# YOUR CODE HERE\n",
    "raise NotImplementedError()"
   ]
  },
  {
   "cell_type": "code",
   "execution_count": null,
   "metadata": {
    "deletable": false,
    "editable": false,
    "nbgrader": {
     "cell_type": "code",
     "checksum": "de03397364c7789f322e2f67e885d3c0",
     "grade": true,
     "grade_id": "cell-5f7e848e30ddbeb7",
     "locked": true,
     "points": 2,
     "schema_version": 3,
     "solution": false,
     "task": false
    }
   },
   "outputs": [],
   "source": [
    "assert abs(x(2) - 42.4264) < 1e-3"
   ]
  },
  {
   "cell_type": "markdown",
   "metadata": {
    "deletable": false,
    "editable": false,
    "nbgrader": {
     "cell_type": "markdown",
     "checksum": "22f31d75788ebdc709ede6e994880197",
     "grade": false,
     "grade_id": "cell-58e5de1c37597509",
     "locked": true,
     "schema_version": 3,
     "solution": false,
     "task": false
    }
   },
   "source": [
    "### Task B\n",
    "- Define a function `f(t)` that converts this into a root finding problem, i.e., f(t)=0"
   ]
  },
  {
   "cell_type": "code",
   "execution_count": null,
   "metadata": {
    "deletable": false,
    "nbgrader": {
     "cell_type": "code",
     "checksum": "ac75dbceb726ba4f08a65d616e4dcaf8",
     "grade": false,
     "grade_id": "cell-6067983df43fdc75",
     "locked": false,
     "schema_version": 3,
     "solution": true,
     "task": false
    }
   },
   "outputs": [],
   "source": [
    "# YOUR CODE HERE\n",
    "raise NotImplementedError()"
   ]
  },
  {
   "cell_type": "code",
   "execution_count": null,
   "metadata": {
    "deletable": false,
    "editable": false,
    "nbgrader": {
     "cell_type": "code",
     "checksum": "ca898a2b4f4a9688c6860b6bd2389bd0",
     "grade": true,
     "grade_id": "cell-ba3ed875b58e6018",
     "locked": true,
     "points": 4,
     "schema_version": 3,
     "solution": false,
     "task": false
    }
   },
   "outputs": [],
   "source": [
    "assert abs(f(2) - (42.4264-50)) < 1e-3"
   ]
  },
  {
   "cell_type": "markdown",
   "metadata": {
    "deletable": false,
    "editable": false,
    "nbgrader": {
     "cell_type": "markdown",
     "checksum": "cf5b4c448e4b0d1ae67f43050210097a",
     "grade": false,
     "grade_id": "cell-09f625f2336090cf",
     "locked": true,
     "schema_version": 3,
     "solution": false,
     "task": false
    }
   },
   "source": [
    "### Task C\n",
    "- Check if the projectile passes 50 m between 5 and 10 seconds\n",
    "- Assign the result to a variable named `passes_50m_5_10`"
   ]
  },
  {
   "cell_type": "code",
   "execution_count": null,
   "metadata": {
    "deletable": false,
    "nbgrader": {
     "cell_type": "code",
     "checksum": "becb21322ce4dca0b7e71aeede78d9d5",
     "grade": false,
     "grade_id": "cell-b9ed57382cc9a8ab",
     "locked": false,
     "schema_version": 3,
     "solution": true,
     "task": false
    }
   },
   "outputs": [],
   "source": [
    "# YOUR CODE HERE\n",
    "raise NotImplementedError()"
   ]
  },
  {
   "cell_type": "code",
   "execution_count": null,
   "metadata": {
    "deletable": false,
    "editable": false,
    "nbgrader": {
     "cell_type": "code",
     "checksum": "523a4f8876467a004e95910b4aeaab1a",
     "grade": true,
     "grade_id": "cell-5bdd95e5abcb7587",
     "locked": true,
     "points": 3,
     "schema_version": 3,
     "solution": false,
     "task": false
    }
   },
   "outputs": [],
   "source": [
    "assert passes_50m_5_10 == False"
   ]
  },
  {
   "cell_type": "markdown",
   "metadata": {
    "deletable": false,
    "editable": false,
    "nbgrader": {
     "cell_type": "markdown",
     "checksum": "800583b869f7b1e0ca3408eb51342a08",
     "grade": false,
     "grade_id": "cell-55a800a324d6785c",
     "locked": true,
     "schema_version": 3,
     "solution": false,
     "task": false
    }
   },
   "source": [
    "### Task D\n",
    "- Check if the projectile passes 50 m between 2 and 4 seconds\n",
    "- Assign the result to a variable named `passes_50m_2_4`"
   ]
  },
  {
   "cell_type": "code",
   "execution_count": null,
   "metadata": {
    "deletable": false,
    "nbgrader": {
     "cell_type": "code",
     "checksum": "2948625812b47c92d83c552b2a0be853",
     "grade": false,
     "grade_id": "cell-517d021b63dc7420",
     "locked": false,
     "schema_version": 3,
     "solution": true,
     "task": false
    }
   },
   "outputs": [],
   "source": [
    "# YOUR CODE HERE\n",
    "raise NotImplementedError()"
   ]
  },
  {
   "cell_type": "code",
   "execution_count": null,
   "metadata": {
    "deletable": false,
    "editable": false,
    "nbgrader": {
     "cell_type": "code",
     "checksum": "8480a8550e7f8b18bec7c241d1a31a08",
     "grade": true,
     "grade_id": "cell-62b7b7eaff2e7072",
     "locked": true,
     "points": 3,
     "schema_version": 3,
     "solution": false,
     "task": false
    }
   },
   "outputs": [],
   "source": [
    "assert passes_50m_2_4 == True"
   ]
  },
  {
   "cell_type": "markdown",
   "metadata": {
    "deletable": false,
    "editable": false,
    "nbgrader": {
     "cell_type": "markdown",
     "checksum": "f39e09e7ab511296b6cd0dee3a329e8d",
     "grade": false,
     "grade_id": "cell-7a96f25c6c924a8d",
     "locked": true,
     "schema_version": 3,
     "solution": false,
     "task": false
    }
   },
   "source": [
    "# 🏠 Heat Transfer & Cost Optimization – Wall Insulation  \n",
    "\n",
    "You are designing insulation for a rectangular wall.  \n",
    "Adding insulation reduces heat loss (and therefore energy cost), but insulation itself costs money.  \n",
    "The goal is to find the **insulation thickness** that minimizes the **total annual cost**.  \n",
    "\n",
    "---\n",
    "\n",
    "## Problem Setup  \n",
    "\n",
    "Heat loss through a flat wall is:  \n",
    "\n",
    "$Q = \\dfrac{k A (T_{in} - T_{out})}{L}$  \n",
    "\n",
    "where:  \n",
    "- $A =$ wall area (m²)  \n",
    "- $k =$ thermal conductivity of insulation (W/m·K)  \n",
    "- $L =$ insulation thickness (m)  \n",
    "- $T_{in}, T_{out} =$ inside and outside temperatures (°C)  \n",
    "\n",
    "---\n",
    "\n",
    "### Cost Model  \n",
    "\n",
    "- **Energy cost (per year):**  \n",
    "  $C_h = c_{energy} \\cdot Q$  \n",
    "\n",
    "- **Insulation cost:**  \n",
    "  $C_i = c_{ins} \\cdot L$  \n",
    "\n",
    "- **Total cost:**  \n",
    "  $C_{total} = C_h + C_i$  \n",
    "\n",
    "---\n",
    "\n",
    "## Given Values  \n",
    "\n",
    "- $A = 10 \\, \\text{m}^2$  \n",
    "- $k = 0.04 \\, \\text{W/m·K}$ (insulation material)  \n",
    "- $T_{in} = 20 \\,^\\circ C$  \n",
    "- $T_{out} = 0 \\,^\\circ C$  \n",
    "- $c_{energy} = 0.5 \\, \\text{\\$/W·year}$  \n",
    "- $c_{ins} = 200 \\, \\text{\\$/m}$ (per meter of thickness added)  \n"
   ]
  },
  {
   "cell_type": "markdown",
   "metadata": {
    "deletable": false,
    "editable": false,
    "nbgrader": {
     "cell_type": "markdown",
     "checksum": "5e1c10d05c0c333826110b1f1fea9323",
     "grade": false,
     "grade_id": "cell-0c75f3a28466ca8c",
     "locked": true,
     "schema_version": 3,
     "solution": false,
     "task": false
    }
   },
   "source": [
    "## Q1. Optimal insulation thickness  \n",
    "Find the **insulation thickness** that minimizes the **total annual cost**. "
   ]
  },
  {
   "cell_type": "markdown",
   "metadata": {
    "deletable": false,
    "editable": false,
    "nbgrader": {
     "cell_type": "markdown",
     "checksum": "5a23666844b4a9ede85332ec06df38cf",
     "grade": false,
     "grade_id": "cell-daf0820f25420db3",
     "locked": true,
     "schema_version": 3,
     "solution": false,
     "task": false
    }
   },
   "source": [
    "### Task A  \n",
    "- Write a function `total_cost(L)` that returns the total annual cost for a given insulation thickness (m). "
   ]
  },
  {
   "cell_type": "code",
   "execution_count": null,
   "metadata": {
    "deletable": false,
    "nbgrader": {
     "cell_type": "code",
     "checksum": "0a4f317213fab9a457a709875063d0bc",
     "grade": false,
     "grade_id": "cell-f3fe1711c30491d0",
     "locked": false,
     "schema_version": 3,
     "solution": true,
     "task": false
    }
   },
   "outputs": [],
   "source": [
    "# YOUR CODE HERE\n",
    "raise NotImplementedError()"
   ]
  },
  {
   "cell_type": "code",
   "execution_count": null,
   "metadata": {
    "deletable": false,
    "editable": false,
    "nbgrader": {
     "cell_type": "code",
     "checksum": "67d41a3d901cda083392ded60be7e5ec",
     "grade": true,
     "grade_id": "cell-c1929f9bb723c6a6",
     "locked": true,
     "points": 6,
     "schema_version": 3,
     "solution": false,
     "task": false
    }
   },
   "outputs": [],
   "source": [
    "assert abs(total_cost(0.1) - 60.0) < 1e-8"
   ]
  },
  {
   "cell_type": "markdown",
   "metadata": {
    "deletable": false,
    "editable": false,
    "nbgrader": {
     "cell_type": "markdown",
     "checksum": "523174b28d1fb9d9903efac745cbd3e9",
     "grade": false,
     "grade_id": "cell-5c45aecdbc20adec",
     "locked": true,
     "schema_version": 3,
     "solution": false,
     "task": false
    }
   },
   "source": [
    "### Task B\n",
    "\n",
    "- Use a `for` loop to evaluate costs for thicknesses from 0.01 m to 0.50 m in steps of 0.01 m.  \n",
    "- Store your answers in:\n",
    "     - `best_thickness` → thickness with lowest cost\n",
    "     - `best_cost` → corresponding cost\n",
    "\n",
    "HINT: Use `np.arange(start, stop+stepsize, stepsize)` to create the thickness array."
   ]
  },
  {
   "cell_type": "code",
   "execution_count": null,
   "metadata": {
    "deletable": false,
    "nbgrader": {
     "cell_type": "code",
     "checksum": "da2c1867c6131318c43ad9c6c6b40bf7",
     "grade": false,
     "grade_id": "cell-a151e29466a99731",
     "locked": false,
     "schema_version": 3,
     "solution": true,
     "task": false
    }
   },
   "outputs": [],
   "source": [
    "# YOUR CODE HERE\n",
    "raise NotImplementedError()"
   ]
  },
  {
   "cell_type": "code",
   "execution_count": null,
   "metadata": {
    "deletable": false,
    "editable": false,
    "nbgrader": {
     "cell_type": "code",
     "checksum": "67c8dc49bbff5625243dea07f86ed0d9",
     "grade": true,
     "grade_id": "cell-ba13ff9f28e2f200",
     "locked": true,
     "points": 0,
     "schema_version": 3,
     "solution": false,
     "task": false
    }
   },
   "outputs": [],
   "source": [
    "assert best_cost!=0, 'Do not initalize best_cost with 0. Initialize it with a large number ( You can use np.inf)'"
   ]
  },
  {
   "cell_type": "code",
   "execution_count": null,
   "metadata": {
    "deletable": false,
    "editable": false,
    "nbgrader": {
     "cell_type": "code",
     "checksum": "5d9bce9690b64c62cbafff86b6711fef",
     "grade": true,
     "grade_id": "cell-f7df6af2a8e59350",
     "locked": true,
     "points": 6,
     "schema_version": 3,
     "solution": false,
     "task": false
    }
   },
   "outputs": [],
   "source": [
    "assert best_thickness is not None\n",
    "assert abs(best_thickness - 0.14) < 1e-8   # expected optimal thickness\n",
    "assert abs(best_cost - 56.57) < 1e-1"
   ]
  },
  {
   "cell_type": "markdown",
   "metadata": {
    "deletable": false,
    "editable": false,
    "nbgrader": {
     "cell_type": "markdown",
     "checksum": "dc5ae7f25e331e47211121da2ea45cb9",
     "grade": false,
     "grade_id": "cell-8e818159ca9afd73",
     "locked": true,
     "schema_version": 3,
     "solution": false,
     "task": false
    }
   },
   "source": [
    "### Task C\n",
    "\n",
    "Create two vectors:  \n",
    "   - `thicknesses` → values of insulation thickness from 0.01 m to 0.50 m (step 0.01)  \n",
    "   - `costs` → corresponding total costs (using `total_cost(L)`)  \n",
    "\n",
    "2. Use `matplotlib` to plot **cost vs thickness**.  "
   ]
  },
  {
   "cell_type": "code",
   "execution_count": null,
   "metadata": {
    "deletable": false,
    "nbgrader": {
     "cell_type": "code",
     "checksum": "d7b602a4e2e0811d5ee8ba044b809776",
     "grade": false,
     "grade_id": "cell-6da82fac9fd87d76",
     "locked": false,
     "schema_version": 3,
     "solution": true,
     "task": false
    }
   },
   "outputs": [],
   "source": [
    "# YOUR CODE HERE\n",
    "raise NotImplementedError()"
   ]
  },
  {
   "cell_type": "code",
   "execution_count": null,
   "metadata": {
    "deletable": false,
    "editable": false,
    "nbgrader": {
     "cell_type": "code",
     "checksum": "3cd02a15c1a90308f18b1070e01e111c",
     "grade": true,
     "grade_id": "cell-c23ed222cd78c77e",
     "locked": true,
     "points": 2,
     "schema_version": 3,
     "solution": false,
     "task": false
    }
   },
   "outputs": [],
   "source": [
    "# Check lengths\n",
    "assert len(thicknesses) == 50\n",
    "assert len(costs) == 50"
   ]
  },
  {
   "cell_type": "code",
   "execution_count": null,
   "metadata": {
    "deletable": false,
    "editable": false,
    "nbgrader": {
     "cell_type": "code",
     "checksum": "197f7ac954b2823813e3b1d1d2a0c56a",
     "grade": true,
     "grade_id": "cell-4136b6b89466936f",
     "locked": true,
     "points": 2,
     "schema_version": 3,
     "solution": false,
     "task": false
    }
   },
   "outputs": [],
   "source": [
    "# Check first 5 values of thicknesses\n",
    "expected_thicknesses = [0.01, 0.02, 0.03, 0.04, 0.05]\n",
    "for i in range(5):\n",
    "    assert abs(thicknesses[i] - expected_thicknesses[i]) < 1e-3"
   ]
  },
  {
   "cell_type": "code",
   "execution_count": null,
   "metadata": {
    "deletable": false,
    "editable": false,
    "nbgrader": {
     "cell_type": "code",
     "checksum": "64033239282c7f924ebc449422a1fdea",
     "grade": true,
     "grade_id": "cell-db41593082d5bf65",
     "locked": true,
     "points": 2,
     "schema_version": 3,
     "solution": false,
     "task": false
    }
   },
   "outputs": [],
   "source": [
    "# Check first 5 values of costs\n",
    "expected_costs = [402.0, 204.0, 139.33333333333334, 108.0, 90.0]\n",
    "for i in range(5):\n",
    "    assert abs(costs[i] - expected_costs[i]) < 1e-3"
   ]
  },
  {
   "cell_type": "markdown",
   "metadata": {
    "deletable": false,
    "editable": false,
    "nbgrader": {
     "cell_type": "markdown",
     "checksum": "7e519fbeecd1f59ecf89f566d06c736c",
     "grade": false,
     "grade_id": "cell-cd7832e5e398b56f",
     "locked": true,
     "schema_version": 3,
     "solution": false,
     "task": false
    }
   },
   "source": [
    "# 🔄 Solving system of linear equations\n",
    "\n",
    "Solve the following system of linear equation:\n",
    "\n",
    "$$\n",
    "2x + y = 10\n",
    "$$\n",
    "$$\n",
    "4x + 3y = 22\n",
    "$$\n"
   ]
  },
  {
   "cell_type": "markdown",
   "metadata": {
    "deletable": false,
    "editable": false,
    "nbgrader": {
     "cell_type": "markdown",
     "checksum": "082db3f48b70e384fab76ca345b4a4d0",
     "grade": false,
     "grade_id": "cell-6eb743f8834b72ad",
     "locked": true,
     "schema_version": 3,
     "solution": false,
     "task": false
    }
   },
   "source": [
    "\n",
    "\n",
    "### Task A\n",
    "Convert the system of equations to matrix form: $A v = b$, where\n",
    "\n",
    "$\n",
    "v =\n",
    "\\begin{bmatrix}\n",
    "x \\\\\n",
    "y\n",
    "\\end{bmatrix}\n",
    "$"
   ]
  },
  {
   "cell_type": "code",
   "execution_count": null,
   "metadata": {
    "deletable": false,
    "nbgrader": {
     "cell_type": "code",
     "checksum": "a466249daa8955fd84b8d5732b1ca8a5",
     "grade": false,
     "grade_id": "cell-9c4b5e2b1eb672eb",
     "locked": false,
     "schema_version": 3,
     "solution": true,
     "task": false
    }
   },
   "outputs": [],
   "source": [
    "# YOUR CODE HERE\n",
    "raise NotImplementedError()"
   ]
  },
  {
   "cell_type": "code",
   "execution_count": null,
   "metadata": {
    "deletable": false,
    "editable": false,
    "nbgrader": {
     "cell_type": "code",
     "checksum": "ddc3748df881f20a5789c55dd435aef1",
     "grade": true,
     "grade_id": "cell-1cee40bcae3cb20e",
     "locked": true,
     "points": 4,
     "schema_version": 3,
     "solution": false,
     "task": false
    }
   },
   "outputs": [],
   "source": [
    "assert isinstance(A, np.ndarray) and A.shape == (2,2)\n",
    "assert isinstance(b, np.ndarray) and b.shape == (2,)\n",
    "assert np.allclose(A, np.array([[2.,1.],[4.,3.]]))\n",
    "assert np.allclose(b, np.array([10.,22.]))"
   ]
  },
  {
   "cell_type": "markdown",
   "metadata": {
    "deletable": false,
    "editable": false,
    "nbgrader": {
     "cell_type": "markdown",
     "checksum": "1c69527ff018c4e3d76f67d8a8a047e5",
     "grade": false,
     "grade_id": "cell-7c0cbb60e089811c",
     "locked": true,
     "schema_version": 3,
     "solution": false,
     "task": false
    }
   },
   "source": [
    "### Task B\n",
    "Eliminate $x$ from the second equation. Store the updated matrix A and b in `A2`, and `b2`"
   ]
  },
  {
   "cell_type": "code",
   "execution_count": null,
   "metadata": {
    "deletable": false,
    "nbgrader": {
     "cell_type": "code",
     "checksum": "050207fdb05e5e07d28d9ee71a0d4a44",
     "grade": false,
     "grade_id": "cell-4823aa2e656b1bec",
     "locked": false,
     "schema_version": 3,
     "solution": true,
     "task": false
    }
   },
   "outputs": [],
   "source": [
    "A2 = A.copy()\n",
    "b2 = b.copy()\n",
    "\n",
    "# YOUR CODE HERE\n",
    "raise NotImplementedError()"
   ]
  },
  {
   "cell_type": "code",
   "execution_count": null,
   "metadata": {
    "deletable": false,
    "editable": false,
    "nbgrader": {
     "cell_type": "code",
     "checksum": "1af4a2865e6523f902f31c3a2d9ffca4",
     "grade": true,
     "grade_id": "cell-d11da3182d6dc050",
     "locked": true,
     "points": 3,
     "schema_version": 3,
     "solution": false,
     "task": false
    }
   },
   "outputs": [],
   "source": [
    "assert np.allclose(A2, np.array([[2.,1.],[0.,1.]]))\n",
    "assert np.allclose(b2, np.array([10.,2.]))"
   ]
  },
  {
   "cell_type": "markdown",
   "metadata": {
    "deletable": false,
    "editable": false,
    "nbgrader": {
     "cell_type": "markdown",
     "checksum": "81bcae0a8b4132330a971a5f3a8350cc",
     "grade": false,
     "grade_id": "cell-3f52baf578f7749a",
     "locked": true,
     "schema_version": 3,
     "solution": false,
     "task": false
    }
   },
   "source": [
    "### Task C\n",
    "Solve for y."
   ]
  },
  {
   "cell_type": "code",
   "execution_count": null,
   "metadata": {
    "deletable": false,
    "nbgrader": {
     "cell_type": "code",
     "checksum": "329c40565ecbbfcca488004343a88697",
     "grade": false,
     "grade_id": "cell-775bddf3126760f7",
     "locked": false,
     "schema_version": 3,
     "solution": true,
     "task": false
    }
   },
   "outputs": [],
   "source": [
    "# YOUR CODE HERE\n",
    "raise NotImplementedError()"
   ]
  },
  {
   "cell_type": "code",
   "execution_count": null,
   "metadata": {
    "deletable": false,
    "editable": false,
    "nbgrader": {
     "cell_type": "code",
     "checksum": "790df3c2e3ef9dcf4948759ac6292405",
     "grade": true,
     "grade_id": "cell-61d9e343a19581df",
     "locked": true,
     "points": 1,
     "schema_version": 3,
     "solution": false,
     "task": false
    }
   },
   "outputs": [],
   "source": [
    "assert np.isclose(y,2)"
   ]
  },
  {
   "cell_type": "markdown",
   "metadata": {
    "deletable": false,
    "editable": false,
    "nbgrader": {
     "cell_type": "markdown",
     "checksum": "97d500a23699e3f03d213220c1a048f4",
     "grade": false,
     "grade_id": "cell-32ad775547c49caa",
     "locked": true,
     "schema_version": 3,
     "solution": false,
     "task": false
    }
   },
   "source": [
    "### Task D\n",
    "Solve for x."
   ]
  },
  {
   "cell_type": "code",
   "execution_count": null,
   "metadata": {
    "deletable": false,
    "nbgrader": {
     "cell_type": "code",
     "checksum": "1ed2d045fde2066b45317bfbf4e8be0e",
     "grade": false,
     "grade_id": "cell-13421cb959147d57",
     "locked": false,
     "schema_version": 3,
     "solution": true,
     "task": false
    }
   },
   "outputs": [],
   "source": [
    "# YOUR CODE HERE\n",
    "raise NotImplementedError()"
   ]
  },
  {
   "cell_type": "code",
   "execution_count": null,
   "metadata": {
    "deletable": false,
    "editable": false,
    "nbgrader": {
     "cell_type": "code",
     "checksum": "91916f96b811c3ac9d2bbb84ebb4d612",
     "grade": true,
     "grade_id": "cell-dadbc2f53e56f24d",
     "locked": true,
     "points": 2,
     "schema_version": 3,
     "solution": false,
     "task": false
    }
   },
   "outputs": [],
   "source": [
    "assert np.isclose(x,4)"
   ]
  }
 ],
 "metadata": {
  "kernelspec": {
   "display_name": "Python 3 (ipykernel)",
   "language": "python",
   "name": "python3"
  },
  "language_info": {
   "codemirror_mode": {
    "name": "ipython",
    "version": 3
   },
   "file_extension": ".py",
   "mimetype": "text/x-python",
   "name": "python",
   "nbconvert_exporter": "python",
   "pygments_lexer": "ipython3",
   "version": "3.12.7"
  }
 },
 "nbformat": 4,
 "nbformat_minor": 4
}
