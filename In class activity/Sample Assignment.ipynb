{
 "cells": [
  {
   "cell_type": "markdown",
   "metadata": {},
   "source": [
    "# MEEN 357 - Fall 2025\n",
    "### Submission Instructions\n",
    "\n",
    "- **Run All Cells**: Before submitting, go to **Kernel > Restart Kernel & Run All Cells** to ensure your code runs without errors. Submissions with errors will receive a **ZERO** grade.\n",
    "- **Enter Your Name**: Fill in your name in the provided cell.\n",
    "- **Complete the Code**: Replace all instances of `YOUR CODE HERE` with your solution. Remove `raise NotImplementedError()`.\n",
    "- **Maintain Structure**: Do not add or remove any cells.\n",
    "- **Test Your Code**: Run the provided tests to check your answers. Note that additional hidden tests may be used during grading.\n",
    "- **Partial Credit**: Will be awarded only if your code runs error-free.\n",
    "- **Save and Submit**: Ensure you submit the latest, correct version of your assignment by checking the last modified time.\n"
   ]
  },
  {
   "cell_type": "code",
   "execution_count": null,
   "metadata": {},
   "outputs": [],
   "source": [
    "NAME = \"\""
   ]
  },
  {
   "cell_type": "code",
   "execution_count": null,
   "metadata": {},
   "outputs": [],
   "source": [
    "import IPython\n",
    "assert IPython.version_info[0] >= 3.8, \"Your version of IPython is too old, please update it.\""
   ]
  },
  {
   "cell_type": "markdown",
   "metadata": {},
   "source": [
    "---"
   ]
  },
  {
   "cell_type": "markdown",
   "metadata": {
    "deletable": false,
    "editable": false,
    "nbgrader": {
     "cell_type": "markdown",
     "checksum": "88d3223b4f6d3579a8f005dc43b4491a",
     "grade": false,
     "grade_id": "cell-d5c9ac34180c596d",
     "locked": true,
     "schema_version": 3,
     "solution": false,
     "task": false
    }
   },
   "source": [
    "# Sample Assignment"
   ]
  },
  {
   "attachments": {
    "819c2640-6824-41c4-a05f-8bd18e664dc3.png": {
     "image/png": "[encoded data removed]"
    }
   },
   "cell_type": "markdown",
   "metadata": {
    "deletable": false,
    "editable": false,
    "nbgrader": {
     "cell_type": "markdown",
     "checksum": "df389c1b9445f8506c76969cfe02bc0c",
     "grade": false,
     "grade_id": "cell-aca95ea08f8277ea",
     "locked": true,
     "schema_version": 3,
     "solution": false,
     "task": false
    }
   },
   "source": [
    "## Volume Calculator\n",
    "\n",
    "Figure P2.13 shows a cylindrical tank with a conical base.  \n",
    "\n",
    "- If the liquid level is quite low in the conical part, the volume is simply the conical volume of liquid.  \n",
    "- If the liquid level is midrange in the cylindrical part, the total volume of liquid includes the filled conical part and the partially filled cylindrical part.  \n",
    "\n",
    "Write a well-structured function procedure to compute the tank’s volume as a function of given values of **R** (Radius of the tank) and **d**. Use decisional control structures (like `If/Then`, `ElseIf`, `Else`, `End If`).  \n",
    "\n",
    "Design the function so that it returns the volume for all cases where the depth is less than **3R**. Return an error message (“Overtop”) if you overtop the tank, that is, when:\n",
    "\n",
    "$\n",
    "d > 3R\n",
    "$\n",
    "\n",
    "#### Test Data\n",
    "\n",
    "| R | 1 | 1 | 1 | 1 |\n",
    "|---|---|---|---|---|\n",
    "| d | 0.5 | 1.2 | 3.0 | 3.1 |\n",
    "\n",
    "![image.png](attachment:819c2640-6824-41c4-a05f-8bd18e664dc3.png)"
   ]
  },
  {
   "cell_type": "code",
   "execution_count": null,
   "metadata": {
    "deletable": false,
    "nbgrader": {
     "cell_type": "code",
     "checksum": "acfabe99aecc8b7c761195f9c8f2ab84",
     "grade": false,
     "grade_id": "volume",
     "locked": false,
     "schema_version": 3,
     "solution": true,
     "task": false
    }
   },
   "outputs": [],
   "source": [
    "import numpy as np\n",
    "def volume_calculator(R, d):\n",
    "    \"\"\" This function calculates the volume of water in a tank.\n",
    "    \n",
    "    Parameters\n",
    "    R : float\n",
    "        The radius of the cylinder.\n",
    "    d : float\n",
    "        Depth of water.\n",
    "\n",
    "    Returns\n",
    "    V : float\n",
    "        The volume of water in the tank.\n",
    "    \"\"\"\n",
    "    # YOUR CODE HERE\n",
    "    raise NotImplementedError()\n"
   ]
  },
  {
   "cell_type": "code",
   "execution_count": null,
   "metadata": {},
   "outputs": [],
   "source": [
    "# You can call and test your function here\n",
    "R = 0.9\n",
    "d = 1\n",
    "V = volume_calculator(R,d)\n",
    "print(V)"
   ]
  },
  {
   "cell_type": "markdown",
   "metadata": {
    "deletable": false,
    "editable": false,
    "nbgrader": {
     "cell_type": "markdown",
     "checksum": "f9a54b406887a93186b17dfac205a8cf",
     "grade": false,
     "grade_id": "cell-d183f635014d3749",
     "locked": true,
     "schema_version": 3,
     "solution": false,
     "task": false
    }
   },
   "source": [
    "**Test code**\n",
    "\n",
    " Run the cell below. If it ran without any errors, your function is working correctly."
   ]
  },
  {
   "cell_type": "code",
   "execution_count": null,
   "metadata": {
    "deletable": false,
    "editable": false,
    "nbgrader": {
     "cell_type": "code",
     "checksum": "999b57a34eab888cf10a5c969a1cb412",
     "grade": true,
     "grade_id": "volume_test",
     "locked": true,
     "points": 4,
     "schema_version": 3,
     "solution": false,
     "task": false
    }
   },
   "outputs": [],
   "source": [
    "QandA = [[0.9, 1.0, 1.017876019763093] ,\n",
    "[1.5, 1.25, 2.045307717180855] ,\n",
    "[1.3, 3.8, 15.573921981395802] ,\n",
    "[1.3, 3.0, 11.326488713742402]]\n",
    "\n",
    "for entry in QandA:\n",
    "    R, d, V = entry\n",
    "    student_answer = volume_calculator(R, d)\n",
    "    assert np.isclose(student_answer, V) , f'Wrong result for {R=}, {d=}. Expected {V=}, got {student_answer=}'\n",
    "\n",
    "print('All correct. Good work.')"
   ]
  },
  {
   "cell_type": "code",
   "execution_count": null,
   "metadata": {
    "deletable": false,
    "editable": false,
    "nbgrader": {
     "cell_type": "code",
     "checksum": "834471bb7889160e3a535637d0542a16",
     "grade": true,
     "grade_id": "volume_error",
     "locked": true,
     "points": 1,
     "schema_version": 3,
     "solution": false,
     "task": false
    }
   },
   "outputs": [],
   "source": [
    "try:\n",
    "    volume_calculator(1,4)\n",
    "except ValueError:\n",
    "    pass\n",
    "else:\n",
    "    raise AssertionError(\"did not raise ValueError : Overtop\")"
   ]
  },
  {
   "cell_type": "markdown",
   "metadata": {
    "deletable": false,
    "editable": false,
    "nbgrader": {
     "cell_type": "markdown",
     "checksum": "ee28c2b1a92167ac96468f9cd216df68",
     "grade": false,
     "grade_id": "cell-b9f0e62f4d7fcc91",
     "locked": true,
     "schema_version": 3,
     "solution": false,
     "task": false
    }
   },
   "source": [
    "## Grade Calculator\n",
    "Problem 2.15 from textbook (7th edition)\n",
    "\n",
    "Develop a well-structured function procedure that is passed a numeric grade from 0 to 100 and returns a letter grade according to the scheme:\n",
    "\n",
    "| **Letter** | **Criteria** |\n",
    "|------------|--------------|\n",
    "| A | $90 \\leq \\text{numeric grade} \\leq 100$ |\n",
    "| B | $80 \\leq \\text{numeric grade} < 90$ |\n",
    "| C | $70 \\leq \\text{numeric grade} < 80$ |\n",
    "| D | $60 \\leq \\text{numeric grade} < 70$ |\n",
    "| F | $\\text{numeric grade} < 60$ |\n",
    "\n"
   ]
  },
  {
   "cell_type": "code",
   "execution_count": null,
   "metadata": {
    "deletable": false,
    "nbgrader": {
     "cell_type": "code",
     "checksum": "03a6d342074f7939595503f6a8de41ef",
     "grade": false,
     "grade_id": "grade",
     "locked": false,
     "schema_version": 3,
     "solution": true,
     "task": false
    }
   },
   "outputs": [],
   "source": [
    "def lettergrade(score):\n",
    "    \"\"\" This function returns the letter grade for a given score.\n",
    "\n",
    "    Parameters\n",
    "    score : float\n",
    "            The score to be converted.\n",
    "\n",
    "    Returns\n",
    "    grade : String\n",
    "            The calculated letter grade.\n",
    "    \"\"\"\n",
    "    # YOUR CODE HERE\n",
    "    raise NotImplementedError()"
   ]
  },
  {
   "cell_type": "code",
   "execution_count": null,
   "metadata": {},
   "outputs": [],
   "source": [
    "# You can call and test your function here\n",
    "score = 98\n",
    "grade = lettergrade(score)\n",
    "print(f'The grade for a score of {score}/100 is {grade}')\n"
   ]
  },
  {
   "cell_type": "markdown",
   "metadata": {
    "deletable": false,
    "editable": false,
    "nbgrader": {
     "cell_type": "markdown",
     "checksum": "e21e2916a67a7c683a93c41706ac86d2",
     "grade": false,
     "grade_id": "cell-049322b263e36c2b",
     "locked": true,
     "schema_version": 3,
     "solution": false,
     "task": false
    }
   },
   "source": [
    "**Test code**\n",
    "\n",
    " Run the cell below. If it ran without any errors, your function is working correctly."
   ]
  },
  {
   "cell_type": "code",
   "execution_count": null,
   "metadata": {
    "deletable": false,
    "editable": false,
    "nbgrader": {
     "cell_type": "code",
     "checksum": "0751ed40172d0b02678d96932d31eb30",
     "grade": true,
     "grade_id": "grade_test",
     "locked": true,
     "points": 4,
     "schema_version": 3,
     "solution": false,
     "task": false
    }
   },
   "outputs": [],
   "source": [
    "QandA = [[10,'F'],\n",
    "        [61, 'D'],\n",
    "        [72, 'C'],\n",
    "        [83, 'B'],\n",
    "        [94, 'A']]\n",
    "for entry in QandA:\n",
    "    score, grade = entry\n",
    "    student_grade = lettergrade(score)\n",
    "    assert grade==student_grade, f'Did not work for {score=}. Expected {grade=}. Got {student_grade=}'\n",
    "\n",
    "print('All correct. Good work.')"
   ]
  },
  {
   "cell_type": "code",
   "execution_count": null,
   "metadata": {
    "deletable": false,
    "editable": false,
    "nbgrader": {
     "cell_type": "code",
     "checksum": "3eae7200930a3e54ade094abd0e48e13",
     "grade": true,
     "grade_id": "grade_error",
     "locked": true,
     "points": 1,
     "schema_version": 3,
     "solution": false,
     "task": false
    }
   },
   "outputs": [],
   "source": [
    "try:\n",
    "    lettergrade(105)\n",
    "except ValueError:\n",
    "    pass\n",
    "else:\n",
    "    raise AssertionError(\"did not raise ValueError\")"
   ]
  },
  {
   "cell_type": "markdown",
   "metadata": {
    "deletable": false,
    "editable": false,
    "nbgrader": {
     "cell_type": "markdown",
     "checksum": "0534766aff9a39020c3dbd0d726c598a",
     "grade": false,
     "grade_id": "cell-47429314ad79e7ee",
     "locked": true,
     "schema_version": 3,
     "solution": false,
     "task": false
    }
   },
   "source": [
    "## Import and Apply a Custom Function\n",
    "Apply your custom letter grade function to process a dataset of student scores and generate a new file with letter grades.\n",
    "\n",
    "Prerequisites:\n",
    "- Basic understanding of Python.\n",
    "- Familiarity with functions and importing modules.\n",
    "- Knowledge of Pandas library basics.\n",
    "\n",
    "Instructions:\n",
    "\n",
    "1. Function Creation:\n",
    "   - Create a file named `my_tools.py`.\n",
    "   - In this file, implement your `lettergrade` function that converts a numeric score to a letter grade.\n",
    "   - Ensure your function handles scores from 0 to 100 and returns appropriate letter grades (A, B, C, D, F).\n",
    "\n",
    "2. Data Processing Script:\n",
    "   - Write your script in the space below.\n",
    "   - In this script, you will process a CSV file containing student scores.\n",
    "\n",
    "3. Import Necessary Modules:\n",
    "   - Import your `lettergrade` function from `my_tools.py`.\n",
    "   - Import the `pandas` library.\n",
    "\n",
    "4. Read the Data:\n",
    "   - Use pandas to read a CSV file named 'scores.csv'.\n",
    "   - This file contains a column called 'score' for students' numeric scores.\n",
    "\n",
    "5. Apply Your Function:\n",
    "   - Use the `apply` method of pandas to run your `lettergrade` function on the 'score' column.\n",
    "   - Create a new column named 'grade' to store the resulting letter grades.\n",
    "\n",
    "6. Save the Results:\n",
    "   - Save the updated DataFrame to a new CSV file named 'grades.csv'.\n",
    "   - Ensure that you don't include the index in the output file.\n",
    "\n",
    "7. Testing and Verification:\n",
    "   - Run your script and check the output 'grades.csv' file.\n",
    "   - Verify that the letter grades are correctly assigned based on the numeric scores.\n",
    "\n",
    "Submission:\n",
    "- Submit your `my_tools.py` files"
   ]
  },
  {
   "cell_type": "code",
   "execution_count": null,
   "metadata": {
    "deletable": false,
    "nbgrader": {
     "cell_type": "code",
     "checksum": "8a9eeae47988fbe4170b649553e171fd",
     "grade": false,
     "grade_id": "cell-6a4a54d64a23afb8",
     "locked": false,
     "schema_version": 3,
     "solution": true,
     "task": false
    }
   },
   "outputs": [],
   "source": [
    "# YOUR CODE HERE\n",
    "raise NotImplementedError()"
   ]
  },
  {
   "cell_type": "code",
   "execution_count": null,
   "metadata": {
    "deletable": false,
    "editable": false,
    "nbgrader": {
     "cell_type": "code",
     "checksum": "0c5319d4bc6455b97fbb93655208df61",
     "grade": true,
     "grade_id": "cell-f64c0233a3e2ee11",
     "locked": true,
     "points": 5,
     "schema_version": 3,
     "solution": false,
     "task": false
    }
   },
   "outputs": [],
   "source": [
    "assert (data.iloc[range(8)]['grade']==['F','F','F','F','F','F','A','F']).all(), \"Script did not work.\"\n",
    "\n",
    "print('All correct. Good work.')"
   ]
  }
 ],
 "metadata": {
  "kernelspec": {
   "display_name": "Python 3 (ipykernel)",
   "language": "python",
   "name": "python3"
  },
  "language_info": {
   "codemirror_mode": {
    "name": "ipython",
    "version": 3
   },
   "file_extension": ".py",
   "mimetype": "text/x-python",
   "name": "python",
   "nbconvert_exporter": "python",
   "pygments_lexer": "ipython3",
   "version": "3.12.7"
  }
 },
 "nbformat": 4,
 "nbformat_minor": 4
}
