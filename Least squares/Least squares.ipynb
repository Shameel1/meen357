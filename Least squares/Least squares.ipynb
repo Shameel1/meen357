{
 "cells": [
  {
   "cell_type": "markdown",
   "metadata": {},
   "source": [
    "# MEEN 357 - Summer 2025\n",
    "### Submission Instructions\n",
    "\n",
    "- **Run All Cells**: Before submitting, go to **Kernel > Restart Kernel & Run All Cells** to ensure your code runs without errors. Submissions with errors will receive a **ZERO** grade.\n",
    "- **Enter Your Name**: Fill in your name in the provided cell.\n",
    "- **Complete the Code**: Replace all instances of `YOUR CODE HERE` with your solution. Remove `raise NotImplementedError()`.\n",
    "- **Maintain Structure**: Do not add or remove any cells.\n",
    "- **Test Your Code**: Run the provided tests to check your answers. Note that additional hidden tests may be used during grading.\n",
    "- **Partial Credit**: Will be awarded only if your code runs error-free.\n",
    "- **Save and Submit**: Ensure you submit the latest, correct version of your assignment by checking the last modified time.\n"
   ]
  },
  {
   "cell_type": "code",
   "execution_count": null,
   "metadata": {},
   "outputs": [],
   "source": [
    "NAME = \"\""
   ]
  },
  {
   "cell_type": "code",
   "execution_count": null,
   "metadata": {},
   "outputs": [],
   "source": [
    "import IPython\n",
    "assert IPython.version_info[0] >= 3.8, \"Your version of IPython is too old, please update it.\""
   ]
  },
  {
   "cell_type": "markdown",
   "metadata": {},
   "source": [
    "---"
   ]
  },
  {
   "cell_type": "markdown",
   "metadata": {
    "deletable": false,
    "editable": false,
    "nbgrader": {
     "cell_type": "markdown",
     "checksum": "c9bb58907f265a8809f2b6b6f15ae43c",
     "grade": false,
     "grade_id": "cell-b11333355e4eba1d",
     "locked": true,
     "schema_version": 3,
     "solution": false,
     "task": false
    }
   },
   "source": [
    "# Least Squares\n",
    "\n",
    "\n",
    "### Polynomial Regression\n",
    "* [Least Squares polynomial regression](#Least-Squares-polynomial-regression) (12 points)\n",
    "\n",
    "### Compare with built-in methods\n",
    "* [Compare with Numpy's polyfit() function](#True-relative-error-in-the-methods) (Script/8 points)\n"
   ]
  },
  {
   "cell_type": "code",
   "execution_count": null,
   "metadata": {
    "deletable": false,
    "editable": false,
    "nbgrader": {
     "cell_type": "code",
     "checksum": "aa1c8180234e0da575b5612c4ab62985",
     "grade": false,
     "grade_id": "cell-85a17bd73fafb071",
     "locked": true,
     "schema_version": 3,
     "solution": false,
     "task": false
    }
   },
   "outputs": [],
   "source": [
    "import numpy as np\n",
    "import sympy as sp\n",
    "import pandas as pd\n",
    "import matplotlib.pyplot as plt"
   ]
  },
  {
   "cell_type": "markdown",
   "metadata": {
    "deletable": false,
    "editable": false,
    "nbgrader": {
     "cell_type": "markdown",
     "checksum": "680bef70b8ce311f4798d160626b0d92",
     "grade": false,
     "grade_id": "cell-9c63cce311adacc9",
     "locked": true,
     "schema_version": 3,
     "solution": false,
     "task": false
    }
   },
   "source": [
    "## Least Squares polynomial regression\n",
    "\n",
    "Write a function called **LeastSquares(x, y, n)** that takes the following inputs:\n",
    "* **x**, the independent variable, x.\n",
    "* **y**, the dependent variable, y.\n",
    "* **n**, the order of the polynomial equation.\n",
    "\n",
    "And then outputs the following:\n",
    "* **c**, the coefficients of the polynomial fit equation such that\n",
    "\n",
    "$ f(x) = c_nx^n + c_{n-1}x^{n-1} +....c_1x + c_0x $\n"
   ]
  },
  {
   "cell_type": "code",
   "execution_count": null,
   "metadata": {
    "deletable": false,
    "nbgrader": {
     "cell_type": "code",
     "checksum": "a39e65e65f3a21a52d85887ca01b5b71",
     "grade": false,
     "grade_id": "trapezoidalSingle",
     "locked": false,
     "schema_version": 3,
     "solution": true,
     "task": false
    }
   },
   "outputs": [],
   "source": [
    "def LeastSquares(x, y, n):\n",
    "    # YOUR CODE HERE\n",
    "    raise NotImplementedError()"
   ]
  },
  {
   "cell_type": "code",
   "execution_count": null,
   "metadata": {
    "deletable": false,
    "nbgrader": {
     "cell_type": "code",
     "checksum": "53599679cb818b4b8745d026d002f4dc",
     "grade": true,
     "grade_id": "trapezoidalSingle_script",
     "locked": false,
     "points": 0,
     "schema_version": 3,
     "solution": true,
     "task": false
    }
   },
   "outputs": [],
   "source": [
    "# You can call and test your function here\n",
    "data = pd.read_csv('data.csv')\n",
    "data.sort_values('x', inplace=True)\n",
    "data.head()\n",
    "x = np.array(data['x'].values)\n",
    "y = np.array(data['y'].values)\n",
    "# YOUR CODE HERE\n",
    "raise NotImplementedError()"
   ]
  },
  {
   "cell_type": "markdown",
   "metadata": {
    "deletable": false,
    "editable": false,
    "nbgrader": {
     "cell_type": "markdown",
     "checksum": "9e0abed9521fc312133986c08aa9eca9",
     "grade": false,
     "grade_id": "cell-816bd1bc4a497702",
     "locked": true,
     "schema_version": 3,
     "solution": false,
     "task": false
    }
   },
   "source": [
    "### Test code"
   ]
  },
  {
   "cell_type": "code",
   "execution_count": null,
   "metadata": {
    "deletable": false,
    "editable": false,
    "nbgrader": {
     "cell_type": "code",
     "checksum": "78c4aa3f9c52f781a2e2ce94f2b75303",
     "grade": true,
     "grade_id": "trapezoidalSingle_test",
     "locked": true,
     "points": 12,
     "schema_version": 3,
     "solution": false,
     "task": false
    }
   },
   "outputs": [],
   "source": [
    "data = pd.read_csv('data.csv')\n",
    "data.sort_values('x', inplace=True)\n",
    "data.head()\n",
    "x = np.array(data['x'].values)\n",
    "y = np.array(data['y'].values)\n",
    "\n",
    "QandAs = [[0,np.array([72.73505055])],\n",
    "[1,np.array([1.32243102, 7.99102098])],\n",
    "[2,np.array([1.20413998e-02, 1.45453992e-01, 3.56192048e+01])],\n",
    "[3,np.array([6.59975564e-05, 2.37046241e-03, 6.03121892e-01, 2.86471980e+01])],\n",
    "[4,np.array([ 6.14036121e-05, -1.17656377e-02,  8.33648111e-01, -2.45781244e+01,\n",
    "        3.05547622e+02])]]\n",
    "\n",
    "for n, Answer in QandAs: \n",
    "    studentAnswer = LeastSquares(x, y, n)\n",
    "    studentAnswer = studentAnswer.ravel()\n",
    "    assert np.allclose(studentAnswer, Answer), f' Did not work for the inputs {x=}. Expected {Answer=}. Got {studentAnswer=}'\n",
    "print(\"All correct. Good work!\")"
   ]
  },
  {
   "cell_type": "markdown",
   "metadata": {
    "deletable": false,
    "editable": false,
    "nbgrader": {
     "cell_type": "markdown",
     "checksum": "7eca1bd67f80f131dc490073cf74fd37",
     "grade": false,
     "grade_id": "cell-9c63cc11da",
     "locked": true,
     "schema_version": 3,
     "solution": false,
     "task": false
    }
   },
   "source": [
    "## Compare the result with Numpy polyfit function\n",
    "\n",
    "Write a **script** to fit a second-order polynomial (n=2) to the following data\n",
    "\n",
    "| | | | | | | |\n",
    "|---|---|---|---|---|---|---|\n",
    "|$x_i$|0|1|2|3|4|5|\n",
    "|$y_i$|2.1|7.7|13.6|27.2|40.9|61.1|\n",
    "\n",
    "using:\n",
    "\n",
    "* The Least squares polynomial fit function you developed\n",
    "* The Numpy polyfit function\n",
    "\n",
    "Plot the following two subplots on a figure\n",
    "* suplot 1\n",
    "    * The given data points, **x, y**.\n",
    "    * The polynomial equation found using the Least squares polynomial fit function you developed\n",
    "\n",
    "* suplot 2\n",
    "    * The given data points, **x, y**.\n",
    "    * The polynomial equation found using the Numpy polyfit function\n",
    "\n",
    "Save the figure as *\"polynomialFit.png\"*"
   ]
  },
  {
   "cell_type": "code",
   "execution_count": null,
   "metadata": {
    "deletable": false,
    "nbgrader": {
     "cell_type": "code",
     "checksum": "bd1cf144f4e58a1cb22ee26b688b00e1",
     "grade": true,
     "grade_id": "trueCompare",
     "locked": false,
     "points": 8,
     "schema_version": 3,
     "solution": true,
     "task": false
    }
   },
   "outputs": [],
   "source": [
    "# Write your script here.\n",
    "# YOUR CODE HERE\n",
    "raise NotImplementedError()"
   ]
  },
  {
   "cell_type": "markdown",
   "metadata": {
    "deletable": false,
    "editable": false,
    "nbgrader": {
     "cell_type": "markdown",
     "checksum": "3a8e17f8f478b38f12e053ffc6dac122",
     "grade": false,
     "grade_id": "cell-d19e3243a1824874",
     "locked": true,
     "schema_version": 3,
     "solution": false,
     "task": false
    }
   },
   "source": [
    "## Estimate the spring stiffness from data\n",
    "The data set called **spring_data.csv** contains the load and deflection information of 2 springs. Use linear regression to find the spring stiffnesses. \n",
    "\n",
    "Plot the linear models and the data together."
   ]
  },
  {
   "cell_type": "code",
   "execution_count": null,
   "metadata": {
    "deletable": false,
    "nbgrader": {
     "cell_type": "code",
     "checksum": "32d544daf190a70866ee4359598b7a8e",
     "grade": true,
     "grade_id": "spring_data_k",
     "locked": false,
     "points": 5,
     "schema_version": 3,
     "solution": true,
     "task": false
    }
   },
   "outputs": [],
   "source": [
    "# YOUR CODE HERE\n",
    "raise NotImplementedError()"
   ]
  }
 ],
 "metadata": {
  "kernelspec": {
   "display_name": "Python 3 (ipykernel)",
   "language": "python",
   "name": "python3"
  },
  "language_info": {
   "codemirror_mode": {
    "name": "ipython",
    "version": 3
   },
   "file_extension": ".py",
   "mimetype": "text/x-python",
   "name": "python",
   "nbconvert_exporter": "python",
   "pygments_lexer": "ipython3",
   "version": "3.12.5"
  }
 },
 "nbformat": 4,
 "nbformat_minor": 4
}
