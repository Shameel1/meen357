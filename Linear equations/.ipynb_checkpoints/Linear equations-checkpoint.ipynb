{
 "cells": [
  {
   "cell_type": "markdown",
   "metadata": {},
   "source": [
    "# MEEN 357 - Summer 2025\n",
    "### Submission Instructions\n",
    "\n",
    "- **Run All Cells**: Before submitting, go to **Kernel > Restart Kernel & Run All Cells** to ensure your code runs without errors. Submissions with errors will receive a **ZERO** grade.\n",
    "- **Enter Your Name**: Fill in your name in the provided cell.\n",
    "- **Complete the Code**: Replace all instances of `YOUR CODE HERE` with your solution. Remove `raise NotImplementedError()`.\n",
    "- **Maintain Structure**: Do not add or remove any cells.\n",
    "- **Test Your Code**: Run the provided tests to check your answers. Note that additional hidden tests may be used during grading.\n",
    "- **Partial Credit**: Will be awarded only if your code runs error-free.\n",
    "- **Save and Submit**: Ensure you submit the latest, correct version of your assignment by checking the last modified time.\n"
   ]
  },
  {
   "cell_type": "code",
   "execution_count": null,
   "metadata": {},
   "outputs": [],
   "source": [
    "NAME = \"\""
   ]
  },
  {
   "cell_type": "code",
   "execution_count": null,
   "metadata": {},
   "outputs": [],
   "source": [
    "import IPython\n",
    "assert IPython.version_info[0] >= 3.8, \"Your version of IPython is too old, please update it.\""
   ]
  },
  {
   "cell_type": "markdown",
   "metadata": {},
   "source": [
    "---"
   ]
  },
  {
   "cell_type": "markdown",
   "metadata": {
    "deletable": false,
    "editable": false,
    "nbgrader": {
     "cell_type": "markdown",
     "checksum": "6f1b1cc673c22cda360cbbf47fd8b18f",
     "grade": false,
     "grade_id": "cell-b11333355e4eba1d",
     "locked": true,
     "schema_version": 3,
     "solution": false,
     "task": false
    }
   },
   "source": [
    "# Linear equations\n",
    "\n",
    "### Eigenvalues (6 points)\n",
    "* [Power iteration](#LU-decomposition-(12-points))\n",
    "\n",
    "### Gauss Elimination (10 points)\n",
    "* [Forward Elimination](#Forward-Elimination-(5-points))\n",
    "* [Backward Substitution](#Backward-Substitution-(5-points))\n",
    "* [Naive Gauss Elimination](#Naive-Gauss-Elimination-(6-points))\n",
    "\n",
    "### Gauss-Seidel (+2 points bonus)\n",
    "* [Gauss-Seidel](#Gauss-Seidel-(12-points))\n",
    "\n",
    "Scripts and data (4 points)"
   ]
  },
  {
   "cell_type": "code",
   "execution_count": null,
   "metadata": {
    "deletable": false,
    "editable": false,
    "nbgrader": {
     "cell_type": "code",
     "checksum": "f67e7578b67186ca1163e1564527bed0",
     "grade": false,
     "grade_id": "cell-190f33c36e3e28a9",
     "locked": true,
     "schema_version": 3,
     "solution": false,
     "task": false
    }
   },
   "outputs": [],
   "source": [
    "import numpy as np\n",
    "import pandas as pd"
   ]
  },
  {
   "cell_type": "markdown",
   "metadata": {
    "deletable": false,
    "editable": false,
    "nbgrader": {
     "cell_type": "markdown",
     "checksum": "1287c63a7e5f0a52fdfa9a947905bfac",
     "grade": false,
     "grade_id": "cell-e88af25ae9583399",
     "locked": true,
     "schema_version": 3,
     "solution": false,
     "task": false
    }
   },
   "source": [
    "## Eigenvalues using Power iteration\n",
    "\n",
    "Write a function called **powerIteration** that takes 4 inputs\n",
    "* **A**, the matrix\n",
    "* **initialGuess**, an initial guess of the eigenvector given as a numpy array\n",
    "* **maxIteration**, the maximum number of iterations\n",
    "* **eTolerance**, the error tolerance\n",
    "\n",
    "and returns a pandas dataFrame called **result** which contains the following columns\n",
    "* **eigenvalue** , the highest eigenvalue computed at every iteration\n",
    "* **error**, the relative error in each iteration\n",
    "\n",
    "Use the maximum value as the eigenvalue (instead of the Euclidean norm). The code must iterate until the relative error falls below **eTolerance** or if the iteration exceeds the **maxIteration**"
   ]
  },
  {
   "cell_type": "code",
   "execution_count": null,
   "metadata": {
    "deletable": false,
    "nbgrader": {
     "cell_type": "code",
     "checksum": "b9a7cb89145b417d3c04022281cdb17d",
     "grade": false,
     "grade_id": "powerMethod",
     "locked": false,
     "schema_version": 3,
     "solution": true,
     "task": false
    }
   },
   "outputs": [],
   "source": [
    "def powerIteration(A, initialGuess, maxIteration, eTolerance):\n",
    "    \"\"\"\n",
    "    Performs the Power Iteration method to compute the dominant eigenvalue of a matrix.\n",
    "    \n",
    "    Parameters:\n",
    "    ----------\n",
    "    A : numpy array (n x n)\n",
    "        A square matrix whose dominant eigenvalue is to be computed.\n",
    "        \n",
    "    initialGuess : numpy array (n,)\n",
    "        An initial guess vector to start the iteration process.\n",
    "        \n",
    "    maxIteration : int\n",
    "        The maximum number of iterations to perform.\n",
    "        \n",
    "    eTolerance : float\n",
    "        The error tolerance for convergence. If the relative error between consecutive\n",
    "        estimates of the eigenvalue is less than this value, the iteration stops.\n",
    "\n",
    "    Returns:\n",
    "    --------\n",
    "    result : pandas DataFrame\n",
    "        A DataFrame containing two columns:\n",
    "        - 'eigenvalue': The estimated dominant eigenvalue at each iteration.\n",
    "        - 'error': The relative error (%) between consecutive eigenvalue estimates.\n",
    "    \"\"\"\n",
    "    # YOUR CODE HERE\n",
    "    raise NotImplementedError()"
   ]
  },
  {
   "cell_type": "code",
   "execution_count": null,
   "metadata": {
    "deletable": false,
    "nbgrader": {
     "cell_type": "code",
     "checksum": "0130c0774a212f3a11e0d97929042973",
     "grade": true,
     "grade_id": "power_script",
     "locked": false,
     "points": 0,
     "schema_version": 3,
     "solution": true,
     "task": false
    }
   },
   "outputs": [],
   "source": [
    "# Test your code here\n",
    "A  = np.array([[3, -0.1, -0.2], [0.1, 7, -0.3], [0.3, -0.2, 10]])\n",
    "initialGuess = np.array([8,9,10])\n",
    "maxIteration  = 10\n",
    "eTolerance = 0.5\n",
    "\n",
    "# YOUR CODE HERE\n",
    "raise NotImplementedError()"
   ]
  },
  {
   "cell_type": "markdown",
   "metadata": {
    "deletable": false,
    "editable": false,
    "nbgrader": {
     "cell_type": "markdown",
     "checksum": "b278b6d1c65120d4bff07410485bd01c",
     "grade": false,
     "grade_id": "cell-8b1ba702",
     "locked": true,
     "schema_version": 3,
     "solution": false,
     "task": false
    }
   },
   "source": [
    "### Tests"
   ]
  },
  {
   "cell_type": "code",
   "execution_count": null,
   "metadata": {
    "deletable": false,
    "editable": false,
    "nbgrader": {
     "cell_type": "code",
     "checksum": "29b3c5808a63992b901556bd4079a5aa",
     "grade": true,
     "grade_id": "power_test",
     "locked": true,
     "points": 6,
     "schema_version": 3,
     "solution": false,
     "task": false
    }
   },
   "outputs": [],
   "source": [
    "maxIteration = 10\n",
    "eTolerance = 0.5\n",
    "QandAs = [[np.array([[10.8 , -0.36, -0.72], [ 0.36, 25.2 , -1.08], [ 1.08, -0.72, 36.  ]]), np.array([2.60135605, 3.62832417, 3.64368058]), 35.70941361675608],\n",
    "[np.array([[23.1 , -0.77, -1.54], [ 0.77, 53.9 , -2.31], [ 2.31, -1.54, 77.  ]]), np.array([6.70135605, 7.72832417, 7.74368058]), 76.40947936544293],\n",
    "[np.array([[19.5 , -0.65, -1.3 ],[ 0.65, 45.5 , -1.95],[ 1.95, -1.3 , 65.  ]]), np.array([5.50135605, 6.52832417, 6.54368058]), 64.49726292707743]]\n",
    "\n",
    "for A, initialGuess, Answer in QandAs: \n",
    "    studentAnswer = powerIteration(A.copy(), initialGuess, maxIteration, eTolerance ).iloc[-1]['eigenvalue']\n",
    "    assert np.allclose(studentAnswer, Answer), f' Did not work for the inputs {A=}, and {initialGuess=}. Expected {Answer=}. Got {studentAnswer=}'\n",
    "\n",
    "print(\"All correct. Good work.\")"
   ]
  },
  {
   "cell_type": "markdown",
   "metadata": {
    "deletable": false,
    "editable": false,
    "nbgrader": {
     "cell_type": "markdown",
     "checksum": "2c61f328b7d41ed1115aeca08dcab72b",
     "grade": false,
     "grade_id": "cell-9c63cce311adacc9",
     "locked": true,
     "schema_version": 3,
     "solution": false,
     "task": false
    }
   },
   "source": [
    "## Forward Elimination\n",
    "\n",
    "Write a function called **forwardElimination(A,b)** that takes the following inputs:\n",
    "* **A**, the coefficent matrix.\n",
    "$ A = \\left[\\matrix{a_{11}& a_{12}& a_{13} \\\\\n",
    "         a_{21}& a_{22}& a_{23} \\\\\n",
    "         a_{31}& a_{32}& a_{33}} \\right]$\n",
    "* **b**, the right hand side vector.\n",
    " $ b = \\left[\\matrix{b_{1}\\\\ b_{2}\\\\ b_{3}} \\right] $\n",
    "\n",
    "And then outputs the following:\n",
    "* **A**, the  upper triangle found after the forward elimination method. \n",
    "* **b**, the right hand side vector after the forward elimination method.\n",
    "\n",
    "` A, b = forwardElimination(A, b)`\n",
    "must return\n",
    "    \n",
    "$ A = \\left[\\matrix{a_{11}& a_{12}& a_{13} \\\\\n",
    "         0& a'_{22}& a'_{23} \\\\\n",
    "         0& 0& a''_{33}} \\right]$\n",
    "\n",
    "and\n",
    "\n",
    "$ b = \\left[\\matrix{b_{1} \\\\ b'_{2} \\\\ b''_{3}} \\right]$\n",
    "\n",
    "Note: A 3-equation problem is shown here as an example. Your function should work for any system of N-equations. "
   ]
  },
  {
   "cell_type": "code",
   "execution_count": null,
   "metadata": {
    "deletable": false,
    "nbgrader": {
     "cell_type": "code",
     "checksum": "afa711b84d35e9c84cdf0f9c253c31e5",
     "grade": false,
     "grade_id": "forwardElimination",
     "locked": false,
     "schema_version": 3,
     "solution": true,
     "task": false
    }
   },
   "outputs": [],
   "source": [
    "def forwardElimination(A,b):\n",
    "    \"\"\"\n",
    "    Performs forward elimination to transform the system of linear equations (Ax = b) into an upper triangular form.\n",
    "    \n",
    "    Parameters:\n",
    "    ----------\n",
    "    A : numpy array (n x n)\n",
    "        The coefficient matrix of the system of equations.\n",
    "        \n",
    "    b : numpy array (n,)\n",
    "        The right-hand side vector of the system of equations.\n",
    "        \n",
    "    Returns:\n",
    "    --------\n",
    "    A : numpy array (n x n)\n",
    "        The transformed upper triangular matrix after forward elimination.\n",
    "        \n",
    "    b : numpy array (n,)\n",
    "        The transformed right-hand side vector after forward elimination.\n",
    "    \"\"\"\n",
    "    # YOUR CODE HERE\n",
    "    raise NotImplementedError()"
   ]
  },
  {
   "cell_type": "code",
   "execution_count": null,
   "metadata": {
    "deletable": false,
    "nbgrader": {
     "cell_type": "code",
     "checksum": "4bbf17e9afdaffd47ef5069eb1d270b5",
     "grade": true,
     "grade_id": "cell-4159566626e49de1",
     "locked": false,
     "points": 0,
     "schema_version": 3,
     "solution": true,
     "task": false
    }
   },
   "outputs": [],
   "source": [
    "# Test your code here\n",
    "A  = np.array([[3, -0.1, -0.2], [0.1, 7, -0.3], [0.3, -0.2, 10]])\n",
    "b = np.array([7.85, -19.3, 71.4])\n",
    "# YOUR CODE HERE\n",
    "raise NotImplementedError()"
   ]
  },
  {
   "cell_type": "markdown",
   "metadata": {
    "deletable": false,
    "editable": false,
    "nbgrader": {
     "cell_type": "markdown",
     "checksum": "9e0abed9521fc312133986c08aa9eca9",
     "grade": false,
     "grade_id": "cell-816bd1bc4a497702",
     "locked": true,
     "schema_version": 3,
     "solution": false,
     "task": false
    }
   },
   "source": [
    "### Test code"
   ]
  },
  {
   "cell_type": "code",
   "execution_count": null,
   "metadata": {
    "deletable": false,
    "editable": false,
    "nbgrader": {
     "cell_type": "code",
     "checksum": "1866ba19c9d0a74e3edfa5ed84e5be95",
     "grade": true,
     "grade_id": "forwardElimination_test",
     "locked": true,
     "points": 5,
     "schema_version": 3,
     "solution": false,
     "task": false
    }
   },
   "outputs": [],
   "source": [
    "A  = np.array([[3, -0.1, -0.2], [0.1, 7, -0.3], [0.3, -0.2, 10]])\n",
    "QandAs = [[np.array([17.35, -9.8 , 80.9 ]), np.array([ 17.35      , -10.37833333,  78.88343646])],\n",
    "            [np.array([ 12.75, -14.4 ,  76.3 ]), np.array([ 12.75      , -14.825     ,  74.62279867])],\n",
    "            [np.array([ 10.35, -16.8 ,  73.9 ]), np.array([ 10.35      , -17.145     ,  72.39985721])],\n",
    "            [np.array([ 15.85, -11.3 ,  79.4 ]), np.array([ 15.85      , -11.82833333,  77.49409805])],\n",
    "            [np.array([ 12.05, -15.1 ,  75.6 ]), np.array([ 12.05      , -15.50166667,  73.97444074])]]\n",
    "for b, Answer in QandAs: \n",
    "    studentAnswer = forwardElimination(A.copy(),b)[1]\n",
    "    assert np.allclose(studentAnswer, Answer), f' Did not work for the inputs {b=}. Expected {Answer=}. Got {studentAnswer=}'\n",
    "\n",
    "print(\"All correct. Good work.\")"
   ]
  },
  {
   "cell_type": "markdown",
   "metadata": {
    "deletable": false,
    "editable": false,
    "nbgrader": {
     "cell_type": "markdown",
     "checksum": "791ff38fa3a3ca6ba9ece1cdf5b9b27d",
     "grade": false,
     "grade_id": "cell-9c63cc311dac",
     "locked": true,
     "schema_version": 3,
     "solution": false,
     "task": false
    }
   },
   "source": [
    "## Backward Substitution (5 points)\n",
    "Write a function called **backwardSubstitution(A, b)** that takes the following input:\n",
    "* **A**, the  upper triangle found after the forward elimination method. \n",
    "$ A = \\left[\\matrix{a_{11}& a_{12}& a_{13} \\\\\n",
    "         0& a'_{22}& a'_{23} \\\\\n",
    "         0& 0& a''_{33}} \\right]$\n",
    "* **b**, the right hand side vector after the forward elimination method.\n",
    "$ b = \\left[\\matrix{b_{1} \\\\ b'_{2} \\\\ b''_{3}} \\right]$\n",
    "\n",
    "and then outputs:\n",
    "* **x**, the solution vector found using backward substitution.\n",
    "\n",
    "The steps for backward substitution for a 3 equations problem are shown below as an example\n",
    "\n",
    "$ x_3 = \\frac{b_3}{a_{33}}$\n",
    "\n",
    "$ x_2 = \\frac{b_2 - a_{23}x_3}{a_{22}}$\n",
    "\n",
    "$ x_1 = \\frac{b_1 - a_{12}x_2 - a_{13}x_3}{a_{11}}$\n",
    "\n",
    "\n",
    "Note: A 3-equation problem is shown here as an example. Your function should work for any system of N-equations. \n"
   ]
  },
  {
   "cell_type": "code",
   "execution_count": null,
   "metadata": {
    "deletable": false,
    "nbgrader": {
     "cell_type": "code",
     "checksum": "d7ab883943bb5751b0b1b5cd84e2fe60",
     "grade": false,
     "grade_id": "backwardSubstitution",
     "locked": false,
     "schema_version": 3,
     "solution": true,
     "task": false
    }
   },
   "outputs": [],
   "source": [
    "def backwardSubstitution(A,b):\n",
    "    \"\"\"\n",
    "    Performs back substitution to solve for x in the system of linear equations (Ax = b),\n",
    "    where A is an upper triangular matrix.\n",
    "    \n",
    "    Parameters:\n",
    "    ----------\n",
    "    A : numpy array (n x n)\n",
    "        The upper triangular coefficient matrix obtained from forward elimination.\n",
    "        \n",
    "    b : numpy array (n,)\n",
    "        The right-hand side vector obtained after forward elimination.\n",
    "        \n",
    "    Returns:\n",
    "    --------\n",
    "    x : numpy array (n,)\n",
    "        The solution vector x of the system of equations.\n",
    "    \"\"\"\n",
    "    # YOUR CODE HERE\n",
    "    raise NotImplementedError()"
   ]
  },
  {
   "cell_type": "code",
   "execution_count": null,
   "metadata": {
    "deletable": false,
    "nbgrader": {
     "cell_type": "code",
     "checksum": "243180b628ea7f38a8fe75f9e9ebd4a1",
     "grade": true,
     "grade_id": "cell-f05905581cdbc1d6",
     "locked": false,
     "points": 0,
     "schema_version": 3,
     "solution": true,
     "task": false
    }
   },
   "outputs": [],
   "source": [
    "# Test your code here\n",
    "A  = np.array([[3, -0.1, -0.2], [0, 7, -0.3], [0, 0, 10]])\n",
    "b = np.array([  7.85      , -19.56166667,  70.08429319])\n",
    "# YOUR CODE HERE\n",
    "raise NotImplementedError()"
   ]
  },
  {
   "cell_type": "markdown",
   "metadata": {
    "deletable": false,
    "editable": false,
    "nbgrader": {
     "cell_type": "markdown",
     "checksum": "81e63202188f4650811216f62e537a12",
     "grade": false,
     "grade_id": "cell-816b1b4a7702",
     "locked": true,
     "schema_version": 3,
     "solution": false,
     "task": false
    }
   },
   "source": [
    "### Test code"
   ]
  },
  {
   "cell_type": "code",
   "execution_count": null,
   "metadata": {
    "deletable": false,
    "editable": false,
    "nbgrader": {
     "cell_type": "code",
     "checksum": "2a1a8b3877027beb905090c37ab3c28b",
     "grade": true,
     "grade_id": "backwardSubstitution_test",
     "locked": true,
     "points": 5,
     "schema_version": 3,
     "solution": false,
     "task": false
    }
   },
   "outputs": [],
   "source": [
    "A  = np.array([[3, -0.1, -0.2], [0, 7, -0.3], [0, 0, 10]])\n",
    "QandAs = [[np.array([ 14.915, -36.67 , 135.66 ]), np.array([ 5.72082762, -4.65717143, 13.566     ])],\n",
    "        [ np.array([  6.28, -15.44,  57.12]), np.array([ 2.40876952, -1.96091429,  5.712     ])],\n",
    "        [ np.array([  55.735, -137.03 ,  506.94 ]), np.array([ 21.37782952, -17.40311429,  50.694     ])],\n",
    "        [ np.array([ 16.485, -40.53 , 149.94 ]), np.array([ 6.32302, -5.1474 , 14.994  ])],\n",
    "        [ np.array([  43.175, -106.15 ,  392.7  ]), np.array([ 16.56029048, -13.48128571,  39.27      ])]]\n",
    "for b, Answer in QandAs: \n",
    "    studentAnswer = backwardSubstitution(A.copy(),b)\n",
    "    assert np.allclose(studentAnswer, Answer), f' Did not work for the inputs {b=}. Expected {Answer=}. Got {studentAnswer=}'\n",
    "print(\"All correct. Good work\")"
   ]
  },
  {
   "cell_type": "markdown",
   "metadata": {
    "deletable": false,
    "editable": false,
    "nbgrader": {
     "cell_type": "markdown",
     "checksum": "d9dae2b0367ed4f157302a7ad4f85141",
     "grade": false,
     "grade_id": "cell-9c63c311adac",
     "locked": true,
     "schema_version": 3,
     "solution": false,
     "task": false
    }
   },
   "source": [
    "\n",
    "## Naive Gauss Elimination\n",
    "\n",
    "Write a function called **naiveGauss** that takes 2 inputs\n",
    "* **A**, the coefficient matrix\n",
    "* **b**, the right hand side vector\n",
    "\n",
    "and returns \n",
    "* **x** , the solution vector computed using the Naive Gauss elimination method.\n"
   ]
  },
  {
   "cell_type": "markdown",
   "metadata": {
    "deletable": false,
    "editable": false,
    "nbgrader": {
     "cell_type": "markdown",
     "checksum": "6fefa24b7ffc9664f740c76f1556d21e",
     "grade": false,
     "grade_id": "cell-23d6e27c5e46",
     "locked": true,
     "schema_version": 3,
     "solution": false,
     "task": false
    }
   },
   "source": [
    "### Function"
   ]
  },
  {
   "cell_type": "code",
   "execution_count": null,
   "metadata": {
    "deletable": false,
    "nbgrader": {
     "cell_type": "code",
     "checksum": "28051464d287b80e3c2d5717412b0b70",
     "grade": false,
     "grade_id": "naiveGauss",
     "locked": false,
     "schema_version": 3,
     "solution": true,
     "task": false
    }
   },
   "outputs": [],
   "source": [
    "def naiveGauss(A,b):\n",
    "    \"\"\"\n",
    "    Solves the system of linear equations Ax = b using Gaussian Elimination.\n",
    "    The function first performs forward elimination to convert the system into\n",
    "    an upper triangular form, then applies backward substitution to find the solution vector x.\n",
    "    \n",
    "    Parameters:\n",
    "    ----------\n",
    "    A : numpy array (n x n)\n",
    "        The coefficient matrix of the system of equations.\n",
    "        \n",
    "    b : numpy array (n,)\n",
    "        The right-hand side vector of the system of equations.\n",
    "        \n",
    "    Returns:\n",
    "    --------\n",
    "    x : numpy array (n,)\n",
    "        The solution vector x of the system of equations.\n",
    "\n",
    "    \"\"\"\n",
    "    # YOUR CODE HERE\n",
    "    raise NotImplementedError()"
   ]
  },
  {
   "cell_type": "code",
   "execution_count": null,
   "metadata": {
    "deletable": false,
    "nbgrader": {
     "cell_type": "code",
     "checksum": "4ad59744caa0b1b5457eae36e24b82f3",
     "grade": true,
     "grade_id": "naiveGauss_script",
     "locked": false,
     "points": 0,
     "schema_version": 3,
     "solution": true,
     "task": false
    }
   },
   "outputs": [],
   "source": [
    "# Test your code here\n",
    "A = np.array([[ 3. , -0.1, -0.2],\n",
    "       [ 0.1,  7. , -0.3],\n",
    "       [ 0.3, -0.2, 10. ]])\n",
    "b = np.array([  54.95, -135.1 ,  499.8 ])\n",
    "# YOUR CODE HERE\n",
    "raise NotImplementedError()"
   ]
  },
  {
   "cell_type": "markdown",
   "metadata": {
    "deletable": false,
    "editable": false,
    "nbgrader": {
     "cell_type": "markdown",
     "checksum": "10eea5c36d831628475e0edc00b4fa7c",
     "grade": false,
     "grade_id": "cell-816d1b4a7702",
     "locked": true,
     "schema_version": 3,
     "solution": false,
     "task": false
    }
   },
   "source": [
    "### Tests"
   ]
  },
  {
   "cell_type": "code",
   "execution_count": null,
   "metadata": {
    "deletable": false,
    "editable": false,
    "nbgrader": {
     "cell_type": "code",
     "checksum": "38e57335137224e92d32a91190bf6f92",
     "grade": true,
     "grade_id": "naiveGauss_test",
     "locked": true,
     "points": 0,
     "schema_version": 3,
     "solution": false,
     "task": false
    }
   },
   "outputs": [],
   "source": [
    "A = np.array([[ 3. , -0.1, -0.2],\n",
    "       [ 0.1,  7. , -0.3],\n",
    "       [ 0.3, -0.2, 10. ]])\n",
    "QandAs = [ [ np.array([  54.95, -135.1 ,  499.8 ]), np.array([ 21. , -17.5,  49. ])],\n",
    "          [ np.array([ 25.12, -61.76, 228.48]), np.array([ 9.6, -8. , 22.4])],\n",
    "          [ np.array([  49.455, -121.59 ,  449.82 ]), np.array([ 18.9 , -15.75,  44.1 ])],\n",
    "          [ np.array([  76.145, -187.21 ,  692.58 ]), np.array([ 29.1 , -24.25,  67.9 ])],\n",
    "          [ np.array([  65.155, -160.19 ,  592.62 ]), np.array([ 24.9 , -20.75,  58.1 ])]]\n",
    "for b, Answer in QandAs: \n",
    "    studentAnswer = naiveGauss(A.copy(),b)\n",
    "    assert np.allclose(studentAnswer, Answer), f' Did not work for the inputs {b=}. Expected {Answer=}. Got {studentAnswer=}'\n",
    "print(\"All correct. Good work\")"
   ]
  },
  {
   "cell_type": "markdown",
   "metadata": {
    "deletable": false,
    "editable": false,
    "nbgrader": {
     "cell_type": "markdown",
     "checksum": "3a7b7e06a5bbdd34eea7773b81ad3fde",
     "grade": false,
     "grade_id": "cell-aeaf6b17386",
     "locked": true,
     "schema_version": 3,
     "solution": false,
     "task": false
    }
   },
   "source": [
    "### Relative Error\n",
    "You will need the relative error function for the Gauss Siedel problem. So write a function called relativeError that takes the following inputs:\n",
    "* **x_new**, The new value found\n",
    "* **x_old**, the old value\n",
    "\n",
    "And returns the following output:\n",
    "* **error**, the absolute relative error in percentage\n",
    "\n",
    "The formula for the absolute relative error in percentage is\n",
    "\n",
    "$ error_{relative} = \\left|\\frac{x_{new}-x_{old}}{x_{new}}\\right|100\\% $"
   ]
  },
  {
   "cell_type": "code",
   "execution_count": null,
   "metadata": {
    "deletable": false,
    "nbgrader": {
     "cell_type": "code",
     "checksum": "497350fdcb8a768d42400a3985cc859f",
     "grade": true,
     "grade_id": "relativeError",
     "locked": false,
     "points": 0,
     "schema_version": 3,
     "solution": true,
     "task": false
    }
   },
   "outputs": [],
   "source": [
    "def relativeError(x_new,x_old):\n",
    "    \"\"\"\n",
    "    Computes the relative error between the current approximation and the previous value.\n",
    "    \n",
    "    Parameters:\n",
    "    ----------\n",
    "    x_new : float or numpy array\n",
    "        The current or approximate value(s) obtained from a numerical method or iteration.\n",
    "        \n",
    "    x_old : float or numpy array\n",
    "        The previous value(s) or the exact value(s) used for comparison.\n",
    "        \n",
    "    Returns:\n",
    "    --------\n",
    "    error : float or numpy array\n",
    "        The relative error, expressed as a percentage, between the current and previous values.\n",
    "    \"\"\"\n",
    "    \n",
    "    # YOUR CODE HERE\n",
    "    raise NotImplementedError()"
   ]
  },
  {
   "cell_type": "code",
   "execution_count": null,
   "metadata": {
    "deletable": false,
    "nbgrader": {
     "cell_type": "code",
     "checksum": "1e31ea9ce95a6270b5cf3837e0e7f532",
     "grade": true,
     "grade_id": "relativeError_script",
     "locked": false,
     "points": 0,
     "schema_version": 3,
     "solution": true,
     "task": false
    }
   },
   "outputs": [],
   "source": [
    "er = relativeError(10,20)\n",
    "print(er)\n",
    "# YOUR CODE HERE\n",
    "raise NotImplementedError()"
   ]
  },
  {
   "cell_type": "markdown",
   "metadata": {
    "deletable": false,
    "editable": false,
    "nbgrader": {
     "cell_type": "markdown",
     "checksum": "f430722d0e9dbbe9d4cf832589a11ff3",
     "grade": false,
     "grade_id": "cell-9c63cc11dac",
     "locked": true,
     "schema_version": 3,
     "solution": false,
     "task": false
    }
   },
   "source": [
    "## Gauss-Seidel _BONUS\n",
    "Write a function called **GaussSeidel** that takes the following inputs:\n",
    "* **A**, the coefficient matrix\n",
    "* **b**, the right hand side vector\n",
    "* **eTolerance**, the error tolerance\n",
    "* **maxIteration**, the maximum number of iterations\n",
    "\n",
    "and returns the ouput:\n",
    "* **x**, the solution vector found using the Gauss Seidel method\n",
    "\n",
    "The code should iterate until either the error criteria is met or the maximum number of iterations are reached."
   ]
  },
  {
   "cell_type": "code",
   "execution_count": null,
   "metadata": {
    "deletable": false,
    "nbgrader": {
     "cell_type": "code",
     "checksum": "8bb4ced776df29fe0c65afd8b9c4a14b",
     "grade": false,
     "grade_id": "gaussSeidel",
     "locked": false,
     "schema_version": 3,
     "solution": true,
     "task": false
    }
   },
   "outputs": [],
   "source": [
    "def gaussSeidel(A,b,eTolerance,maxIteration):\n",
    "    \"\"\"\n",
    "    Solves the system of linear equations Ax = b using the Gauss-Seidel iterative method.\n",
    "    \n",
    "    Parameters:\n",
    "    ----------\n",
    "    A : numpy array (n x n)\n",
    "        The coefficient matrix of the system of equations.\n",
    "        \n",
    "    b : numpy array (n,)\n",
    "        The right-hand side vector of the system of equations.\n",
    "        \n",
    "    eTolerance : float\n",
    "        The error tolerance for convergence. The iteration stops when the relative error\n",
    "        between consecutive approximations is less than or equal to this value.\n",
    "        \n",
    "    maxIteration : int\n",
    "        The maximum number of iterations to perform. If the error tolerance is not met\n",
    "        within this limit, the algorithm returns the current approximation.\n",
    "\n",
    "    Returns:\n",
    "    --------\n",
    "    x : numpy array (n,)\n",
    "        The solution vector x of the system of equations, obtained after convergence or after\n",
    "        reaching the maximum number of iterations.\n",
    "    \"\"\"\n",
    "    # YOUR CODE HERE\n",
    "    raise NotImplementedError()"
   ]
  },
  {
   "cell_type": "code",
   "execution_count": null,
   "metadata": {
    "deletable": false,
    "nbgrader": {
     "cell_type": "code",
     "checksum": "5088afe2fbd37165c9687d3fbd1f4512",
     "grade": true,
     "grade_id": "gaussSeidel_script",
     "locked": false,
     "points": 0,
     "schema_version": 3,
     "solution": true,
     "task": false
    }
   },
   "outputs": [],
   "source": [
    "# Test your code here\n",
    "A = np.array([[ 3. , -0.1, -0.2],\n",
    "       [ 0.1,  7. , -0.3],\n",
    "       [ 0.3, -0.2, 10. ]])\n",
    "eTolerance =  0.001\n",
    "maxIteration =  10\n",
    "b = np.array([ 15.7, -38.6, 142.8])\n",
    "# YOUR CODE HERE\n",
    "raise NotImplementedError()"
   ]
  },
  {
   "cell_type": "markdown",
   "metadata": {
    "deletable": false,
    "editable": false,
    "nbgrader": {
     "cell_type": "markdown",
     "checksum": "caee9e55533d3cab5e6b430996888dce",
     "grade": false,
     "grade_id": "cell-81b1b4a7702",
     "locked": true,
     "schema_version": 3,
     "solution": false,
     "task": false
    }
   },
   "source": [
    "### Test code"
   ]
  },
  {
   "cell_type": "code",
   "execution_count": null,
   "metadata": {
    "deletable": false,
    "editable": false,
    "nbgrader": {
     "cell_type": "code",
     "checksum": "071c472860804d356bd2e4d07d83d825",
     "grade": true,
     "grade_id": "gaussSeidel_test",
     "locked": true,
     "points": 2,
     "schema_version": 3,
     "solution": false,
     "task": false
    }
   },
   "outputs": [],
   "source": [
    "A = np.array([[ 3. , -0.1, -0.2],\n",
    "       [ 0.1,  7. , -0.3],\n",
    "       [ 0.3, -0.2, 10. ]])\n",
    "eTolerance =  0.001\n",
    "maxIteration =  10\n",
    "QandAs = [[np.array([ 15.7, -38.6, 142.8]), np.array([ 6., -5., 14.])],\n",
    "          [np.array([  8.635, -21.23 ,  78.54 ]), np.array([ 3.3 , -2.75,  7.7 ])],\n",
    "          [np.array([ 0., -0.,  0.]), np.array([0., 0., 0.])]]\n",
    "\n",
    "for b, Answer in QandAs: \n",
    "    studentAnswer = gaussSeidel(A.copy(),b,eTolerance,maxIteration)\n",
    "    assert np.allclose(studentAnswer, Answer), f' Did not work for the inputs {b=}. Expected {Answer=}. Got {studentAnswer=}'\n",
    "print(\"All correct. Good work.\")"
   ]
  },
  {
   "cell_type": "markdown",
   "metadata": {
    "deletable": false,
    "editable": false,
    "nbgrader": {
     "cell_type": "markdown",
     "checksum": "24e6f6a2d115c6748182efb3a847400e",
     "grade": false,
     "grade_id": "cell-b9995051ff5786c3",
     "locked": true,
     "schema_version": 3,
     "solution": false,
     "task": false
    }
   },
   "source": [
    "# Solve textbook problems\n",
    "For all textbook problems, report your \n",
    "1. final results, and\n",
    "5. a short conclusion about what your learnt.\n",
    "\n",
    "**Problems:**\n",
    "\n",
    "1. Write a script to solve problem 9.14 from the textbook.Use the **naiveGauss** function you developed to solve it. Store the answer in a numpy array called **x**. Follow the same order of developing the equations as shown in Example 9.11. i.e. `x = [a, T1_2, T2_3, T3_4, T4_5]` where T1_2 is the tension between parachutist 1 and 2, and so on."
   ]
  },
  {
   "cell_type": "code",
   "execution_count": null,
   "metadata": {},
   "outputs": [],
   "source": [
    "import numpy as np\n",
    "A = np.array([[55, 1, 0, 0, 0],\n",
    "             [75, -1, 1, 0, 0],\n",
    "             [60, 0, -1, 1, 0],\n",
    "             [75, 0, 0, -1, 1],\n",
    "             [90, 0, 0, 0, -1]])\n",
    "A/2"
   ]
  },
  {
   "cell_type": "code",
   "execution_count": null,
   "metadata": {
    "deletable": false,
    "nbgrader": {
     "cell_type": "code",
     "checksum": "9e13e61f3defc4958a3eac6f048f338e",
     "grade": false,
     "grade_id": "cell-4b48fad87679551f",
     "locked": false,
     "schema_version": 3,
     "solution": true,
     "task": false
    }
   },
   "outputs": [],
   "source": [
    "# YOUR CODE HERE\n",
    "raise NotImplementedError()"
   ]
  },
  {
   "cell_type": "code",
   "execution_count": null,
   "metadata": {
    "deletable": false,
    "editable": false,
    "nbgrader": {
     "cell_type": "code",
     "checksum": "7965064c807cb8bdb5c82420d4e9c0ed",
     "grade": true,
     "grade_id": "cell-f6c7c9361f0c4d41",
     "locked": true,
     "points": 2,
     "schema_version": 3,
     "solution": false,
     "task": false
    }
   },
   "outputs": [],
   "source": [
    "Answer = np.array([8.2128169,   -2.15492958,   9.63380282, -29.53521127, -53.74647887])\n",
    "assert np.allclose(x, Answer), f' Solution is incorrect. Expected {Answer=}. Got {x=}'\n",
    "print(\"All correct. Good work.\")"
   ]
  },
  {
   "cell_type": "markdown",
   "metadata": {
    "deletable": false,
    "nbgrader": {
     "cell_type": "markdown",
     "checksum": "6c20529834e76eae6e3d5e3d36cd2fd1",
     "grade": true,
     "grade_id": "cell-3fb9a8e3d267cf2d",
     "locked": false,
     "points": 0,
     "schema_version": 3,
     "solution": true,
     "task": false
    }
   },
   "source": [
    "YOUR ANSWER HERE"
   ]
  }
 ],
 "metadata": {
  "kernelspec": {
   "display_name": "Python 3 (ipykernel)",
   "language": "python",
   "name": "python3"
  },
  "language_info": {
   "codemirror_mode": {
    "name": "ipython",
    "version": 3
   },
   "file_extension": ".py",
   "mimetype": "text/x-python",
   "name": "python",
   "nbconvert_exporter": "python",
   "pygments_lexer": "ipython3",
   "version": "3.12.5"
  }
 },
 "nbformat": 4,
 "nbformat_minor": 4
}
